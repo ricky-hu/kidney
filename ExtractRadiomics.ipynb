{
 "cells": [
  {
   "cell_type": "code",
   "execution_count": 5,
   "metadata": {},
   "outputs": [],
   "source": [
    "\"\"\"\n",
    "Created on Apr 28 2025\n",
    "@author: Ricky\n",
    "\"\"\"\n",
    "\n",
    "import six\n",
    "import os  # needed navigate the system to get the input data\n",
    "import radiomics\n",
    "from radiomics import featureextractor\n",
    "import SimpleITK as sitk\n",
    "import numpy as np\n",
    "import nrrd\n",
    "from PIL import Image\n",
    "from matplotlib import pyplot as plt\n",
    "import cv2\n",
    "from glob import glob\n",
    "import pandas as pd"
   ]
  },
  {
   "cell_type": "code",
   "execution_count": 6,
   "metadata": {},
   "outputs": [],
   "source": [
    "#returns list of radiomic features for each mask\n",
    "def computeRadiomicFeatures(imPath, maskPath, display_images = 0):\n",
    "    \n",
    "    #getting paths of directories and images\n",
    "    imName = os.path.splitext(os.path.basename(imPath))[0]\n",
    "    imDir = os.path.dirname(imPath)\n",
    "    maskName = os.path.splitext(os.path.basename(maskPath))[0]\n",
    "    maskDir = os.path.dirname(maskPath)\n",
    "    maskGray = cv2.imread(maskPath, cv2.IMREAD_GRAYSCALE)\n",
    "    imGray = cv2.imread(imPath, cv2.IMREAD_GRAYSCALE)\n",
    "    \n",
    "    #defining radiomics settings\n",
    "    settings = {}\n",
    "    settings['force2D'] = True\n",
    "    #instantiating extractor, 2D shape disabled by default so we have to enable\n",
    "    extractor = featureextractor.RadiomicsFeatureExtractor(**settings)\n",
    "    extractor.enableFeatureClassByName('shape2D')\n",
    "    #print('Extraction parameters:\\n\\t', extractor.settings)\n",
    "    #print('Enabled filters:\\n\\t', extractor.enabledImagetypes)\n",
    "    #print('Enabled features:\\n\\t', extractor.enabledFeatures)\n",
    "\n",
    "    # Ensure the mask is binary (0 or 255)\n",
    "    maskBinary = np.where(maskGray > 0, 1, 0).astype(np.uint8)\n",
    "\n",
    "    # Create the masked image\n",
    "    maskedImage = imGray * maskBinary\n",
    "\n",
    "    image_sitk = sitk.GetImageFromArray(maskedImage)\n",
    "    mask_sitk = sitk.GetImageFromArray(maskBinary)\n",
    "    \n",
    "    if(display_images == 1):\n",
    "        # Display the image, mask, and masked image in subplots\n",
    "        plt.figure(figsize=(15, 5))\n",
    "\n",
    "        # Display the original image\n",
    "        plt.subplot(1, 3, 1)\n",
    "        plt.imshow(imGray, cmap='gray')\n",
    "        plt.title('Original Image')\n",
    "        plt.axis('off')\n",
    "\n",
    "        # Display the mask\n",
    "        plt.subplot(1, 3, 2)\n",
    "        plt.imshow(maskBinary, cmap='gray')\n",
    "        plt.title('Mask')\n",
    "        plt.axis('off')\n",
    "\n",
    "        # Display the masked image\n",
    "        plt.subplot(1, 3, 3)\n",
    "        plt.imshow(maskedImage, cmap='gray')\n",
    "        plt.title('Masked Image')\n",
    "        plt.axis('off')\n",
    "\n",
    "        plt.show()\n",
    "\n",
    "\n",
    "    # Ensure the image and mask have the correct dimensions (2D)\n",
    "    image_sitk.SetSpacing((1.0, 1.0))  # Set a dummy spacing if needed\n",
    "    mask_sitk.SetSpacing((1.0, 1.0))   # Set a dummy spacing if needed\n",
    "\n",
    "    features = extractor.execute(image_sitk, mask_sitk)\n",
    "\n",
    "    featureList = []\n",
    "    featureNames= []\n",
    "    featureList.append(imName)\n",
    "    featureNames.append('imName')\n",
    "    for key, value in six.iteritems(features):\n",
    "        #ignore metadata\n",
    "        if('diagnostics') not in key:\n",
    "            if (type(value) == np.ndarray ):\n",
    "                featureList.append(value.item())\n",
    "            else:\n",
    "                featureList.append(value)\n",
    "                \n",
    "    allKeys = features.keys()\n",
    "    featureNamesTemp = [item for item in allKeys if ('diagnostics' not in item)]\n",
    "    featureNames.extend(featureNamesTemp)\n",
    "            \n",
    "    return featureList, featureNames"
   ]
  },
  {
   "cell_type": "code",
   "execution_count": 16,
   "metadata": {
    "scrolled": true
   },
   "outputs": [
    {
     "name": "stderr",
     "output_type": "stream",
     "text": [
      "Shape features are only available 3D input (for 2D input, use shape2D). Found 2D input\n",
      "GLCM is symmetrical, therefore Sum Average = 2 * Joint Average, only 1 needs to be calculated\n",
      "Shape features are only available 3D input (for 2D input, use shape2D). Found 2D input\n",
      "GLCM is symmetrical, therefore Sum Average = 2 * Joint Average, only 1 needs to be calculated\n",
      "Shape features are only available 3D input (for 2D input, use shape2D). Found 2D input\n"
     ]
    },
    {
     "name": "stdout",
     "output_type": "stream",
     "text": [
      "C:\\Users\\rckyh\\Desktop\\repo\\kidney_ped\\kidney\\\\images_autosegment\\raw\\100__Still_images_5376_IM-0001-0023.png\n",
      "C:\\Users\\rckyh\\Desktop\\repo\\kidney_ped\\kidney\\\\images_autosegment\\raw\\100__Still_images_5376_IM-0001-0034.png\n",
      "C:\\Users\\rckyh\\Desktop\\repo\\kidney_ped\\kidney\\\\images_autosegment\\raw\\101__Still_images_5377_IM-0002-0009.png\n"
     ]
    },
    {
     "name": "stderr",
     "output_type": "stream",
     "text": [
      "GLCM is symmetrical, therefore Sum Average = 2 * Joint Average, only 1 needs to be calculated\n",
      "Shape features are only available 3D input (for 2D input, use shape2D). Found 2D input\n",
      "GLCM is symmetrical, therefore Sum Average = 2 * Joint Average, only 1 needs to be calculated\n",
      "Shape features are only available 3D input (for 2D input, use shape2D). Found 2D input\n",
      "GLCM is symmetrical, therefore Sum Average = 2 * Joint Average, only 1 needs to be calculated\n"
     ]
    },
    {
     "name": "stdout",
     "output_type": "stream",
     "text": [
      "C:\\Users\\rckyh\\Desktop\\repo\\kidney_ped\\kidney\\\\images_autosegment\\raw\\101__Still_images_5377_IM-0002-0020.png\n",
      "C:\\Users\\rckyh\\Desktop\\repo\\kidney_ped\\kidney\\\\images_autosegment\\raw\\102__Still_images_5360_IM-0001-0038.png\n",
      "C:\\Users\\rckyh\\Desktop\\repo\\kidney_ped\\kidney\\\\images_autosegment\\raw\\102__Still_images_5360_IM-0001-0045.png\n"
     ]
    },
    {
     "name": "stderr",
     "output_type": "stream",
     "text": [
      "Shape features are only available 3D input (for 2D input, use shape2D). Found 2D input\n",
      "GLCM is symmetrical, therefore Sum Average = 2 * Joint Average, only 1 needs to be calculated\n",
      "Shape features are only available 3D input (for 2D input, use shape2D). Found 2D input\n",
      "GLCM is symmetrical, therefore Sum Average = 2 * Joint Average, only 1 needs to be calculated\n",
      "Shape features are only available 3D input (for 2D input, use shape2D). Found 2D input\n",
      "GLCM is symmetrical, therefore Sum Average = 2 * Joint Average, only 1 needs to be calculated\n"
     ]
    },
    {
     "name": "stdout",
     "output_type": "stream",
     "text": [
      "C:\\Users\\rckyh\\Desktop\\repo\\kidney_ped\\kidney\\\\images_autosegment\\raw\\103__Still_images_5334_IM-0001-0010.png\n",
      "C:\\Users\\rckyh\\Desktop\\repo\\kidney_ped\\kidney\\\\images_autosegment\\raw\\103__Still_images_5334_IM-0001-0050.png\n",
      "C:\\Users\\rckyh\\Desktop\\repo\\kidney_ped\\kidney\\\\images_autosegment\\raw\\104__Still_images_5338_IM-0001-0027.png\n"
     ]
    },
    {
     "name": "stderr",
     "output_type": "stream",
     "text": [
      "Shape features are only available 3D input (for 2D input, use shape2D). Found 2D input\n",
      "GLCM is symmetrical, therefore Sum Average = 2 * Joint Average, only 1 needs to be calculated\n",
      "Shape features are only available 3D input (for 2D input, use shape2D). Found 2D input\n",
      "GLCM is symmetrical, therefore Sum Average = 2 * Joint Average, only 1 needs to be calculated\n",
      "Shape features are only available 3D input (for 2D input, use shape2D). Found 2D input\n",
      "GLCM is symmetrical, therefore Sum Average = 2 * Joint Average, only 1 needs to be calculated\n"
     ]
    },
    {
     "name": "stdout",
     "output_type": "stream",
     "text": [
      "C:\\Users\\rckyh\\Desktop\\repo\\kidney_ped\\kidney\\\\images_autosegment\\raw\\104__Still_images_5338_IM-0001-0035.png\n",
      "C:\\Users\\rckyh\\Desktop\\repo\\kidney_ped\\kidney\\\\images_autosegment\\raw\\105__Still_images_5334_IM-0001-0045.png\n"
     ]
    },
    {
     "name": "stderr",
     "output_type": "stream",
     "text": [
      "Shape features are only available 3D input (for 2D input, use shape2D). Found 2D input\n",
      "GLCM is symmetrical, therefore Sum Average = 2 * Joint Average, only 1 needs to be calculated\n",
      "Shape features are only available 3D input (for 2D input, use shape2D). Found 2D input\n",
      "GLCM is symmetrical, therefore Sum Average = 2 * Joint Average, only 1 needs to be calculated\n"
     ]
    },
    {
     "name": "stdout",
     "output_type": "stream",
     "text": [
      "C:\\Users\\rckyh\\Desktop\\repo\\kidney_ped\\kidney\\\\images_autosegment\\raw\\105__Still_images_5334_IM-0001-0057.png\n",
      "C:\\Users\\rckyh\\Desktop\\repo\\kidney_ped\\kidney\\\\images_autosegment\\raw\\106__Still_images_5338_IM-0001-0004.png\n"
     ]
    },
    {
     "name": "stderr",
     "output_type": "stream",
     "text": [
      "Shape features are only available 3D input (for 2D input, use shape2D). Found 2D input\n",
      "GLCM is symmetrical, therefore Sum Average = 2 * Joint Average, only 1 needs to be calculated\n",
      "Shape features are only available 3D input (for 2D input, use shape2D). Found 2D input\n",
      "GLCM is symmetrical, therefore Sum Average = 2 * Joint Average, only 1 needs to be calculated\n"
     ]
    },
    {
     "name": "stdout",
     "output_type": "stream",
     "text": [
      "C:\\Users\\rckyh\\Desktop\\repo\\kidney_ped\\kidney\\\\images_autosegment\\raw\\106__Still_images_5338_IM-0001-0025.png\n",
      "C:\\Users\\rckyh\\Desktop\\repo\\kidney_ped\\kidney\\\\images_autosegment\\raw\\107__Still_images_1_5340_IM-0002-0001.png\n"
     ]
    },
    {
     "name": "stderr",
     "output_type": "stream",
     "text": [
      "Shape features are only available 3D input (for 2D input, use shape2D). Found 2D input\n",
      "GLCM is symmetrical, therefore Sum Average = 2 * Joint Average, only 1 needs to be calculated\n",
      "Shape features are only available 3D input (for 2D input, use shape2D). Found 2D input\n",
      "GLCM is symmetrical, therefore Sum Average = 2 * Joint Average, only 1 needs to be calculated\n"
     ]
    },
    {
     "name": "stdout",
     "output_type": "stream",
     "text": [
      "C:\\Users\\rckyh\\Desktop\\repo\\kidney_ped\\kidney\\\\images_autosegment\\raw\\107__Still_images_2_5316_IM-0001-0011.png\n",
      "C:\\Users\\rckyh\\Desktop\\repo\\kidney_ped\\kidney\\\\images_autosegment\\raw\\108__Still_images_5338_IM-0001-0009.png\n",
      "C:\\Users\\rckyh\\Desktop\\repo\\kidney_ped\\kidney\\\\images_autosegment\\raw\\109__Still_images_5350_IM-0001-0039.png\n"
     ]
    },
    {
     "name": "stderr",
     "output_type": "stream",
     "text": [
      "Shape features are only available 3D input (for 2D input, use shape2D). Found 2D input\n",
      "GLCM is symmetrical, therefore Sum Average = 2 * Joint Average, only 1 needs to be calculated\n",
      "Shape features are only available 3D input (for 2D input, use shape2D). Found 2D input\n",
      "GLCM is symmetrical, therefore Sum Average = 2 * Joint Average, only 1 needs to be calculated\n",
      "Shape features are only available 3D input (for 2D input, use shape2D). Found 2D input\n",
      "GLCM is symmetrical, therefore Sum Average = 2 * Joint Average, only 1 needs to be calculated\n"
     ]
    },
    {
     "name": "stdout",
     "output_type": "stream",
     "text": [
      "C:\\Users\\rckyh\\Desktop\\repo\\kidney_ped\\kidney\\\\images_autosegment\\raw\\109__Still_images_5350_IM-0001-0054.png\n",
      "C:\\Users\\rckyh\\Desktop\\repo\\kidney_ped\\kidney\\\\images_autosegment\\raw\\10__still_images_5372_IM-0001-0015.png\n"
     ]
    },
    {
     "name": "stderr",
     "output_type": "stream",
     "text": [
      "Shape features are only available 3D input (for 2D input, use shape2D). Found 2D input\n",
      "GLCM is symmetrical, therefore Sum Average = 2 * Joint Average, only 1 needs to be calculated\n",
      "Shape features are only available 3D input (for 2D input, use shape2D). Found 2D input\n",
      "GLCM is symmetrical, therefore Sum Average = 2 * Joint Average, only 1 needs to be calculated\n"
     ]
    },
    {
     "name": "stdout",
     "output_type": "stream",
     "text": [
      "C:\\Users\\rckyh\\Desktop\\repo\\kidney_ped\\kidney\\\\images_autosegment\\raw\\110__Still_images_5323_IM-0001-0025.png\n",
      "C:\\Users\\rckyh\\Desktop\\repo\\kidney_ped\\kidney\\\\images_autosegment\\raw\\111__Still_images_5339_IM-0001-0003.png\n",
      "C:\\Users\\rckyh\\Desktop\\repo\\kidney_ped\\kidney\\\\images_autosegment\\raw\\111__Still_images_5339_IM-0001-0012.png\n"
     ]
    },
    {
     "name": "stderr",
     "output_type": "stream",
     "text": [
      "Shape features are only available 3D input (for 2D input, use shape2D). Found 2D input\n",
      "GLCM is symmetrical, therefore Sum Average = 2 * Joint Average, only 1 needs to be calculated\n",
      "Shape features are only available 3D input (for 2D input, use shape2D). Found 2D input\n",
      "GLCM is symmetrical, therefore Sum Average = 2 * Joint Average, only 1 needs to be calculated\n",
      "Shape features are only available 3D input (for 2D input, use shape2D). Found 2D input\n",
      "GLCM is symmetrical, therefore Sum Average = 2 * Joint Average, only 1 needs to be calculated\n"
     ]
    },
    {
     "name": "stdout",
     "output_type": "stream",
     "text": [
      "C:\\Users\\rckyh\\Desktop\\repo\\kidney_ped\\kidney\\\\images_autosegment\\raw\\112__Still_images_5332_IM-0001-0007.png\n",
      "C:\\Users\\rckyh\\Desktop\\repo\\kidney_ped\\kidney\\\\images_autosegment\\raw\\113__Still_images_5328_IM-0001-0034.png\n",
      "C:\\Users\\rckyh\\Desktop\\repo\\kidney_ped\\kidney\\\\images_autosegment\\raw\\113__Still_images_5328_IM-0001-0049.png\n"
     ]
    },
    {
     "name": "stderr",
     "output_type": "stream",
     "text": [
      "Shape features are only available 3D input (for 2D input, use shape2D). Found 2D input\n",
      "GLCM is symmetrical, therefore Sum Average = 2 * Joint Average, only 1 needs to be calculated\n",
      "Shape features are only available 3D input (for 2D input, use shape2D). Found 2D input\n",
      "GLCM is symmetrical, therefore Sum Average = 2 * Joint Average, only 1 needs to be calculated\n",
      "Shape features are only available 3D input (for 2D input, use shape2D). Found 2D input\n",
      "GLCM is symmetrical, therefore Sum Average = 2 * Joint Average, only 1 needs to be calculated\n"
     ]
    },
    {
     "name": "stdout",
     "output_type": "stream",
     "text": [
      "C:\\Users\\rckyh\\Desktop\\repo\\kidney_ped\\kidney\\\\images_autosegment\\raw\\114__Still_images_5354_IM-0001-0019.png\n",
      "C:\\Users\\rckyh\\Desktop\\repo\\kidney_ped\\kidney\\\\images_autosegment\\raw\\115__Still_images_5327_IM-0001-0010.png\n",
      "C:\\Users\\rckyh\\Desktop\\repo\\kidney_ped\\kidney\\\\images_autosegment\\raw\\115__Still_images_5327_IM-0001-0021.png\n"
     ]
    },
    {
     "name": "stderr",
     "output_type": "stream",
     "text": [
      "Shape features are only available 3D input (for 2D input, use shape2D). Found 2D input\n",
      "GLCM is symmetrical, therefore Sum Average = 2 * Joint Average, only 1 needs to be calculated\n",
      "Shape features are only available 3D input (for 2D input, use shape2D). Found 2D input\n",
      "GLCM is symmetrical, therefore Sum Average = 2 * Joint Average, only 1 needs to be calculated\n",
      "Shape features are only available 3D input (for 2D input, use shape2D). Found 2D input\n",
      "GLCM is symmetrical, therefore Sum Average = 2 * Joint Average, only 1 needs to be calculated\n"
     ]
    },
    {
     "name": "stdout",
     "output_type": "stream",
     "text": [
      "C:\\Users\\rckyh\\Desktop\\repo\\kidney_ped\\kidney\\\\images_autosegment\\raw\\116__Still_images_5334_IM-0001-0010.png\n",
      "C:\\Users\\rckyh\\Desktop\\repo\\kidney_ped\\kidney\\\\images_autosegment\\raw\\116__Still_images_5334_IM-0001-0020.png\n",
      "C:\\Users\\rckyh\\Desktop\\repo\\kidney_ped\\kidney\\\\images_autosegment\\raw\\117__Still_images_5355_IM-0002-0034.png\n"
     ]
    },
    {
     "name": "stderr",
     "output_type": "stream",
     "text": [
      "Shape features are only available 3D input (for 2D input, use shape2D). Found 2D input\n",
      "GLCM is symmetrical, therefore Sum Average = 2 * Joint Average, only 1 needs to be calculated\n",
      "Shape features are only available 3D input (for 2D input, use shape2D). Found 2D input\n",
      "GLCM is symmetrical, therefore Sum Average = 2 * Joint Average, only 1 needs to be calculated\n",
      "Shape features are only available 3D input (for 2D input, use shape2D). Found 2D input\n",
      "GLCM is symmetrical, therefore Sum Average = 2 * Joint Average, only 1 needs to be calculated\n"
     ]
    },
    {
     "name": "stdout",
     "output_type": "stream",
     "text": [
      "C:\\Users\\rckyh\\Desktop\\repo\\kidney_ped\\kidney\\\\images_autosegment\\raw\\117__Still_images_5355_IM-0002-0047.png\n",
      "C:\\Users\\rckyh\\Desktop\\repo\\kidney_ped\\kidney\\\\images_autosegment\\raw\\118__Still_images_5353_IM-0001-0019.png\n"
     ]
    },
    {
     "name": "stderr",
     "output_type": "stream",
     "text": [
      "Shape features are only available 3D input (for 2D input, use shape2D). Found 2D input\n",
      "GLCM is symmetrical, therefore Sum Average = 2 * Joint Average, only 1 needs to be calculated\n",
      "Shape features are only available 3D input (for 2D input, use shape2D). Found 2D input\n",
      "GLCM is symmetrical, therefore Sum Average = 2 * Joint Average, only 1 needs to be calculated\n"
     ]
    },
    {
     "name": "stdout",
     "output_type": "stream",
     "text": [
      "C:\\Users\\rckyh\\Desktop\\repo\\kidney_ped\\kidney\\\\images_autosegment\\raw\\119__Still_images_5365_IM-0001-0004.png\n",
      "C:\\Users\\rckyh\\Desktop\\repo\\kidney_ped\\kidney\\\\images_autosegment\\raw\\119__Still_images_5365_IM-0001-0009.png\n",
      "C:\\Users\\rckyh\\Desktop\\repo\\kidney_ped\\kidney\\\\images_autosegment\\raw\\11__Still_images_5396_IM-0001-0027.png\n"
     ]
    },
    {
     "name": "stderr",
     "output_type": "stream",
     "text": [
      "Shape features are only available 3D input (for 2D input, use shape2D). Found 2D input\n",
      "GLCM is symmetrical, therefore Sum Average = 2 * Joint Average, only 1 needs to be calculated\n",
      "Shape features are only available 3D input (for 2D input, use shape2D). Found 2D input\n",
      "GLCM is symmetrical, therefore Sum Average = 2 * Joint Average, only 1 needs to be calculated\n",
      "Shape features are only available 3D input (for 2D input, use shape2D). Found 2D input\n",
      "GLCM is symmetrical, therefore Sum Average = 2 * Joint Average, only 1 needs to be calculated\n"
     ]
    },
    {
     "name": "stdout",
     "output_type": "stream",
     "text": [
      "C:\\Users\\rckyh\\Desktop\\repo\\kidney_ped\\kidney\\\\images_autosegment\\raw\\11__Still_images_5396_IM-0001-0034.png\n",
      "C:\\Users\\rckyh\\Desktop\\repo\\kidney_ped\\kidney\\\\images_autosegment\\raw\\120__Still_images_5368_IM-0002-0012.png\n"
     ]
    },
    {
     "name": "stderr",
     "output_type": "stream",
     "text": [
      "Shape features are only available 3D input (for 2D input, use shape2D). Found 2D input\n",
      "GLCM is symmetrical, therefore Sum Average = 2 * Joint Average, only 1 needs to be calculated\n",
      "Shape features are only available 3D input (for 2D input, use shape2D). Found 2D input\n",
      "GLCM is symmetrical, therefore Sum Average = 2 * Joint Average, only 1 needs to be calculated\n"
     ]
    },
    {
     "name": "stdout",
     "output_type": "stream",
     "text": [
      "C:\\Users\\rckyh\\Desktop\\repo\\kidney_ped\\kidney\\\\images_autosegment\\raw\\120__Still_images_5368_IM-0002-0045.png\n",
      "C:\\Users\\rckyh\\Desktop\\repo\\kidney_ped\\kidney\\\\images_autosegment\\raw\\121__Still_images_5378_IM-0001-0010.png\n",
      "C:\\Users\\rckyh\\Desktop\\repo\\kidney_ped\\kidney\\\\images_autosegment\\raw\\121__Still_images_5378_IM-0001-0057.png\n"
     ]
    },
    {
     "name": "stderr",
     "output_type": "stream",
     "text": [
      "Shape features are only available 3D input (for 2D input, use shape2D). Found 2D input\n",
      "GLCM is symmetrical, therefore Sum Average = 2 * Joint Average, only 1 needs to be calculated\n",
      "Shape features are only available 3D input (for 2D input, use shape2D). Found 2D input\n",
      "GLCM is symmetrical, therefore Sum Average = 2 * Joint Average, only 1 needs to be calculated\n",
      "Shape features are only available 3D input (for 2D input, use shape2D). Found 2D input\n",
      "GLCM is symmetrical, therefore Sum Average = 2 * Joint Average, only 1 needs to be calculated\n"
     ]
    },
    {
     "name": "stdout",
     "output_type": "stream",
     "text": [
      "C:\\Users\\rckyh\\Desktop\\repo\\kidney_ped\\kidney\\\\images_autosegment\\raw\\122__Still_images_5392_IM-0001-0003.png\n",
      "C:\\Users\\rckyh\\Desktop\\repo\\kidney_ped\\kidney\\\\images_autosegment\\raw\\122__Still_images_5392_IM-0001-0017.png\n",
      "C:\\Users\\rckyh\\Desktop\\repo\\kidney_ped\\kidney\\\\images_autosegment\\raw\\123__Still_images_5402_IM-0001-0014.png\n"
     ]
    },
    {
     "name": "stderr",
     "output_type": "stream",
     "text": [
      "Shape features are only available 3D input (for 2D input, use shape2D). Found 2D input\n",
      "GLCM is symmetrical, therefore Sum Average = 2 * Joint Average, only 1 needs to be calculated\n",
      "Shape features are only available 3D input (for 2D input, use shape2D). Found 2D input\n",
      "GLCM is symmetrical, therefore Sum Average = 2 * Joint Average, only 1 needs to be calculated\n",
      "Shape features are only available 3D input (for 2D input, use shape2D). Found 2D input\n",
      "GLCM is symmetrical, therefore Sum Average = 2 * Joint Average, only 1 needs to be calculated\n"
     ]
    },
    {
     "name": "stdout",
     "output_type": "stream",
     "text": [
      "C:\\Users\\rckyh\\Desktop\\repo\\kidney_ped\\kidney\\\\images_autosegment\\raw\\123__Still_images_5402_IM-0001-0022.png\n",
      "C:\\Users\\rckyh\\Desktop\\repo\\kidney_ped\\kidney\\\\images_autosegment\\raw\\124__Still_images_5353_IM-0001-0010.png\n"
     ]
    },
    {
     "name": "stderr",
     "output_type": "stream",
     "text": [
      "Shape features are only available 3D input (for 2D input, use shape2D). Found 2D input\n",
      "GLCM is symmetrical, therefore Sum Average = 2 * Joint Average, only 1 needs to be calculated\n",
      "Shape features are only available 3D input (for 2D input, use shape2D). Found 2D input\n",
      "GLCM is symmetrical, therefore Sum Average = 2 * Joint Average, only 1 needs to be calculated\n"
     ]
    },
    {
     "name": "stdout",
     "output_type": "stream",
     "text": [
      "C:\\Users\\rckyh\\Desktop\\repo\\kidney_ped\\kidney\\\\images_autosegment\\raw\\124__Still_images_5353_IM-0001-0026.png\n",
      "C:\\Users\\rckyh\\Desktop\\repo\\kidney_ped\\kidney\\\\images_autosegment\\raw\\125__Still_images_5384_IM-0001-0010.png\n",
      "C:\\Users\\rckyh\\Desktop\\repo\\kidney_ped\\kidney\\\\images_autosegment\\raw\\125__Still_images_5384_IM-0001-0018.png\n"
     ]
    },
    {
     "name": "stderr",
     "output_type": "stream",
     "text": [
      "Shape features are only available 3D input (for 2D input, use shape2D). Found 2D input\n",
      "GLCM is symmetrical, therefore Sum Average = 2 * Joint Average, only 1 needs to be calculated\n",
      "Shape features are only available 3D input (for 2D input, use shape2D). Found 2D input\n",
      "GLCM is symmetrical, therefore Sum Average = 2 * Joint Average, only 1 needs to be calculated\n",
      "Shape features are only available 3D input (for 2D input, use shape2D). Found 2D input\n",
      "GLCM is symmetrical, therefore Sum Average = 2 * Joint Average, only 1 needs to be calculated\n"
     ]
    },
    {
     "name": "stdout",
     "output_type": "stream",
     "text": [
      "C:\\Users\\rckyh\\Desktop\\repo\\kidney_ped\\kidney\\\\images_autosegment\\raw\\126__Still_images_5391_IM-0001-0012.png\n",
      "C:\\Users\\rckyh\\Desktop\\repo\\kidney_ped\\kidney\\\\images_autosegment\\raw\\126__Still_images_5391_IM-0001-0036.png\n",
      "C:\\Users\\rckyh\\Desktop\\repo\\kidney_ped\\kidney\\\\images_autosegment\\raw\\127__Still_images_5379_IM-0001-0049.png\n"
     ]
    },
    {
     "name": "stderr",
     "output_type": "stream",
     "text": [
      "Shape features are only available 3D input (for 2D input, use shape2D). Found 2D input\n",
      "GLCM is symmetrical, therefore Sum Average = 2 * Joint Average, only 1 needs to be calculated\n",
      "Shape features are only available 3D input (for 2D input, use shape2D). Found 2D input\n",
      "GLCM is symmetrical, therefore Sum Average = 2 * Joint Average, only 1 needs to be calculated\n",
      "Shape features are only available 3D input (for 2D input, use shape2D). Found 2D input\n",
      "GLCM is symmetrical, therefore Sum Average = 2 * Joint Average, only 1 needs to be calculated\n"
     ]
    },
    {
     "name": "stdout",
     "output_type": "stream",
     "text": [
      "C:\\Users\\rckyh\\Desktop\\repo\\kidney_ped\\kidney\\\\images_autosegment\\raw\\127__Still_images_5379_IM-0001-0071.png\n",
      "C:\\Users\\rckyh\\Desktop\\repo\\kidney_ped\\kidney\\\\images_autosegment\\raw\\128__Still_images_5365_IM-0001-0008.png\n"
     ]
    },
    {
     "name": "stderr",
     "output_type": "stream",
     "text": [
      "Shape features are only available 3D input (for 2D input, use shape2D). Found 2D input\n",
      "GLCM is symmetrical, therefore Sum Average = 2 * Joint Average, only 1 needs to be calculated\n",
      "Shape features are only available 3D input (for 2D input, use shape2D). Found 2D input\n",
      "GLCM is symmetrical, therefore Sum Average = 2 * Joint Average, only 1 needs to be calculated\n"
     ]
    },
    {
     "name": "stdout",
     "output_type": "stream",
     "text": [
      "C:\\Users\\rckyh\\Desktop\\repo\\kidney_ped\\kidney\\\\images_autosegment\\raw\\128__Still_images_5365_IM-0001-0019.png\n",
      "C:\\Users\\rckyh\\Desktop\\repo\\kidney_ped\\kidney\\\\images_autosegment\\raw\\129__Still_images_5356_IM-0001-0067.png\n",
      "C:\\Users\\rckyh\\Desktop\\repo\\kidney_ped\\kidney\\\\images_autosegment\\raw\\129__Still_images_5356_IM-0001-0068.png\n"
     ]
    },
    {
     "name": "stderr",
     "output_type": "stream",
     "text": [
      "Shape features are only available 3D input (for 2D input, use shape2D). Found 2D input\n",
      "GLCM is symmetrical, therefore Sum Average = 2 * Joint Average, only 1 needs to be calculated\n",
      "Shape features are only available 3D input (for 2D input, use shape2D). Found 2D input\n",
      "GLCM is symmetrical, therefore Sum Average = 2 * Joint Average, only 1 needs to be calculated\n",
      "Shape features are only available 3D input (for 2D input, use shape2D). Found 2D input\n",
      "GLCM is symmetrical, therefore Sum Average = 2 * Joint Average, only 1 needs to be calculated\n"
     ]
    },
    {
     "name": "stdout",
     "output_type": "stream",
     "text": [
      "C:\\Users\\rckyh\\Desktop\\repo\\kidney_ped\\kidney\\\\images_autosegment\\raw\\12__Still_images_5314_IM-0001-0048.png\n",
      "C:\\Users\\rckyh\\Desktop\\repo\\kidney_ped\\kidney\\\\images_autosegment\\raw\\12__Still_images_5314_IM-0001-0062.png\n"
     ]
    },
    {
     "name": "stderr",
     "output_type": "stream",
     "text": [
      "Shape features are only available 3D input (for 2D input, use shape2D). Found 2D input\n",
      "GLCM is symmetrical, therefore Sum Average = 2 * Joint Average, only 1 needs to be calculated\n",
      "Shape features are only available 3D input (for 2D input, use shape2D). Found 2D input\n",
      "GLCM is symmetrical, therefore Sum Average = 2 * Joint Average, only 1 needs to be calculated\n"
     ]
    },
    {
     "name": "stdout",
     "output_type": "stream",
     "text": [
      "C:\\Users\\rckyh\\Desktop\\repo\\kidney_ped\\kidney\\\\images_autosegment\\raw\\130__Still_images_5415_IM-0001-0039.png\n",
      "C:\\Users\\rckyh\\Desktop\\repo\\kidney_ped\\kidney\\\\images_autosegment\\raw\\130__Still_images_5415_IM-0001-0049.png\n",
      "C:\\Users\\rckyh\\Desktop\\repo\\kidney_ped\\kidney\\\\images_autosegment\\raw\\131__Still_images_5399_IM-0003-0006.png\n"
     ]
    },
    {
     "name": "stderr",
     "output_type": "stream",
     "text": [
      "Shape features are only available 3D input (for 2D input, use shape2D). Found 2D input\n",
      "GLCM is symmetrical, therefore Sum Average = 2 * Joint Average, only 1 needs to be calculated\n",
      "Shape features are only available 3D input (for 2D input, use shape2D). Found 2D input\n",
      "GLCM is symmetrical, therefore Sum Average = 2 * Joint Average, only 1 needs to be calculated\n",
      "Shape features are only available 3D input (for 2D input, use shape2D). Found 2D input\n",
      "GLCM is symmetrical, therefore Sum Average = 2 * Joint Average, only 1 needs to be calculated\n"
     ]
    },
    {
     "name": "stdout",
     "output_type": "stream",
     "text": [
      "C:\\Users\\rckyh\\Desktop\\repo\\kidney_ped\\kidney\\\\images_autosegment\\raw\\131__Still_images_5399_IM-0003-0026.png\n",
      "C:\\Users\\rckyh\\Desktop\\repo\\kidney_ped\\kidney\\\\images_autosegment\\raw\\132__Still_images_5307_IM-0001-0004.png\n"
     ]
    },
    {
     "name": "stderr",
     "output_type": "stream",
     "text": [
      "Shape features are only available 3D input (for 2D input, use shape2D). Found 2D input\n",
      "GLCM is symmetrical, therefore Sum Average = 2 * Joint Average, only 1 needs to be calculated\n",
      "Shape features are only available 3D input (for 2D input, use shape2D). Found 2D input\n",
      "GLCM is symmetrical, therefore Sum Average = 2 * Joint Average, only 1 needs to be calculated\n"
     ]
    },
    {
     "name": "stdout",
     "output_type": "stream",
     "text": [
      "C:\\Users\\rckyh\\Desktop\\repo\\kidney_ped\\kidney\\\\images_autosegment\\raw\\133__Still_images_5373_IM-0001-0036.png\n",
      "C:\\Users\\rckyh\\Desktop\\repo\\kidney_ped\\kidney\\\\images_autosegment\\raw\\134__Still_images_5402_IM-0002-0031.png\n",
      "C:\\Users\\rckyh\\Desktop\\repo\\kidney_ped\\kidney\\\\images_autosegment\\raw\\134__Still_images_5402_IM-0002-0045.png\n"
     ]
    },
    {
     "name": "stderr",
     "output_type": "stream",
     "text": [
      "Shape features are only available 3D input (for 2D input, use shape2D). Found 2D input\n",
      "GLCM is symmetrical, therefore Sum Average = 2 * Joint Average, only 1 needs to be calculated\n",
      "Shape features are only available 3D input (for 2D input, use shape2D). Found 2D input\n",
      "GLCM is symmetrical, therefore Sum Average = 2 * Joint Average, only 1 needs to be calculated\n",
      "Shape features are only available 3D input (for 2D input, use shape2D). Found 2D input\n",
      "GLCM is symmetrical, therefore Sum Average = 2 * Joint Average, only 1 needs to be calculated\n"
     ]
    },
    {
     "name": "stdout",
     "output_type": "stream",
     "text": [
      "C:\\Users\\rckyh\\Desktop\\repo\\kidney_ped\\kidney\\\\images_autosegment\\raw\\135__Still_images_5372_IM-0001-0013.png\n",
      "C:\\Users\\rckyh\\Desktop\\repo\\kidney_ped\\kidney\\\\images_autosegment\\raw\\135__Still_images_5372_IM-0001-0023.png\n",
      "C:\\Users\\rckyh\\Desktop\\repo\\kidney_ped\\kidney\\\\images_autosegment\\raw\\136__Still_images_5372_IM-0001-0021.png\n"
     ]
    },
    {
     "name": "stderr",
     "output_type": "stream",
     "text": [
      "Shape features are only available 3D input (for 2D input, use shape2D). Found 2D input\n",
      "GLCM is symmetrical, therefore Sum Average = 2 * Joint Average, only 1 needs to be calculated\n",
      "Shape features are only available 3D input (for 2D input, use shape2D). Found 2D input\n",
      "GLCM is symmetrical, therefore Sum Average = 2 * Joint Average, only 1 needs to be calculated\n",
      "Shape features are only available 3D input (for 2D input, use shape2D). Found 2D input\n",
      "GLCM is symmetrical, therefore Sum Average = 2 * Joint Average, only 1 needs to be calculated\n"
     ]
    },
    {
     "name": "stdout",
     "output_type": "stream",
     "text": [
      "C:\\Users\\rckyh\\Desktop\\repo\\kidney_ped\\kidney\\\\images_autosegment\\raw\\136__Still_images_5372_IM-0001-0049.png\n",
      "C:\\Users\\rckyh\\Desktop\\repo\\kidney_ped\\kidney\\\\images_autosegment\\raw\\137__Still_images_5312_IM-0001-0036.png\n",
      "C:\\Users\\rckyh\\Desktop\\repo\\kidney_ped\\kidney\\\\images_autosegment\\raw\\137__Still_images_5312_IM-0001-0057.png\n"
     ]
    },
    {
     "name": "stderr",
     "output_type": "stream",
     "text": [
      "Shape features are only available 3D input (for 2D input, use shape2D). Found 2D input\n",
      "GLCM is symmetrical, therefore Sum Average = 2 * Joint Average, only 1 needs to be calculated\n",
      "Shape features are only available 3D input (for 2D input, use shape2D). Found 2D input\n",
      "GLCM is symmetrical, therefore Sum Average = 2 * Joint Average, only 1 needs to be calculated\n",
      "Shape features are only available 3D input (for 2D input, use shape2D). Found 2D input\n",
      "GLCM is symmetrical, therefore Sum Average = 2 * Joint Average, only 1 needs to be calculated\n"
     ]
    },
    {
     "name": "stdout",
     "output_type": "stream",
     "text": [
      "C:\\Users\\rckyh\\Desktop\\repo\\kidney_ped\\kidney\\\\images_autosegment\\raw\\138__Still_images_5352_IM-0001-0005.png\n",
      "C:\\Users\\rckyh\\Desktop\\repo\\kidney_ped\\kidney\\\\images_autosegment\\raw\\139__Still_images_5337_IM-0001-0066.png\n",
      "C:\\Users\\rckyh\\Desktop\\repo\\kidney_ped\\kidney\\\\images_autosegment\\raw\\139__Still_images_5337_IM-0001-0079.png\n"
     ]
    },
    {
     "name": "stderr",
     "output_type": "stream",
     "text": [
      "Shape features are only available 3D input (for 2D input, use shape2D). Found 2D input\n",
      "GLCM is symmetrical, therefore Sum Average = 2 * Joint Average, only 1 needs to be calculated\n",
      "Shape features are only available 3D input (for 2D input, use shape2D). Found 2D input\n",
      "GLCM is symmetrical, therefore Sum Average = 2 * Joint Average, only 1 needs to be calculated\n",
      "Shape features are only available 3D input (for 2D input, use shape2D). Found 2D input\n",
      "GLCM is symmetrical, therefore Sum Average = 2 * Joint Average, only 1 needs to be calculated\n"
     ]
    },
    {
     "name": "stdout",
     "output_type": "stream",
     "text": [
      "C:\\Users\\rckyh\\Desktop\\repo\\kidney_ped\\kidney\\\\images_autosegment\\raw\\13__Still_images_5327_IM-0001-0013.png\n",
      "C:\\Users\\rckyh\\Desktop\\repo\\kidney_ped\\kidney\\\\images_autosegment\\raw\\13__Still_images_5327_IM-0001-0027.png\n",
      "C:\\Users\\rckyh\\Desktop\\repo\\kidney_ped\\kidney\\\\images_autosegment\\raw\\140__Still_images_5342_IM-0001-0013.png\n"
     ]
    },
    {
     "name": "stderr",
     "output_type": "stream",
     "text": [
      "Shape features are only available 3D input (for 2D input, use shape2D). Found 2D input\n",
      "GLCM is symmetrical, therefore Sum Average = 2 * Joint Average, only 1 needs to be calculated\n",
      "Shape features are only available 3D input (for 2D input, use shape2D). Found 2D input\n",
      "GLCM is symmetrical, therefore Sum Average = 2 * Joint Average, only 1 needs to be calculated\n",
      "Shape features are only available 3D input (for 2D input, use shape2D). Found 2D input\n",
      "GLCM is symmetrical, therefore Sum Average = 2 * Joint Average, only 1 needs to be calculated\n"
     ]
    },
    {
     "name": "stdout",
     "output_type": "stream",
     "text": [
      "C:\\Users\\rckyh\\Desktop\\repo\\kidney_ped\\kidney\\\\images_autosegment\\raw\\141__Still_images_5339_IM-0001-0008.png\n",
      "C:\\Users\\rckyh\\Desktop\\repo\\kidney_ped\\kidney\\\\images_autosegment\\raw\\141__Still_images_5339_IM-0001-0025.png\n"
     ]
    },
    {
     "name": "stderr",
     "output_type": "stream",
     "text": [
      "Shape features are only available 3D input (for 2D input, use shape2D). Found 2D input\n",
      "GLCM is symmetrical, therefore Sum Average = 2 * Joint Average, only 1 needs to be calculated\n",
      "Shape features are only available 3D input (for 2D input, use shape2D). Found 2D input\n",
      "GLCM is symmetrical, therefore Sum Average = 2 * Joint Average, only 1 needs to be calculated\n"
     ]
    },
    {
     "name": "stdout",
     "output_type": "stream",
     "text": [
      "C:\\Users\\rckyh\\Desktop\\repo\\kidney_ped\\kidney\\\\images_autosegment\\raw\\142__Still_images_5327_IM-0001-0005.png\n",
      "C:\\Users\\rckyh\\Desktop\\repo\\kidney_ped\\kidney\\\\images_autosegment\\raw\\142__Still_images_5327_IM-0001-0015.png\n",
      "C:\\Users\\rckyh\\Desktop\\repo\\kidney_ped\\kidney\\\\images_autosegment\\raw\\143__Still_images_5361_IM-0001-0016.png\n"
     ]
    },
    {
     "name": "stderr",
     "output_type": "stream",
     "text": [
      "Shape features are only available 3D input (for 2D input, use shape2D). Found 2D input\n",
      "GLCM is symmetrical, therefore Sum Average = 2 * Joint Average, only 1 needs to be calculated\n",
      "Shape features are only available 3D input (for 2D input, use shape2D). Found 2D input\n",
      "GLCM is symmetrical, therefore Sum Average = 2 * Joint Average, only 1 needs to be calculated\n",
      "Shape features are only available 3D input (for 2D input, use shape2D). Found 2D input\n",
      "GLCM is symmetrical, therefore Sum Average = 2 * Joint Average, only 1 needs to be calculated\n"
     ]
    },
    {
     "name": "stdout",
     "output_type": "stream",
     "text": [
      "C:\\Users\\rckyh\\Desktop\\repo\\kidney_ped\\kidney\\\\images_autosegment\\raw\\143__Still_images_5361_IM-0001-0022.png\n",
      "C:\\Users\\rckyh\\Desktop\\repo\\kidney_ped\\kidney\\\\images_autosegment\\raw\\144__Still_images_5359_IM-0001-0050.png\n",
      "C:\\Users\\rckyh\\Desktop\\repo\\kidney_ped\\kidney\\\\images_autosegment\\raw\\144__Still_images_5359_IM-0001-0062.png\n"
     ]
    },
    {
     "name": "stderr",
     "output_type": "stream",
     "text": [
      "Shape features are only available 3D input (for 2D input, use shape2D). Found 2D input\n",
      "GLCM is symmetrical, therefore Sum Average = 2 * Joint Average, only 1 needs to be calculated\n",
      "Shape features are only available 3D input (for 2D input, use shape2D). Found 2D input\n",
      "GLCM is symmetrical, therefore Sum Average = 2 * Joint Average, only 1 needs to be calculated\n",
      "Shape features are only available 3D input (for 2D input, use shape2D). Found 2D input\n",
      "GLCM is symmetrical, therefore Sum Average = 2 * Joint Average, only 1 needs to be calculated\n"
     ]
    },
    {
     "name": "stdout",
     "output_type": "stream",
     "text": [
      "C:\\Users\\rckyh\\Desktop\\repo\\kidney_ped\\kidney\\\\images_autosegment\\raw\\145__Still_images_5347_IM-0002-0065.png\n",
      "C:\\Users\\rckyh\\Desktop\\repo\\kidney_ped\\kidney\\\\images_autosegment\\raw\\145__Still_images_5347_IM-0002-0074.png\n",
      "C:\\Users\\rckyh\\Desktop\\repo\\kidney_ped\\kidney\\\\images_autosegment\\raw\\146__Still_images_5359_IM-0001-0046.png\n"
     ]
    },
    {
     "name": "stderr",
     "output_type": "stream",
     "text": [
      "Shape features are only available 3D input (for 2D input, use shape2D). Found 2D input\n",
      "GLCM is symmetrical, therefore Sum Average = 2 * Joint Average, only 1 needs to be calculated\n",
      "Shape features are only available 3D input (for 2D input, use shape2D). Found 2D input\n",
      "GLCM is symmetrical, therefore Sum Average = 2 * Joint Average, only 1 needs to be calculated\n",
      "Shape features are only available 3D input (for 2D input, use shape2D). Found 2D input\n",
      "GLCM is symmetrical, therefore Sum Average = 2 * Joint Average, only 1 needs to be calculated\n"
     ]
    },
    {
     "name": "stdout",
     "output_type": "stream",
     "text": [
      "C:\\Users\\rckyh\\Desktop\\repo\\kidney_ped\\kidney\\\\images_autosegment\\raw\\146__Still_images_5359_IM-0001-0054.png\n",
      "C:\\Users\\rckyh\\Desktop\\repo\\kidney_ped\\kidney\\\\images_autosegment\\raw\\147__Still_images_5340_IM-0001-0044.png\n"
     ]
    },
    {
     "name": "stderr",
     "output_type": "stream",
     "text": [
      "Shape features are only available 3D input (for 2D input, use shape2D). Found 2D input\n",
      "GLCM is symmetrical, therefore Sum Average = 2 * Joint Average, only 1 needs to be calculated\n",
      "Shape features are only available 3D input (for 2D input, use shape2D). Found 2D input\n",
      "GLCM is symmetrical, therefore Sum Average = 2 * Joint Average, only 1 needs to be calculated\n"
     ]
    },
    {
     "name": "stdout",
     "output_type": "stream",
     "text": [
      "C:\\Users\\rckyh\\Desktop\\repo\\kidney_ped\\kidney\\\\images_autosegment\\raw\\148__Still_images_5337_IM-0001-0050.png\n",
      "C:\\Users\\rckyh\\Desktop\\repo\\kidney_ped\\kidney\\\\images_autosegment\\raw\\148__Still_images_5337_IM-0001-0069.png\n"
     ]
    },
    {
     "name": "stderr",
     "output_type": "stream",
     "text": [
      "Shape features are only available 3D input (for 2D input, use shape2D). Found 2D input\n",
      "GLCM is symmetrical, therefore Sum Average = 2 * Joint Average, only 1 needs to be calculated\n",
      "Shape features are only available 3D input (for 2D input, use shape2D). Found 2D input\n",
      "GLCM is symmetrical, therefore Sum Average = 2 * Joint Average, only 1 needs to be calculated\n"
     ]
    },
    {
     "name": "stdout",
     "output_type": "stream",
     "text": [
      "C:\\Users\\rckyh\\Desktop\\repo\\kidney_ped\\kidney\\\\images_autosegment\\raw\\149__Still_images_5346_IM-0001-0012.png\n",
      "C:\\Users\\rckyh\\Desktop\\repo\\kidney_ped\\kidney\\\\images_autosegment\\raw\\14__Still_images_5373_IM-0001-0021.png\n",
      "C:\\Users\\rckyh\\Desktop\\repo\\kidney_ped\\kidney\\\\images_autosegment\\raw\\150__Still_images_5376_IM-0001-0010.png\n"
     ]
    },
    {
     "name": "stderr",
     "output_type": "stream",
     "text": [
      "Shape features are only available 3D input (for 2D input, use shape2D). Found 2D input\n",
      "GLCM is symmetrical, therefore Sum Average = 2 * Joint Average, only 1 needs to be calculated\n",
      "Shape features are only available 3D input (for 2D input, use shape2D). Found 2D input\n",
      "GLCM is symmetrical, therefore Sum Average = 2 * Joint Average, only 1 needs to be calculated\n",
      "Shape features are only available 3D input (for 2D input, use shape2D). Found 2D input\n",
      "GLCM is symmetrical, therefore Sum Average = 2 * Joint Average, only 1 needs to be calculated\n"
     ]
    },
    {
     "name": "stdout",
     "output_type": "stream",
     "text": [
      "C:\\Users\\rckyh\\Desktop\\repo\\kidney_ped\\kidney\\\\images_autosegment\\raw\\150__Still_images_5376_IM-0001-0023.png\n",
      "C:\\Users\\rckyh\\Desktop\\repo\\kidney_ped\\kidney\\\\images_autosegment\\raw\\151__Still_images_5364_IM-0001-0046.png\n",
      "C:\\Users\\rckyh\\Desktop\\repo\\kidney_ped\\kidney\\\\images_autosegment\\raw\\151__Still_images_5364_IM-0001-0062.png\n"
     ]
    },
    {
     "name": "stderr",
     "output_type": "stream",
     "text": [
      "Shape features are only available 3D input (for 2D input, use shape2D). Found 2D input\n",
      "GLCM is symmetrical, therefore Sum Average = 2 * Joint Average, only 1 needs to be calculated\n",
      "Shape features are only available 3D input (for 2D input, use shape2D). Found 2D input\n",
      "GLCM is symmetrical, therefore Sum Average = 2 * Joint Average, only 1 needs to be calculated\n",
      "Shape features are only available 3D input (for 2D input, use shape2D). Found 2D input\n",
      "GLCM is symmetrical, therefore Sum Average = 2 * Joint Average, only 1 needs to be calculated\n"
     ]
    },
    {
     "name": "stdout",
     "output_type": "stream",
     "text": [
      "C:\\Users\\rckyh\\Desktop\\repo\\kidney_ped\\kidney\\\\images_autosegment\\raw\\152__Still_images_5353_IM-0001-0008.png\n",
      "C:\\Users\\rckyh\\Desktop\\repo\\kidney_ped\\kidney\\\\images_autosegment\\raw\\152__Still_images_5353_IM-0001-0019.png\n",
      "C:\\Users\\rckyh\\Desktop\\repo\\kidney_ped\\kidney\\\\images_autosegment\\raw\\153__Still_images_5345_IM-0001-0004.png\n"
     ]
    },
    {
     "name": "stderr",
     "output_type": "stream",
     "text": [
      "Shape features are only available 3D input (for 2D input, use shape2D). Found 2D input\n",
      "GLCM is symmetrical, therefore Sum Average = 2 * Joint Average, only 1 needs to be calculated\n",
      "Shape features are only available 3D input (for 2D input, use shape2D). Found 2D input\n",
      "GLCM is symmetrical, therefore Sum Average = 2 * Joint Average, only 1 needs to be calculated\n",
      "Shape features are only available 3D input (for 2D input, use shape2D). Found 2D input\n",
      "GLCM is symmetrical, therefore Sum Average = 2 * Joint Average, only 1 needs to be calculated\n"
     ]
    },
    {
     "name": "stdout",
     "output_type": "stream",
     "text": [
      "C:\\Users\\rckyh\\Desktop\\repo\\kidney_ped\\kidney\\\\images_autosegment\\raw\\153__Still_images_5345_IM-0001-0015.png\n",
      "C:\\Users\\rckyh\\Desktop\\repo\\kidney_ped\\kidney\\\\images_autosegment\\raw\\154__Still_images_5338_IM-0001-0011.png\n",
      "C:\\Users\\rckyh\\Desktop\\repo\\kidney_ped\\kidney\\\\images_autosegment\\raw\\154__Still_images_5338_IM-0001-0017.png\n"
     ]
    },
    {
     "name": "stderr",
     "output_type": "stream",
     "text": [
      "Shape features are only available 3D input (for 2D input, use shape2D). Found 2D input\n",
      "GLCM is symmetrical, therefore Sum Average = 2 * Joint Average, only 1 needs to be calculated\n",
      "Shape features are only available 3D input (for 2D input, use shape2D). Found 2D input\n",
      "GLCM is symmetrical, therefore Sum Average = 2 * Joint Average, only 1 needs to be calculated\n",
      "Shape features are only available 3D input (for 2D input, use shape2D). Found 2D input\n",
      "GLCM is symmetrical, therefore Sum Average = 2 * Joint Average, only 1 needs to be calculated\n"
     ]
    },
    {
     "name": "stdout",
     "output_type": "stream",
     "text": [
      "C:\\Users\\rckyh\\Desktop\\repo\\kidney_ped\\kidney\\\\images_autosegment\\raw\\155__Still_images_5342_IM-0001-0055.png\n",
      "C:\\Users\\rckyh\\Desktop\\repo\\kidney_ped\\kidney\\\\images_autosegment\\raw\\155__Still_images_5342_IM-0001-0069.png\n"
     ]
    },
    {
     "name": "stderr",
     "output_type": "stream",
     "text": [
      "Shape features are only available 3D input (for 2D input, use shape2D). Found 2D input\n",
      "GLCM is symmetrical, therefore Sum Average = 2 * Joint Average, only 1 needs to be calculated\n",
      "Shape features are only available 3D input (for 2D input, use shape2D). Found 2D input\n",
      "GLCM is symmetrical, therefore Sum Average = 2 * Joint Average, only 1 needs to be calculated\n"
     ]
    },
    {
     "name": "stdout",
     "output_type": "stream",
     "text": [
      "C:\\Users\\rckyh\\Desktop\\repo\\kidney_ped\\kidney\\\\images_autosegment\\raw\\156__Still_images_5382_IM-0001-0019.png\n",
      "C:\\Users\\rckyh\\Desktop\\repo\\kidney_ped\\kidney\\\\images_autosegment\\raw\\156__Still_images_5382_IM-0001-0026.png\n",
      "C:\\Users\\rckyh\\Desktop\\repo\\kidney_ped\\kidney\\\\images_autosegment\\raw\\157__Still_images_5404_IM-0001-0034.png\n"
     ]
    },
    {
     "name": "stderr",
     "output_type": "stream",
     "text": [
      "Shape features are only available 3D input (for 2D input, use shape2D). Found 2D input\n",
      "GLCM is symmetrical, therefore Sum Average = 2 * Joint Average, only 1 needs to be calculated\n",
      "Shape features are only available 3D input (for 2D input, use shape2D). Found 2D input\n",
      "GLCM is symmetrical, therefore Sum Average = 2 * Joint Average, only 1 needs to be calculated\n",
      "Shape features are only available 3D input (for 2D input, use shape2D). Found 2D input\n",
      "GLCM is symmetrical, therefore Sum Average = 2 * Joint Average, only 1 needs to be calculated\n"
     ]
    },
    {
     "name": "stdout",
     "output_type": "stream",
     "text": [
      "C:\\Users\\rckyh\\Desktop\\repo\\kidney_ped\\kidney\\\\images_autosegment\\raw\\157__Still_images_5404_IM-0001-0040.png\n",
      "C:\\Users\\rckyh\\Desktop\\repo\\kidney_ped\\kidney\\\\images_autosegment\\raw\\158__Still_images_5390_IM-0001-0009.png\n",
      "C:\\Users\\rckyh\\Desktop\\repo\\kidney_ped\\kidney\\\\images_autosegment\\raw\\158__Still_images_5390_IM-0001-0023.png\n"
     ]
    },
    {
     "name": "stderr",
     "output_type": "stream",
     "text": [
      "Shape features are only available 3D input (for 2D input, use shape2D). Found 2D input\n",
      "GLCM is symmetrical, therefore Sum Average = 2 * Joint Average, only 1 needs to be calculated\n",
      "Shape features are only available 3D input (for 2D input, use shape2D). Found 2D input\n",
      "GLCM is symmetrical, therefore Sum Average = 2 * Joint Average, only 1 needs to be calculated\n",
      "Shape features are only available 3D input (for 2D input, use shape2D). Found 2D input\n",
      "GLCM is symmetrical, therefore Sum Average = 2 * Joint Average, only 1 needs to be calculated\n"
     ]
    },
    {
     "name": "stdout",
     "output_type": "stream",
     "text": [
      "C:\\Users\\rckyh\\Desktop\\repo\\kidney_ped\\kidney\\\\images_autosegment\\raw\\159__Still_images_5362_IM-0001-0031.png\n",
      "C:\\Users\\rckyh\\Desktop\\repo\\kidney_ped\\kidney\\\\images_autosegment\\raw\\159__Still_images_5362_IM-0001-0034.png\n",
      "C:\\Users\\rckyh\\Desktop\\repo\\kidney_ped\\kidney\\\\images_autosegment\\raw\\15__Still_images_5370_IM-0001-0006.png\n"
     ]
    },
    {
     "name": "stderr",
     "output_type": "stream",
     "text": [
      "Shape features are only available 3D input (for 2D input, use shape2D). Found 2D input\n",
      "GLCM is symmetrical, therefore Sum Average = 2 * Joint Average, only 1 needs to be calculated\n",
      "Shape features are only available 3D input (for 2D input, use shape2D). Found 2D input\n",
      "GLCM is symmetrical, therefore Sum Average = 2 * Joint Average, only 1 needs to be calculated\n",
      "Shape features are only available 3D input (for 2D input, use shape2D). Found 2D input\n",
      "GLCM is symmetrical, therefore Sum Average = 2 * Joint Average, only 1 needs to be calculated\n"
     ]
    },
    {
     "name": "stdout",
     "output_type": "stream",
     "text": [
      "C:\\Users\\rckyh\\Desktop\\repo\\kidney_ped\\kidney\\\\images_autosegment\\raw\\15__Still_images_5370_IM-0001-0026.png\n",
      "C:\\Users\\rckyh\\Desktop\\repo\\kidney_ped\\kidney\\\\images_autosegment\\raw\\160__Still_images_5341_IM-0001-0029.png\n",
      "C:\\Users\\rckyh\\Desktop\\repo\\kidney_ped\\kidney\\\\images_autosegment\\raw\\160__Still_images_5341_IM-0001-0040.png\n"
     ]
    },
    {
     "name": "stderr",
     "output_type": "stream",
     "text": [
      "Shape features are only available 3D input (for 2D input, use shape2D). Found 2D input\n",
      "GLCM is symmetrical, therefore Sum Average = 2 * Joint Average, only 1 needs to be calculated\n",
      "Shape features are only available 3D input (for 2D input, use shape2D). Found 2D input\n",
      "GLCM is symmetrical, therefore Sum Average = 2 * Joint Average, only 1 needs to be calculated\n",
      "Shape features are only available 3D input (for 2D input, use shape2D). Found 2D input\n",
      "GLCM is symmetrical, therefore Sum Average = 2 * Joint Average, only 1 needs to be calculated\n"
     ]
    },
    {
     "name": "stdout",
     "output_type": "stream",
     "text": [
      "C:\\Users\\rckyh\\Desktop\\repo\\kidney_ped\\kidney\\\\images_autosegment\\raw\\161__Still_images_5319_IM-0001-0012.png\n",
      "C:\\Users\\rckyh\\Desktop\\repo\\kidney_ped\\kidney\\\\images_autosegment\\raw\\161__Still_images_5319_IM-0001-0045.png\n",
      "C:\\Users\\rckyh\\Desktop\\repo\\kidney_ped\\kidney\\\\images_autosegment\\raw\\162__Still_images_5312_IM-0001-0052.png\n"
     ]
    },
    {
     "name": "stderr",
     "output_type": "stream",
     "text": [
      "Shape features are only available 3D input (for 2D input, use shape2D). Found 2D input\n",
      "GLCM is symmetrical, therefore Sum Average = 2 * Joint Average, only 1 needs to be calculated\n",
      "Shape features are only available 3D input (for 2D input, use shape2D). Found 2D input\n",
      "GLCM is symmetrical, therefore Sum Average = 2 * Joint Average, only 1 needs to be calculated\n",
      "Shape features are only available 3D input (for 2D input, use shape2D). Found 2D input\n",
      "GLCM is symmetrical, therefore Sum Average = 2 * Joint Average, only 1 needs to be calculated\n"
     ]
    },
    {
     "name": "stdout",
     "output_type": "stream",
     "text": [
      "C:\\Users\\rckyh\\Desktop\\repo\\kidney_ped\\kidney\\\\images_autosegment\\raw\\162__Still_images_5312_IM-0001-0068.png\n",
      "C:\\Users\\rckyh\\Desktop\\repo\\kidney_ped\\kidney\\\\images_autosegment\\raw\\163__Still_images_5319_IM-0001-0027.png\n",
      "C:\\Users\\rckyh\\Desktop\\repo\\kidney_ped\\kidney\\\\images_autosegment\\raw\\163__Still_images_5319_IM-0001-0059.png\n"
     ]
    },
    {
     "name": "stderr",
     "output_type": "stream",
     "text": [
      "Shape features are only available 3D input (for 2D input, use shape2D). Found 2D input\n",
      "GLCM is symmetrical, therefore Sum Average = 2 * Joint Average, only 1 needs to be calculated\n",
      "Shape features are only available 3D input (for 2D input, use shape2D). Found 2D input\n",
      "GLCM is symmetrical, therefore Sum Average = 2 * Joint Average, only 1 needs to be calculated\n",
      "Shape features are only available 3D input (for 2D input, use shape2D). Found 2D input\n",
      "GLCM is symmetrical, therefore Sum Average = 2 * Joint Average, only 1 needs to be calculated\n"
     ]
    },
    {
     "name": "stdout",
     "output_type": "stream",
     "text": [
      "C:\\Users\\rckyh\\Desktop\\repo\\kidney_ped\\kidney\\\\images_autosegment\\raw\\164__Still_images_5327_IM-0001-0013.png\n",
      "C:\\Users\\rckyh\\Desktop\\repo\\kidney_ped\\kidney\\\\images_autosegment\\raw\\164__Still_images_5327_IM-0001-0046.png\n"
     ]
    },
    {
     "name": "stderr",
     "output_type": "stream",
     "text": [
      "Shape features are only available 3D input (for 2D input, use shape2D). Found 2D input\n",
      "GLCM is symmetrical, therefore Sum Average = 2 * Joint Average, only 1 needs to be calculated\n",
      "Shape features are only available 3D input (for 2D input, use shape2D). Found 2D input\n",
      "GLCM is symmetrical, therefore Sum Average = 2 * Joint Average, only 1 needs to be calculated\n"
     ]
    },
    {
     "name": "stdout",
     "output_type": "stream",
     "text": [
      "C:\\Users\\rckyh\\Desktop\\repo\\kidney_ped\\kidney\\\\images_autosegment\\raw\\167__Still_images_5336_IM-0001-0011.png\n",
      "C:\\Users\\rckyh\\Desktop\\repo\\kidney_ped\\kidney\\\\images_autosegment\\raw\\167__Still_images_5336_IM-0001-0058.png\n",
      "C:\\Users\\rckyh\\Desktop\\repo\\kidney_ped\\kidney\\\\images_autosegment\\raw\\168__Still_images_5359_IM-0001-0010.png\n"
     ]
    },
    {
     "name": "stderr",
     "output_type": "stream",
     "text": [
      "Shape features are only available 3D input (for 2D input, use shape2D). Found 2D input\n",
      "GLCM is symmetrical, therefore Sum Average = 2 * Joint Average, only 1 needs to be calculated\n",
      "Shape features are only available 3D input (for 2D input, use shape2D). Found 2D input\n",
      "GLCM is symmetrical, therefore Sum Average = 2 * Joint Average, only 1 needs to be calculated\n",
      "Shape features are only available 3D input (for 2D input, use shape2D). Found 2D input\n",
      "GLCM is symmetrical, therefore Sum Average = 2 * Joint Average, only 1 needs to be calculated\n"
     ]
    },
    {
     "name": "stdout",
     "output_type": "stream",
     "text": [
      "C:\\Users\\rckyh\\Desktop\\repo\\kidney_ped\\kidney\\\\images_autosegment\\raw\\168__Still_images_5359_IM-0001-0038.png\n",
      "C:\\Users\\rckyh\\Desktop\\repo\\kidney_ped\\kidney\\\\images_autosegment\\raw\\169__Still_images_5361_IM-0001-0005.png\n",
      "C:\\Users\\rckyh\\Desktop\\repo\\kidney_ped\\kidney\\\\images_autosegment\\raw\\169__Still_images_5361_IM-0001-0018.png\n"
     ]
    },
    {
     "name": "stderr",
     "output_type": "stream",
     "text": [
      "Shape features are only available 3D input (for 2D input, use shape2D). Found 2D input\n",
      "GLCM is symmetrical, therefore Sum Average = 2 * Joint Average, only 1 needs to be calculated\n",
      "Shape features are only available 3D input (for 2D input, use shape2D). Found 2D input\n",
      "GLCM is symmetrical, therefore Sum Average = 2 * Joint Average, only 1 needs to be calculated\n",
      "Shape features are only available 3D input (for 2D input, use shape2D). Found 2D input\n",
      "GLCM is symmetrical, therefore Sum Average = 2 * Joint Average, only 1 needs to be calculated\n"
     ]
    },
    {
     "name": "stdout",
     "output_type": "stream",
     "text": [
      "C:\\Users\\rckyh\\Desktop\\repo\\kidney_ped\\kidney\\\\images_autosegment\\raw\\16__Still_images_5339_IM-0001-0009.png\n",
      "C:\\Users\\rckyh\\Desktop\\repo\\kidney_ped\\kidney\\\\images_autosegment\\raw\\16__Still_images_5339_IM-0001-0058.png\n",
      "C:\\Users\\rckyh\\Desktop\\repo\\kidney_ped\\kidney\\\\images_autosegment\\raw\\170__Still_images_5361_IM-0003-0010.png\n"
     ]
    },
    {
     "name": "stderr",
     "output_type": "stream",
     "text": [
      "Shape features are only available 3D input (for 2D input, use shape2D). Found 2D input\n",
      "GLCM is symmetrical, therefore Sum Average = 2 * Joint Average, only 1 needs to be calculated\n",
      "Shape features are only available 3D input (for 2D input, use shape2D). Found 2D input\n",
      "GLCM is symmetrical, therefore Sum Average = 2 * Joint Average, only 1 needs to be calculated\n",
      "Shape features are only available 3D input (for 2D input, use shape2D). Found 2D input\n",
      "GLCM is symmetrical, therefore Sum Average = 2 * Joint Average, only 1 needs to be calculated\n"
     ]
    },
    {
     "name": "stdout",
     "output_type": "stream",
     "text": [
      "C:\\Users\\rckyh\\Desktop\\repo\\kidney_ped\\kidney\\\\images_autosegment\\raw\\170__Still_images_5361_IM-0003-0023.png\n",
      "C:\\Users\\rckyh\\Desktop\\repo\\kidney_ped\\kidney\\\\images_autosegment\\raw\\171__Still_images_5337_IM-0001-0008.png\n",
      "C:\\Users\\rckyh\\Desktop\\repo\\kidney_ped\\kidney\\\\images_autosegment\\raw\\171__Still_images_5337_IM-0001-0021.png\n"
     ]
    },
    {
     "name": "stderr",
     "output_type": "stream",
     "text": [
      "Shape features are only available 3D input (for 2D input, use shape2D). Found 2D input\n",
      "GLCM is symmetrical, therefore Sum Average = 2 * Joint Average, only 1 needs to be calculated\n",
      "Shape features are only available 3D input (for 2D input, use shape2D). Found 2D input\n",
      "GLCM is symmetrical, therefore Sum Average = 2 * Joint Average, only 1 needs to be calculated\n",
      "Shape features are only available 3D input (for 2D input, use shape2D). Found 2D input\n",
      "GLCM is symmetrical, therefore Sum Average = 2 * Joint Average, only 1 needs to be calculated\n"
     ]
    },
    {
     "name": "stdout",
     "output_type": "stream",
     "text": [
      "C:\\Users\\rckyh\\Desktop\\repo\\kidney_ped\\kidney\\\\images_autosegment\\raw\\172__Still_images_5335_IM-0001-0011.png\n",
      "C:\\Users\\rckyh\\Desktop\\repo\\kidney_ped\\kidney\\\\images_autosegment\\raw\\172__Still_images_5335_IM-0001-0058.png\n",
      "C:\\Users\\rckyh\\Desktop\\repo\\kidney_ped\\kidney\\\\images_autosegment\\raw\\175__Still_images_5362_IM-0001-0008.png\n"
     ]
    },
    {
     "name": "stderr",
     "output_type": "stream",
     "text": [
      "Shape features are only available 3D input (for 2D input, use shape2D). Found 2D input\n",
      "GLCM is symmetrical, therefore Sum Average = 2 * Joint Average, only 1 needs to be calculated\n",
      "Shape features are only available 3D input (for 2D input, use shape2D). Found 2D input\n",
      "GLCM is symmetrical, therefore Sum Average = 2 * Joint Average, only 1 needs to be calculated\n",
      "Shape features are only available 3D input (for 2D input, use shape2D). Found 2D input\n",
      "GLCM is symmetrical, therefore Sum Average = 2 * Joint Average, only 1 needs to be calculated\n"
     ]
    },
    {
     "name": "stdout",
     "output_type": "stream",
     "text": [
      "C:\\Users\\rckyh\\Desktop\\repo\\kidney_ped\\kidney\\\\images_autosegment\\raw\\176__Still_images_5349_IM-0001-0014.png\n",
      "C:\\Users\\rckyh\\Desktop\\repo\\kidney_ped\\kidney\\\\images_autosegment\\raw\\176__Still_images_5349_IM-0001-0068.png\n"
     ]
    },
    {
     "name": "stderr",
     "output_type": "stream",
     "text": [
      "Shape features are only available 3D input (for 2D input, use shape2D). Found 2D input\n",
      "GLCM is symmetrical, therefore Sum Average = 2 * Joint Average, only 1 needs to be calculated\n",
      "Shape features are only available 3D input (for 2D input, use shape2D). Found 2D input\n",
      "GLCM is symmetrical, therefore Sum Average = 2 * Joint Average, only 1 needs to be calculated\n"
     ]
    },
    {
     "name": "stdout",
     "output_type": "stream",
     "text": [
      "C:\\Users\\rckyh\\Desktop\\repo\\kidney_ped\\kidney\\\\images_autosegment\\raw\\177__Still_images_5341_IM-0001-0035.png\n",
      "C:\\Users\\rckyh\\Desktop\\repo\\kidney_ped\\kidney\\\\images_autosegment\\raw\\177__Still_images_5341_IM-0001-0052.png\n"
     ]
    },
    {
     "name": "stderr",
     "output_type": "stream",
     "text": [
      "Shape features are only available 3D input (for 2D input, use shape2D). Found 2D input\n",
      "GLCM is symmetrical, therefore Sum Average = 2 * Joint Average, only 1 needs to be calculated\n",
      "Shape features are only available 3D input (for 2D input, use shape2D). Found 2D input\n",
      "GLCM is symmetrical, therefore Sum Average = 2 * Joint Average, only 1 needs to be calculated\n"
     ]
    },
    {
     "name": "stdout",
     "output_type": "stream",
     "text": [
      "C:\\Users\\rckyh\\Desktop\\repo\\kidney_ped\\kidney\\\\images_autosegment\\raw\\178__Still_images_5319_IM-0001-0043.png\n",
      "C:\\Users\\rckyh\\Desktop\\repo\\kidney_ped\\kidney\\\\images_autosegment\\raw\\178__Still_images_5319_IM-0001-0058.png\n",
      "C:\\Users\\rckyh\\Desktop\\repo\\kidney_ped\\kidney\\\\images_autosegment\\raw\\179__Still_images_5329_IM-0002-0006.png\n"
     ]
    },
    {
     "name": "stderr",
     "output_type": "stream",
     "text": [
      "Shape features are only available 3D input (for 2D input, use shape2D). Found 2D input\n",
      "GLCM is symmetrical, therefore Sum Average = 2 * Joint Average, only 1 needs to be calculated\n",
      "Shape features are only available 3D input (for 2D input, use shape2D). Found 2D input\n",
      "GLCM is symmetrical, therefore Sum Average = 2 * Joint Average, only 1 needs to be calculated\n",
      "Shape features are only available 3D input (for 2D input, use shape2D). Found 2D input\n",
      "GLCM is symmetrical, therefore Sum Average = 2 * Joint Average, only 1 needs to be calculated\n"
     ]
    },
    {
     "name": "stdout",
     "output_type": "stream",
     "text": [
      "C:\\Users\\rckyh\\Desktop\\repo\\kidney_ped\\kidney\\\\images_autosegment\\raw\\179__Still_images_5329_IM-0002-0038.png\n",
      "C:\\Users\\rckyh\\Desktop\\repo\\kidney_ped\\kidney\\\\images_autosegment\\raw\\17__Still_images_5326_IM-0001-0014.png\n",
      "C:\\Users\\rckyh\\Desktop\\repo\\kidney_ped\\kidney\\\\images_autosegment\\raw\\181__Still_images_5353_IM-0001-0009.png\n"
     ]
    },
    {
     "name": "stderr",
     "output_type": "stream",
     "text": [
      "Shape features are only available 3D input (for 2D input, use shape2D). Found 2D input\n",
      "GLCM is symmetrical, therefore Sum Average = 2 * Joint Average, only 1 needs to be calculated\n",
      "Shape features are only available 3D input (for 2D input, use shape2D). Found 2D input\n",
      "GLCM is symmetrical, therefore Sum Average = 2 * Joint Average, only 1 needs to be calculated\n",
      "Shape features are only available 3D input (for 2D input, use shape2D). Found 2D input\n",
      "GLCM is symmetrical, therefore Sum Average = 2 * Joint Average, only 1 needs to be calculated\n"
     ]
    },
    {
     "name": "stdout",
     "output_type": "stream",
     "text": [
      "C:\\Users\\rckyh\\Desktop\\repo\\kidney_ped\\kidney\\\\images_autosegment\\raw\\181__Still_images_5353_IM-0001-0042.png\n",
      "C:\\Users\\rckyh\\Desktop\\repo\\kidney_ped\\kidney\\\\images_autosegment\\raw\\182__Still_images_5341_IM-0001-0044.png\n",
      "C:\\Users\\rckyh\\Desktop\\repo\\kidney_ped\\kidney\\\\images_autosegment\\raw\\182__Still_images_5341_IM-0001-0053.png\n"
     ]
    },
    {
     "name": "stderr",
     "output_type": "stream",
     "text": [
      "Shape features are only available 3D input (for 2D input, use shape2D). Found 2D input\n",
      "GLCM is symmetrical, therefore Sum Average = 2 * Joint Average, only 1 needs to be calculated\n",
      "Shape features are only available 3D input (for 2D input, use shape2D). Found 2D input\n",
      "GLCM is symmetrical, therefore Sum Average = 2 * Joint Average, only 1 needs to be calculated\n",
      "Shape features are only available 3D input (for 2D input, use shape2D). Found 2D input\n",
      "GLCM is symmetrical, therefore Sum Average = 2 * Joint Average, only 1 needs to be calculated\n"
     ]
    },
    {
     "name": "stdout",
     "output_type": "stream",
     "text": [
      "C:\\Users\\rckyh\\Desktop\\repo\\kidney_ped\\kidney\\\\images_autosegment\\raw\\183__Still_images_5368_IM-0001-0011.png\n",
      "C:\\Users\\rckyh\\Desktop\\repo\\kidney_ped\\kidney\\\\images_autosegment\\raw\\183__Still_images_5368_IM-0001-0026.png\n",
      "C:\\Users\\rckyh\\Desktop\\repo\\kidney_ped\\kidney\\\\images_autosegment\\raw\\184__Still_images_5347_IM-0001-0011.png\n"
     ]
    },
    {
     "name": "stderr",
     "output_type": "stream",
     "text": [
      "Shape features are only available 3D input (for 2D input, use shape2D). Found 2D input\n",
      "GLCM is symmetrical, therefore Sum Average = 2 * Joint Average, only 1 needs to be calculated\n",
      "Shape features are only available 3D input (for 2D input, use shape2D). Found 2D input\n",
      "GLCM is symmetrical, therefore Sum Average = 2 * Joint Average, only 1 needs to be calculated\n",
      "Shape features are only available 3D input (for 2D input, use shape2D). Found 2D input\n",
      "GLCM is symmetrical, therefore Sum Average = 2 * Joint Average, only 1 needs to be calculated\n"
     ]
    },
    {
     "name": "stdout",
     "output_type": "stream",
     "text": [
      "C:\\Users\\rckyh\\Desktop\\repo\\kidney_ped\\kidney\\\\images_autosegment\\raw\\184__Still_images_5347_IM-0001-0056.png\n",
      "C:\\Users\\rckyh\\Desktop\\repo\\kidney_ped\\kidney\\\\images_autosegment\\raw\\185__Still_images_5369_IM-0001-0005.png\n",
      "C:\\Users\\rckyh\\Desktop\\repo\\kidney_ped\\kidney\\\\images_autosegment\\raw\\185__Still_images_5369_IM-0001-0018.png\n"
     ]
    },
    {
     "name": "stderr",
     "output_type": "stream",
     "text": [
      "Shape features are only available 3D input (for 2D input, use shape2D). Found 2D input\n",
      "GLCM is symmetrical, therefore Sum Average = 2 * Joint Average, only 1 needs to be calculated\n",
      "Shape features are only available 3D input (for 2D input, use shape2D). Found 2D input\n",
      "GLCM is symmetrical, therefore Sum Average = 2 * Joint Average, only 1 needs to be calculated\n",
      "Shape features are only available 3D input (for 2D input, use shape2D). Found 2D input\n",
      "GLCM is symmetrical, therefore Sum Average = 2 * Joint Average, only 1 needs to be calculated\n"
     ]
    },
    {
     "name": "stdout",
     "output_type": "stream",
     "text": [
      "C:\\Users\\rckyh\\Desktop\\repo\\kidney_ped\\kidney\\\\images_autosegment\\raw\\186__Still_images_5357_IM-0001-0007.png\n",
      "C:\\Users\\rckyh\\Desktop\\repo\\kidney_ped\\kidney\\\\images_autosegment\\raw\\186__Still_images_5357_IM-0001-0012.png\n",
      "C:\\Users\\rckyh\\Desktop\\repo\\kidney_ped\\kidney\\\\images_autosegment\\raw\\187__Still_images_5390_IM-0001-0009.png\n"
     ]
    },
    {
     "name": "stderr",
     "output_type": "stream",
     "text": [
      "Shape features are only available 3D input (for 2D input, use shape2D). Found 2D input\n",
      "GLCM is symmetrical, therefore Sum Average = 2 * Joint Average, only 1 needs to be calculated\n",
      "Shape features are only available 3D input (for 2D input, use shape2D). Found 2D input\n",
      "GLCM is symmetrical, therefore Sum Average = 2 * Joint Average, only 1 needs to be calculated\n",
      "Shape features are only available 3D input (for 2D input, use shape2D). Found 2D input\n",
      "GLCM is symmetrical, therefore Sum Average = 2 * Joint Average, only 1 needs to be calculated\n"
     ]
    },
    {
     "name": "stdout",
     "output_type": "stream",
     "text": [
      "C:\\Users\\rckyh\\Desktop\\repo\\kidney_ped\\kidney\\\\images_autosegment\\raw\\188__Still_images_5411_IM-0001-0012.png\n",
      "C:\\Users\\rckyh\\Desktop\\repo\\kidney_ped\\kidney\\\\images_autosegment\\raw\\188__Still_images_5411_IM-0001-0046.png\n",
      "C:\\Users\\rckyh\\Desktop\\repo\\kidney_ped\\kidney\\\\images_autosegment\\raw\\18__Still_images_5335_IM-0001-0018.png\n"
     ]
    },
    {
     "name": "stderr",
     "output_type": "stream",
     "text": [
      "Shape features are only available 3D input (for 2D input, use shape2D). Found 2D input\n",
      "GLCM is symmetrical, therefore Sum Average = 2 * Joint Average, only 1 needs to be calculated\n",
      "Shape features are only available 3D input (for 2D input, use shape2D). Found 2D input\n",
      "GLCM is symmetrical, therefore Sum Average = 2 * Joint Average, only 1 needs to be calculated\n",
      "Shape features are only available 3D input (for 2D input, use shape2D). Found 2D input\n",
      "GLCM is symmetrical, therefore Sum Average = 2 * Joint Average, only 1 needs to be calculated\n"
     ]
    },
    {
     "name": "stdout",
     "output_type": "stream",
     "text": [
      "C:\\Users\\rckyh\\Desktop\\repo\\kidney_ped\\kidney\\\\images_autosegment\\raw\\190__Still_images_5385_IM-0001-0019.png\n",
      "C:\\Users\\rckyh\\Desktop\\repo\\kidney_ped\\kidney\\\\images_autosegment\\raw\\191__Still_images_5369_IM-0001-0007.png\n"
     ]
    },
    {
     "name": "stderr",
     "output_type": "stream",
     "text": [
      "Shape features are only available 3D input (for 2D input, use shape2D). Found 2D input\n",
      "GLCM is symmetrical, therefore Sum Average = 2 * Joint Average, only 1 needs to be calculated\n",
      "Shape features are only available 3D input (for 2D input, use shape2D). Found 2D input\n",
      "GLCM is symmetrical, therefore Sum Average = 2 * Joint Average, only 1 needs to be calculated\n"
     ]
    },
    {
     "name": "stdout",
     "output_type": "stream",
     "text": [
      "C:\\Users\\rckyh\\Desktop\\repo\\kidney_ped\\kidney\\\\images_autosegment\\raw\\191__Still_images_5369_IM-0001-0042.png\n",
      "C:\\Users\\rckyh\\Desktop\\repo\\kidney_ped\\kidney\\\\images_autosegment\\raw\\192__Still_images_5336_IM-0005-0004.png\n",
      "C:\\Users\\rckyh\\Desktop\\repo\\kidney_ped\\kidney\\\\images_autosegment\\raw\\192__Still_images_5336_IM-0005-0015.png\n"
     ]
    },
    {
     "name": "stderr",
     "output_type": "stream",
     "text": [
      "Shape features are only available 3D input (for 2D input, use shape2D). Found 2D input\n",
      "GLCM is symmetrical, therefore Sum Average = 2 * Joint Average, only 1 needs to be calculated\n",
      "Shape features are only available 3D input (for 2D input, use shape2D). Found 2D input\n",
      "GLCM is symmetrical, therefore Sum Average = 2 * Joint Average, only 1 needs to be calculated\n",
      "Shape features are only available 3D input (for 2D input, use shape2D). Found 2D input\n",
      "GLCM is symmetrical, therefore Sum Average = 2 * Joint Average, only 1 needs to be calculated\n"
     ]
    },
    {
     "name": "stdout",
     "output_type": "stream",
     "text": [
      "C:\\Users\\rckyh\\Desktop\\repo\\kidney_ped\\kidney\\\\images_autosegment\\raw\\193__Still_images_5346_IM-0001-0039.png\n",
      "C:\\Users\\rckyh\\Desktop\\repo\\kidney_ped\\kidney\\\\images_autosegment\\raw\\193__Still_images_5346_IM-0001-0058.png\n"
     ]
    },
    {
     "name": "stderr",
     "output_type": "stream",
     "text": [
      "Shape features are only available 3D input (for 2D input, use shape2D). Found 2D input\n",
      "GLCM is symmetrical, therefore Sum Average = 2 * Joint Average, only 1 needs to be calculated\n",
      "Shape features are only available 3D input (for 2D input, use shape2D). Found 2D input\n",
      "GLCM is symmetrical, therefore Sum Average = 2 * Joint Average, only 1 needs to be calculated\n"
     ]
    },
    {
     "name": "stdout",
     "output_type": "stream",
     "text": [
      "C:\\Users\\rckyh\\Desktop\\repo\\kidney_ped\\kidney\\\\images_autosegment\\raw\\194__Still_images_5346_IM-0001-0009.png\n",
      "C:\\Users\\rckyh\\Desktop\\repo\\kidney_ped\\kidney\\\\images_autosegment\\raw\\194__Still_images_5346_IM-0001-0030.png\n"
     ]
    },
    {
     "name": "stderr",
     "output_type": "stream",
     "text": [
      "Shape features are only available 3D input (for 2D input, use shape2D). Found 2D input\n",
      "GLCM is symmetrical, therefore Sum Average = 2 * Joint Average, only 1 needs to be calculated\n",
      "Shape features are only available 3D input (for 2D input, use shape2D). Found 2D input\n",
      "GLCM is symmetrical, therefore Sum Average = 2 * Joint Average, only 1 needs to be calculated\n"
     ]
    },
    {
     "name": "stdout",
     "output_type": "stream",
     "text": [
      "C:\\Users\\rckyh\\Desktop\\repo\\kidney_ped\\kidney\\\\images_autosegment\\raw\\195__Still_images_5325_IM-0001-0007.png\n",
      "C:\\Users\\rckyh\\Desktop\\repo\\kidney_ped\\kidney\\\\images_autosegment\\raw\\195__Still_images_5325_IM-0001-0017.png\n",
      "C:\\Users\\rckyh\\Desktop\\repo\\kidney_ped\\kidney\\\\images_autosegment\\raw\\196__Still_images_5366_IM-0001-0008.png\n"
     ]
    },
    {
     "name": "stderr",
     "output_type": "stream",
     "text": [
      "Shape features are only available 3D input (for 2D input, use shape2D). Found 2D input\n",
      "GLCM is symmetrical, therefore Sum Average = 2 * Joint Average, only 1 needs to be calculated\n",
      "Shape features are only available 3D input (for 2D input, use shape2D). Found 2D input\n",
      "GLCM is symmetrical, therefore Sum Average = 2 * Joint Average, only 1 needs to be calculated\n",
      "Shape features are only available 3D input (for 2D input, use shape2D). Found 2D input\n",
      "GLCM is symmetrical, therefore Sum Average = 2 * Joint Average, only 1 needs to be calculated\n"
     ]
    },
    {
     "name": "stdout",
     "output_type": "stream",
     "text": [
      "C:\\Users\\rckyh\\Desktop\\repo\\kidney_ped\\kidney\\\\images_autosegment\\raw\\197__Still_images_5351_IM-0002-0006.png\n",
      "C:\\Users\\rckyh\\Desktop\\repo\\kidney_ped\\kidney\\\\images_autosegment\\raw\\197__Still_images_5351_IM-0002-0011.png\n",
      "C:\\Users\\rckyh\\Desktop\\repo\\kidney_ped\\kidney\\\\images_autosegment\\raw\\198__Still_images_5373_IM-0001-0025.png\n"
     ]
    },
    {
     "name": "stderr",
     "output_type": "stream",
     "text": [
      "Shape features are only available 3D input (for 2D input, use shape2D). Found 2D input\n",
      "GLCM is symmetrical, therefore Sum Average = 2 * Joint Average, only 1 needs to be calculated\n",
      "Shape features are only available 3D input (for 2D input, use shape2D). Found 2D input\n",
      "GLCM is symmetrical, therefore Sum Average = 2 * Joint Average, only 1 needs to be calculated\n",
      "Shape features are only available 3D input (for 2D input, use shape2D). Found 2D input\n",
      "GLCM is symmetrical, therefore Sum Average = 2 * Joint Average, only 1 needs to be calculated\n"
     ]
    },
    {
     "name": "stdout",
     "output_type": "stream",
     "text": [
      "C:\\Users\\rckyh\\Desktop\\repo\\kidney_ped\\kidney\\\\images_autosegment\\raw\\198__Still_images_5373_IM-0001-0036.png\n",
      "C:\\Users\\rckyh\\Desktop\\repo\\kidney_ped\\kidney\\\\images_autosegment\\raw\\199__Still_images_5341_IM-0001-0032.png\n",
      "C:\\Users\\rckyh\\Desktop\\repo\\kidney_ped\\kidney\\\\images_autosegment\\raw\\19__Still_images_5382_IM-0001-0004.png\n"
     ]
    },
    {
     "name": "stderr",
     "output_type": "stream",
     "text": [
      "Shape features are only available 3D input (for 2D input, use shape2D). Found 2D input\n",
      "GLCM is symmetrical, therefore Sum Average = 2 * Joint Average, only 1 needs to be calculated\n",
      "Shape features are only available 3D input (for 2D input, use shape2D). Found 2D input\n",
      "GLCM is symmetrical, therefore Sum Average = 2 * Joint Average, only 1 needs to be calculated\n",
      "Shape features are only available 3D input (for 2D input, use shape2D). Found 2D input\n",
      "GLCM is symmetrical, therefore Sum Average = 2 * Joint Average, only 1 needs to be calculated\n"
     ]
    },
    {
     "name": "stdout",
     "output_type": "stream",
     "text": [
      "C:\\Users\\rckyh\\Desktop\\repo\\kidney_ped\\kidney\\\\images_autosegment\\raw\\19__Still_images_5382_IM-0001-0027.png\n",
      "C:\\Users\\rckyh\\Desktop\\repo\\kidney_ped\\kidney\\\\images_autosegment\\raw\\1__Still images_IM-0001-0020.png\n",
      "C:\\Users\\rckyh\\Desktop\\repo\\kidney_ped\\kidney\\\\images_autosegment\\raw\\1__Still images_IM-0001-0040.png\n"
     ]
    },
    {
     "name": "stderr",
     "output_type": "stream",
     "text": [
      "Shape features are only available 3D input (for 2D input, use shape2D). Found 2D input\n",
      "GLCM is symmetrical, therefore Sum Average = 2 * Joint Average, only 1 needs to be calculated\n",
      "Shape features are only available 3D input (for 2D input, use shape2D). Found 2D input\n",
      "GLCM is symmetrical, therefore Sum Average = 2 * Joint Average, only 1 needs to be calculated\n",
      "Shape features are only available 3D input (for 2D input, use shape2D). Found 2D input\n",
      "GLCM is symmetrical, therefore Sum Average = 2 * Joint Average, only 1 needs to be calculated\n"
     ]
    },
    {
     "name": "stdout",
     "output_type": "stream",
     "text": [
      "C:\\Users\\rckyh\\Desktop\\repo\\kidney_ped\\kidney\\\\images_autosegment\\raw\\200__Still_images_5365_IM-0001-0009.png\n",
      "C:\\Users\\rckyh\\Desktop\\repo\\kidney_ped\\kidney\\\\images_autosegment\\raw\\200__Still_images_5365_IM-0001-0022.png\n",
      "C:\\Users\\rckyh\\Desktop\\repo\\kidney_ped\\kidney\\\\images_autosegment\\raw\\201__Still_images_5386_IM-0001-0027.png\n"
     ]
    },
    {
     "name": "stderr",
     "output_type": "stream",
     "text": [
      "Shape features are only available 3D input (for 2D input, use shape2D). Found 2D input\n",
      "GLCM is symmetrical, therefore Sum Average = 2 * Joint Average, only 1 needs to be calculated\n",
      "Shape features are only available 3D input (for 2D input, use shape2D). Found 2D input\n",
      "GLCM is symmetrical, therefore Sum Average = 2 * Joint Average, only 1 needs to be calculated\n",
      "Shape features are only available 3D input (for 2D input, use shape2D). Found 2D input\n",
      "GLCM is symmetrical, therefore Sum Average = 2 * Joint Average, only 1 needs to be calculated\n"
     ]
    },
    {
     "name": "stdout",
     "output_type": "stream",
     "text": [
      "C:\\Users\\rckyh\\Desktop\\repo\\kidney_ped\\kidney\\\\images_autosegment\\raw\\201__Still_images_5386_IM-0001-0053.png\n",
      "C:\\Users\\rckyh\\Desktop\\repo\\kidney_ped\\kidney\\\\images_autosegment\\raw\\202__Still_images_5377_IM-0002-0013.png\n",
      "C:\\Users\\rckyh\\Desktop\\repo\\kidney_ped\\kidney\\\\images_autosegment\\raw\\202__Still_images_5377_IM-0002-0030.png\n"
     ]
    },
    {
     "name": "stderr",
     "output_type": "stream",
     "text": [
      "Shape features are only available 3D input (for 2D input, use shape2D). Found 2D input\n",
      "GLCM is symmetrical, therefore Sum Average = 2 * Joint Average, only 1 needs to be calculated\n",
      "Shape features are only available 3D input (for 2D input, use shape2D). Found 2D input\n",
      "GLCM is symmetrical, therefore Sum Average = 2 * Joint Average, only 1 needs to be calculated\n",
      "Shape features are only available 3D input (for 2D input, use shape2D). Found 2D input\n",
      "GLCM is symmetrical, therefore Sum Average = 2 * Joint Average, only 1 needs to be calculated\n"
     ]
    },
    {
     "name": "stdout",
     "output_type": "stream",
     "text": [
      "C:\\Users\\rckyh\\Desktop\\repo\\kidney_ped\\kidney\\\\images_autosegment\\raw\\203__Still_images_5349_IM-0001-0009.png\n",
      "C:\\Users\\rckyh\\Desktop\\repo\\kidney_ped\\kidney\\\\images_autosegment\\raw\\203__Still_images_5349_IM-0001-0025.png\n",
      "C:\\Users\\rckyh\\Desktop\\repo\\kidney_ped\\kidney\\\\images_autosegment\\raw\\204__Still_images_5353_IM-0001-0009.png\n"
     ]
    },
    {
     "name": "stderr",
     "output_type": "stream",
     "text": [
      "Shape features are only available 3D input (for 2D input, use shape2D). Found 2D input\n",
      "GLCM is symmetrical, therefore Sum Average = 2 * Joint Average, only 1 needs to be calculated\n",
      "Shape features are only available 3D input (for 2D input, use shape2D). Found 2D input\n",
      "GLCM is symmetrical, therefore Sum Average = 2 * Joint Average, only 1 needs to be calculated\n",
      "Shape features are only available 3D input (for 2D input, use shape2D). Found 2D input\n",
      "GLCM is symmetrical, therefore Sum Average = 2 * Joint Average, only 1 needs to be calculated\n"
     ]
    },
    {
     "name": "stdout",
     "output_type": "stream",
     "text": [
      "C:\\Users\\rckyh\\Desktop\\repo\\kidney_ped\\kidney\\\\images_autosegment\\raw\\204__Still_images_5353_IM-0001-0048.png\n",
      "C:\\Users\\rckyh\\Desktop\\repo\\kidney_ped\\kidney\\\\images_autosegment\\raw\\205__Still_images_5396_IM-0001-0047.png\n",
      "C:\\Users\\rckyh\\Desktop\\repo\\kidney_ped\\kidney\\\\images_autosegment\\raw\\205__Still_images_5396_IM-0001-0059.png\n"
     ]
    },
    {
     "name": "stderr",
     "output_type": "stream",
     "text": [
      "Shape features are only available 3D input (for 2D input, use shape2D). Found 2D input\n",
      "GLCM is symmetrical, therefore Sum Average = 2 * Joint Average, only 1 needs to be calculated\n",
      "Shape features are only available 3D input (for 2D input, use shape2D). Found 2D input\n",
      "GLCM is symmetrical, therefore Sum Average = 2 * Joint Average, only 1 needs to be calculated\n",
      "Shape features are only available 3D input (for 2D input, use shape2D). Found 2D input\n",
      "GLCM is symmetrical, therefore Sum Average = 2 * Joint Average, only 1 needs to be calculated\n"
     ]
    },
    {
     "name": "stdout",
     "output_type": "stream",
     "text": [
      "C:\\Users\\rckyh\\Desktop\\repo\\kidney_ped\\kidney\\\\images_autosegment\\raw\\206__Still_images_5391_IM-0001-0010.png\n",
      "C:\\Users\\rckyh\\Desktop\\repo\\kidney_ped\\kidney\\\\images_autosegment\\raw\\206__Still_images_5391_IM-0001-0024.png\n",
      "C:\\Users\\rckyh\\Desktop\\repo\\kidney_ped\\kidney\\\\images_autosegment\\raw\\207__Still_images_5377_IM-0001-0006.png\n"
     ]
    },
    {
     "name": "stderr",
     "output_type": "stream",
     "text": [
      "Shape features are only available 3D input (for 2D input, use shape2D). Found 2D input\n",
      "GLCM is symmetrical, therefore Sum Average = 2 * Joint Average, only 1 needs to be calculated\n",
      "Shape features are only available 3D input (for 2D input, use shape2D). Found 2D input\n",
      "GLCM is symmetrical, therefore Sum Average = 2 * Joint Average, only 1 needs to be calculated\n",
      "Shape features are only available 3D input (for 2D input, use shape2D). Found 2D input\n",
      "GLCM is symmetrical, therefore Sum Average = 2 * Joint Average, only 1 needs to be calculated\n"
     ]
    },
    {
     "name": "stdout",
     "output_type": "stream",
     "text": [
      "C:\\Users\\rckyh\\Desktop\\repo\\kidney_ped\\kidney\\\\images_autosegment\\raw\\207__Still_images_5377_IM-0001-0049.png\n",
      "C:\\Users\\rckyh\\Desktop\\repo\\kidney_ped\\kidney\\\\images_autosegment\\raw\\208__Still_images_5374_IM-0001-0011.png\n",
      "C:\\Users\\rckyh\\Desktop\\repo\\kidney_ped\\kidney\\\\images_autosegment\\raw\\208__Still_images_5374_IM-0001-0055.png\n"
     ]
    },
    {
     "name": "stderr",
     "output_type": "stream",
     "text": [
      "Shape features are only available 3D input (for 2D input, use shape2D). Found 2D input\n",
      "GLCM is symmetrical, therefore Sum Average = 2 * Joint Average, only 1 needs to be calculated\n",
      "Shape features are only available 3D input (for 2D input, use shape2D). Found 2D input\n",
      "GLCM is symmetrical, therefore Sum Average = 2 * Joint Average, only 1 needs to be calculated\n",
      "Shape features are only available 3D input (for 2D input, use shape2D). Found 2D input\n",
      "GLCM is symmetrical, therefore Sum Average = 2 * Joint Average, only 1 needs to be calculated\n"
     ]
    },
    {
     "name": "stdout",
     "output_type": "stream",
     "text": [
      "C:\\Users\\rckyh\\Desktop\\repo\\kidney_ped\\kidney\\\\images_autosegment\\raw\\209__Still_images_5409_IM-0001-0012.png\n",
      "C:\\Users\\rckyh\\Desktop\\repo\\kidney_ped\\kidney\\\\images_autosegment\\raw\\209__Still_images_5409_IM-0001-0059.png\n",
      "C:\\Users\\rckyh\\Desktop\\repo\\kidney_ped\\kidney\\\\images_autosegment\\raw\\20__Still_images_5379_IM-0001-0009.png\n"
     ]
    },
    {
     "name": "stderr",
     "output_type": "stream",
     "text": [
      "Shape features are only available 3D input (for 2D input, use shape2D). Found 2D input\n",
      "GLCM is symmetrical, therefore Sum Average = 2 * Joint Average, only 1 needs to be calculated\n",
      "Shape features are only available 3D input (for 2D input, use shape2D). Found 2D input\n",
      "GLCM is symmetrical, therefore Sum Average = 2 * Joint Average, only 1 needs to be calculated\n",
      "Shape features are only available 3D input (for 2D input, use shape2D). Found 2D input\n",
      "GLCM is symmetrical, therefore Sum Average = 2 * Joint Average, only 1 needs to be calculated\n"
     ]
    },
    {
     "name": "stdout",
     "output_type": "stream",
     "text": [
      "C:\\Users\\rckyh\\Desktop\\repo\\kidney_ped\\kidney\\\\images_autosegment\\raw\\20__Still_images_5379_IM-0001-0021.png\n",
      "C:\\Users\\rckyh\\Desktop\\repo\\kidney_ped\\kidney\\\\images_autosegment\\raw\\210__Still_images_5310_IM-0001-0004.png\n",
      "C:\\Users\\rckyh\\Desktop\\repo\\kidney_ped\\kidney\\\\images_autosegment\\raw\\210__Still_images_5310_IM-0001-0064.png\n"
     ]
    },
    {
     "name": "stderr",
     "output_type": "stream",
     "text": [
      "Shape features are only available 3D input (for 2D input, use shape2D). Found 2D input\n",
      "GLCM is symmetrical, therefore Sum Average = 2 * Joint Average, only 1 needs to be calculated\n",
      "Shape features are only available 3D input (for 2D input, use shape2D). Found 2D input\n",
      "GLCM is symmetrical, therefore Sum Average = 2 * Joint Average, only 1 needs to be calculated\n",
      "Shape features are only available 3D input (for 2D input, use shape2D). Found 2D input\n"
     ]
    },
    {
     "name": "stdout",
     "output_type": "stream",
     "text": [
      "C:\\Users\\rckyh\\Desktop\\repo\\kidney_ped\\kidney\\\\images_autosegment\\raw\\211__Still_images_5335_IM-0001-0008.png\n",
      "C:\\Users\\rckyh\\Desktop\\repo\\kidney_ped\\kidney\\\\images_autosegment\\raw\\211__Still_images_5335_IM-0001-0035.png\n"
     ]
    },
    {
     "name": "stderr",
     "output_type": "stream",
     "text": [
      "GLCM is symmetrical, therefore Sum Average = 2 * Joint Average, only 1 needs to be calculated\n",
      "Shape features are only available 3D input (for 2D input, use shape2D). Found 2D input\n",
      "GLCM is symmetrical, therefore Sum Average = 2 * Joint Average, only 1 needs to be calculated\n",
      "Shape features are only available 3D input (for 2D input, use shape2D). Found 2D input\n",
      "GLCM is symmetrical, therefore Sum Average = 2 * Joint Average, only 1 needs to be calculated\n"
     ]
    },
    {
     "name": "stdout",
     "output_type": "stream",
     "text": [
      "C:\\Users\\rckyh\\Desktop\\repo\\kidney_ped\\kidney\\\\images_autosegment\\raw\\212b__Still_images_NATIVE_5358_IM-0001-0013.png\n",
      "C:\\Users\\rckyh\\Desktop\\repo\\kidney_ped\\kidney\\\\images_autosegment\\raw\\212b__Still_images_NATIVE_5358_IM-0001-0037.png\n",
      "C:\\Users\\rckyh\\Desktop\\repo\\kidney_ped\\kidney\\\\images_autosegment\\raw\\212b__Still_images_TRANSPLANT_5321_IM-0001-0007.png\n"
     ]
    },
    {
     "name": "stderr",
     "output_type": "stream",
     "text": [
      "Shape features are only available 3D input (for 2D input, use shape2D). Found 2D input\n",
      "GLCM is symmetrical, therefore Sum Average = 2 * Joint Average, only 1 needs to be calculated\n",
      "Shape features are only available 3D input (for 2D input, use shape2D). Found 2D input\n",
      "GLCM is symmetrical, therefore Sum Average = 2 * Joint Average, only 1 needs to be calculated\n",
      "Shape features are only available 3D input (for 2D input, use shape2D). Found 2D input\n",
      "GLCM is symmetrical, therefore Sum Average = 2 * Joint Average, only 1 needs to be calculated\n"
     ]
    },
    {
     "name": "stdout",
     "output_type": "stream",
     "text": [
      "C:\\Users\\rckyh\\Desktop\\repo\\kidney_ped\\kidney\\\\images_autosegment\\raw\\212__Still_images_5335_IM-0001-0045.png\n",
      "C:\\Users\\rckyh\\Desktop\\repo\\kidney_ped\\kidney\\\\images_autosegment\\raw\\212__Still_images_5335_IM-0001-0055.png\n",
      "C:\\Users\\rckyh\\Desktop\\repo\\kidney_ped\\kidney\\\\images_autosegment\\raw\\213__Still_images_5359_IM-0001-0014.png\n"
     ]
    },
    {
     "name": "stderr",
     "output_type": "stream",
     "text": [
      "Shape features are only available 3D input (for 2D input, use shape2D). Found 2D input\n",
      "GLCM is symmetrical, therefore Sum Average = 2 * Joint Average, only 1 needs to be calculated\n",
      "Shape features are only available 3D input (for 2D input, use shape2D). Found 2D input\n",
      "GLCM is symmetrical, therefore Sum Average = 2 * Joint Average, only 1 needs to be calculated\n",
      "Shape features are only available 3D input (for 2D input, use shape2D). Found 2D input\n",
      "GLCM is symmetrical, therefore Sum Average = 2 * Joint Average, only 1 needs to be calculated\n"
     ]
    },
    {
     "name": "stdout",
     "output_type": "stream",
     "text": [
      "C:\\Users\\rckyh\\Desktop\\repo\\kidney_ped\\kidney\\\\images_autosegment\\raw\\213__Still_images_5359_IM-0001-0028.png\n",
      "C:\\Users\\rckyh\\Desktop\\repo\\kidney_ped\\kidney\\\\images_autosegment\\raw\\214__Still_images_5335_IM-0001-0021.png\n",
      "C:\\Users\\rckyh\\Desktop\\repo\\kidney_ped\\kidney\\\\images_autosegment\\raw\\214__Still_images_5335_IM-0001-0036.png\n"
     ]
    },
    {
     "name": "stderr",
     "output_type": "stream",
     "text": [
      "Shape features are only available 3D input (for 2D input, use shape2D). Found 2D input\n",
      "GLCM is symmetrical, therefore Sum Average = 2 * Joint Average, only 1 needs to be calculated\n",
      "Shape features are only available 3D input (for 2D input, use shape2D). Found 2D input\n",
      "GLCM is symmetrical, therefore Sum Average = 2 * Joint Average, only 1 needs to be calculated\n",
      "Shape features are only available 3D input (for 2D input, use shape2D). Found 2D input\n",
      "GLCM is symmetrical, therefore Sum Average = 2 * Joint Average, only 1 needs to be calculated\n"
     ]
    },
    {
     "name": "stdout",
     "output_type": "stream",
     "text": [
      "C:\\Users\\rckyh\\Desktop\\repo\\kidney_ped\\kidney\\\\images_autosegment\\raw\\215__Still_images_5315_IM-0001-0026.png\n",
      "C:\\Users\\rckyh\\Desktop\\repo\\kidney_ped\\kidney\\\\images_autosegment\\raw\\215__Still_images_5315_IM-0001-0050.png\n",
      "C:\\Users\\rckyh\\Desktop\\repo\\kidney_ped\\kidney\\\\images_autosegment\\raw\\216__Still_images_5327_IM-0001-0041.png\n"
     ]
    },
    {
     "name": "stderr",
     "output_type": "stream",
     "text": [
      "Shape features are only available 3D input (for 2D input, use shape2D). Found 2D input\n",
      "GLCM is symmetrical, therefore Sum Average = 2 * Joint Average, only 1 needs to be calculated\n",
      "Shape features are only available 3D input (for 2D input, use shape2D). Found 2D input\n",
      "GLCM is symmetrical, therefore Sum Average = 2 * Joint Average, only 1 needs to be calculated\n",
      "Shape features are only available 3D input (for 2D input, use shape2D). Found 2D input\n",
      "GLCM is symmetrical, therefore Sum Average = 2 * Joint Average, only 1 needs to be calculated\n"
     ]
    },
    {
     "name": "stdout",
     "output_type": "stream",
     "text": [
      "C:\\Users\\rckyh\\Desktop\\repo\\kidney_ped\\kidney\\\\images_autosegment\\raw\\216__Still_images_5327_IM-0001-0053.png\n",
      "C:\\Users\\rckyh\\Desktop\\repo\\kidney_ped\\kidney\\\\images_autosegment\\raw\\217__Still_images_5360_IM-0001-0009.png\n",
      "C:\\Users\\rckyh\\Desktop\\repo\\kidney_ped\\kidney\\\\images_autosegment\\raw\\217__Still_images_5360_IM-0001-0034.png\n"
     ]
    },
    {
     "name": "stderr",
     "output_type": "stream",
     "text": [
      "Shape features are only available 3D input (for 2D input, use shape2D). Found 2D input\n",
      "GLCM is symmetrical, therefore Sum Average = 2 * Joint Average, only 1 needs to be calculated\n",
      "Shape features are only available 3D input (for 2D input, use shape2D). Found 2D input\n",
      "GLCM is symmetrical, therefore Sum Average = 2 * Joint Average, only 1 needs to be calculated\n",
      "Shape features are only available 3D input (for 2D input, use shape2D). Found 2D input\n",
      "GLCM is symmetrical, therefore Sum Average = 2 * Joint Average, only 1 needs to be calculated\n"
     ]
    },
    {
     "name": "stdout",
     "output_type": "stream",
     "text": [
      "C:\\Users\\rckyh\\Desktop\\repo\\kidney_ped\\kidney\\\\images_autosegment\\raw\\218__Still_images_5332_IM-0001-0054.png\n",
      "C:\\Users\\rckyh\\Desktop\\repo\\kidney_ped\\kidney\\\\images_autosegment\\raw\\218__Still_images_5332_IM-0001-0072.png\n",
      "C:\\Users\\rckyh\\Desktop\\repo\\kidney_ped\\kidney\\\\images_autosegment\\raw\\219__Still_images_5360_IM-0001-0027.png\n"
     ]
    },
    {
     "name": "stderr",
     "output_type": "stream",
     "text": [
      "Shape features are only available 3D input (for 2D input, use shape2D). Found 2D input\n",
      "GLCM is symmetrical, therefore Sum Average = 2 * Joint Average, only 1 needs to be calculated\n",
      "Shape features are only available 3D input (for 2D input, use shape2D). Found 2D input\n",
      "GLCM is symmetrical, therefore Sum Average = 2 * Joint Average, only 1 needs to be calculated\n",
      "Shape features are only available 3D input (for 2D input, use shape2D). Found 2D input\n",
      "GLCM is symmetrical, therefore Sum Average = 2 * Joint Average, only 1 needs to be calculated\n"
     ]
    },
    {
     "name": "stdout",
     "output_type": "stream",
     "text": [
      "C:\\Users\\rckyh\\Desktop\\repo\\kidney_ped\\kidney\\\\images_autosegment\\raw\\219__Still_images_5360_IM-0001-0032.png\n",
      "C:\\Users\\rckyh\\Desktop\\repo\\kidney_ped\\kidney\\\\images_autosegment\\raw\\21__Still_images_5386_IM-0001-0015.png\n"
     ]
    },
    {
     "name": "stderr",
     "output_type": "stream",
     "text": [
      "Shape features are only available 3D input (for 2D input, use shape2D). Found 2D input\n",
      "GLCM is symmetrical, therefore Sum Average = 2 * Joint Average, only 1 needs to be calculated\n",
      "Shape features are only available 3D input (for 2D input, use shape2D). Found 2D input\n",
      "GLCM is symmetrical, therefore Sum Average = 2 * Joint Average, only 1 needs to be calculated\n"
     ]
    },
    {
     "name": "stdout",
     "output_type": "stream",
     "text": [
      "C:\\Users\\rckyh\\Desktop\\repo\\kidney_ped\\kidney\\\\images_autosegment\\raw\\21__Still_images_5386_IM-0001-0041.png\n",
      "C:\\Users\\rckyh\\Desktop\\repo\\kidney_ped\\kidney\\\\images_autosegment\\raw\\220__Still_images_5328_IM-0001-0001.png\n"
     ]
    },
    {
     "name": "stderr",
     "output_type": "stream",
     "text": [
      "Shape features are only available 3D input (for 2D input, use shape2D). Found 2D input\n",
      "GLCM is symmetrical, therefore Sum Average = 2 * Joint Average, only 1 needs to be calculated\n",
      "Shape features are only available 3D input (for 2D input, use shape2D). Found 2D input\n",
      "GLCM is symmetrical, therefore Sum Average = 2 * Joint Average, only 1 needs to be calculated\n"
     ]
    },
    {
     "name": "stdout",
     "output_type": "stream",
     "text": [
      "C:\\Users\\rckyh\\Desktop\\repo\\kidney_ped\\kidney\\\\images_autosegment\\raw\\220__Still_images_5328_IM-0001-0011.png\n",
      "C:\\Users\\rckyh\\Desktop\\repo\\kidney_ped\\kidney\\\\images_autosegment\\raw\\222__Still_images_5354_IM-0001-0008.png\n"
     ]
    },
    {
     "name": "stderr",
     "output_type": "stream",
     "text": [
      "Shape features are only available 3D input (for 2D input, use shape2D). Found 2D input\n",
      "GLCM is symmetrical, therefore Sum Average = 2 * Joint Average, only 1 needs to be calculated\n",
      "Shape features are only available 3D input (for 2D input, use shape2D). Found 2D input\n",
      "GLCM is symmetrical, therefore Sum Average = 2 * Joint Average, only 1 needs to be calculated\n"
     ]
    },
    {
     "name": "stdout",
     "output_type": "stream",
     "text": [
      "C:\\Users\\rckyh\\Desktop\\repo\\kidney_ped\\kidney\\\\images_autosegment\\raw\\222__Still_images_5354_IM-0001-0058.png\n",
      "C:\\Users\\rckyh\\Desktop\\repo\\kidney_ped\\kidney\\\\images_autosegment\\raw\\223__Still_images_5370_IM-0001-0010.png\n",
      "C:\\Users\\rckyh\\Desktop\\repo\\kidney_ped\\kidney\\\\images_autosegment\\raw\\223__Still_images_5370_IM-0001-0026.png\n"
     ]
    },
    {
     "name": "stderr",
     "output_type": "stream",
     "text": [
      "Shape features are only available 3D input (for 2D input, use shape2D). Found 2D input\n",
      "GLCM is symmetrical, therefore Sum Average = 2 * Joint Average, only 1 needs to be calculated\n",
      "Shape features are only available 3D input (for 2D input, use shape2D). Found 2D input\n",
      "GLCM is symmetrical, therefore Sum Average = 2 * Joint Average, only 1 needs to be calculated\n",
      "Shape features are only available 3D input (for 2D input, use shape2D). Found 2D input\n",
      "GLCM is symmetrical, therefore Sum Average = 2 * Joint Average, only 1 needs to be calculated\n"
     ]
    },
    {
     "name": "stdout",
     "output_type": "stream",
     "text": [
      "C:\\Users\\rckyh\\Desktop\\repo\\kidney_ped\\kidney\\\\images_autosegment\\raw\\224__Still_images_5365_IM-0001-0017.png\n",
      "C:\\Users\\rckyh\\Desktop\\repo\\kidney_ped\\kidney\\\\images_autosegment\\raw\\224__Still_images_5365_IM-0001-0021.png\n",
      "C:\\Users\\rckyh\\Desktop\\repo\\kidney_ped\\kidney\\\\images_autosegment\\raw\\225__Still_images_5377_IM-0003-0017.png\n"
     ]
    },
    {
     "name": "stderr",
     "output_type": "stream",
     "text": [
      "Shape features are only available 3D input (for 2D input, use shape2D). Found 2D input\n",
      "GLCM is symmetrical, therefore Sum Average = 2 * Joint Average, only 1 needs to be calculated\n",
      "Shape features are only available 3D input (for 2D input, use shape2D). Found 2D input\n",
      "GLCM is symmetrical, therefore Sum Average = 2 * Joint Average, only 1 needs to be calculated\n",
      "Shape features are only available 3D input (for 2D input, use shape2D). Found 2D input\n",
      "GLCM is symmetrical, therefore Sum Average = 2 * Joint Average, only 1 needs to be calculated\n"
     ]
    },
    {
     "name": "stdout",
     "output_type": "stream",
     "text": [
      "C:\\Users\\rckyh\\Desktop\\repo\\kidney_ped\\kidney\\\\images_autosegment\\raw\\226__Still_images_5335_IM-0001-0013.png\n",
      "C:\\Users\\rckyh\\Desktop\\repo\\kidney_ped\\kidney\\\\images_autosegment\\raw\\227__Still_images_5335_IM-0001-0007.png\n",
      "C:\\Users\\rckyh\\Desktop\\repo\\kidney_ped\\kidney\\\\images_autosegment\\raw\\227__Still_images_5335_IM-0001-0017.png\n"
     ]
    },
    {
     "name": "stderr",
     "output_type": "stream",
     "text": [
      "Shape features are only available 3D input (for 2D input, use shape2D). Found 2D input\n",
      "GLCM is symmetrical, therefore Sum Average = 2 * Joint Average, only 1 needs to be calculated\n",
      "Shape features are only available 3D input (for 2D input, use shape2D). Found 2D input\n",
      "GLCM is symmetrical, therefore Sum Average = 2 * Joint Average, only 1 needs to be calculated\n",
      "Shape features are only available 3D input (for 2D input, use shape2D). Found 2D input\n",
      "GLCM is symmetrical, therefore Sum Average = 2 * Joint Average, only 1 needs to be calculated\n"
     ]
    },
    {
     "name": "stdout",
     "output_type": "stream",
     "text": [
      "C:\\Users\\rckyh\\Desktop\\repo\\kidney_ped\\kidney\\\\images_autosegment\\raw\\228__Still_images_5365_IM-0001-0033.png\n",
      "C:\\Users\\rckyh\\Desktop\\repo\\kidney_ped\\kidney\\\\images_autosegment\\raw\\228__Still_images_5365_IM-0001-0088.png\n",
      "C:\\Users\\rckyh\\Desktop\\repo\\kidney_ped\\kidney\\\\images_autosegment\\raw\\229__Still_images_5384_IM-0001-0008.png\n"
     ]
    },
    {
     "name": "stderr",
     "output_type": "stream",
     "text": [
      "Shape features are only available 3D input (for 2D input, use shape2D). Found 2D input\n",
      "GLCM is symmetrical, therefore Sum Average = 2 * Joint Average, only 1 needs to be calculated\n",
      "Shape features are only available 3D input (for 2D input, use shape2D). Found 2D input\n",
      "GLCM is symmetrical, therefore Sum Average = 2 * Joint Average, only 1 needs to be calculated\n",
      "Shape features are only available 3D input (for 2D input, use shape2D). Found 2D input\n",
      "GLCM is symmetrical, therefore Sum Average = 2 * Joint Average, only 1 needs to be calculated\n"
     ]
    },
    {
     "name": "stdout",
     "output_type": "stream",
     "text": [
      "C:\\Users\\rckyh\\Desktop\\repo\\kidney_ped\\kidney\\\\images_autosegment\\raw\\229__Still_images_5384_IM-0001-0020.png\n",
      "C:\\Users\\rckyh\\Desktop\\repo\\kidney_ped\\kidney\\\\images_autosegment\\raw\\22__Still_images_5354_IM-0001-0040.png\n"
     ]
    },
    {
     "name": "stderr",
     "output_type": "stream",
     "text": [
      "Shape features are only available 3D input (for 2D input, use shape2D). Found 2D input\n",
      "GLCM is symmetrical, therefore Sum Average = 2 * Joint Average, only 1 needs to be calculated\n",
      "Shape features are only available 3D input (for 2D input, use shape2D). Found 2D input\n",
      "GLCM is symmetrical, therefore Sum Average = 2 * Joint Average, only 1 needs to be calculated\n"
     ]
    },
    {
     "name": "stdout",
     "output_type": "stream",
     "text": [
      "C:\\Users\\rckyh\\Desktop\\repo\\kidney_ped\\kidney\\\\images_autosegment\\raw\\22__Still_images_5354_IM-0001-0051.png\n",
      "C:\\Users\\rckyh\\Desktop\\repo\\kidney_ped\\kidney\\\\images_autosegment\\raw\\230__Still_images_5352_IM-0001-0022.png\n",
      "C:\\Users\\rckyh\\Desktop\\repo\\kidney_ped\\kidney\\\\images_autosegment\\raw\\230__Still_images_5352_IM-0001-0031.png\n"
     ]
    },
    {
     "name": "stderr",
     "output_type": "stream",
     "text": [
      "Shape features are only available 3D input (for 2D input, use shape2D). Found 2D input\n",
      "GLCM is symmetrical, therefore Sum Average = 2 * Joint Average, only 1 needs to be calculated\n",
      "Shape features are only available 3D input (for 2D input, use shape2D). Found 2D input\n",
      "GLCM is symmetrical, therefore Sum Average = 2 * Joint Average, only 1 needs to be calculated\n",
      "Shape features are only available 3D input (for 2D input, use shape2D). Found 2D input\n",
      "GLCM is symmetrical, therefore Sum Average = 2 * Joint Average, only 1 needs to be calculated\n"
     ]
    },
    {
     "name": "stdout",
     "output_type": "stream",
     "text": [
      "C:\\Users\\rckyh\\Desktop\\repo\\kidney_ped\\kidney\\\\images_autosegment\\raw\\232__Still_images_5373_IM-0001-0016.png\n",
      "C:\\Users\\rckyh\\Desktop\\repo\\kidney_ped\\kidney\\\\images_autosegment\\raw\\232__Still_images_5373_IM-0001-0026.png\n",
      "C:\\Users\\rckyh\\Desktop\\repo\\kidney_ped\\kidney\\\\images_autosegment\\raw\\233__Still_images_5357_IM-0001-0025.png\n"
     ]
    },
    {
     "name": "stderr",
     "output_type": "stream",
     "text": [
      "Shape features are only available 3D input (for 2D input, use shape2D). Found 2D input\n",
      "GLCM is symmetrical, therefore Sum Average = 2 * Joint Average, only 1 needs to be calculated\n",
      "Shape features are only available 3D input (for 2D input, use shape2D). Found 2D input\n",
      "GLCM is symmetrical, therefore Sum Average = 2 * Joint Average, only 1 needs to be calculated\n",
      "Shape features are only available 3D input (for 2D input, use shape2D). Found 2D input\n",
      "GLCM is symmetrical, therefore Sum Average = 2 * Joint Average, only 1 needs to be calculated\n"
     ]
    },
    {
     "name": "stdout",
     "output_type": "stream",
     "text": [
      "C:\\Users\\rckyh\\Desktop\\repo\\kidney_ped\\kidney\\\\images_autosegment\\raw\\233__Still_images_5357_IM-0001-0039.png\n",
      "C:\\Users\\rckyh\\Desktop\\repo\\kidney_ped\\kidney\\\\images_autosegment\\raw\\234__Still_images_5363_IM-0001-0014.png\n",
      "C:\\Users\\rckyh\\Desktop\\repo\\kidney_ped\\kidney\\\\images_autosegment\\raw\\234__Still_images_5363_IM-0001-0025.png\n"
     ]
    },
    {
     "name": "stderr",
     "output_type": "stream",
     "text": [
      "Shape features are only available 3D input (for 2D input, use shape2D). Found 2D input\n",
      "GLCM is symmetrical, therefore Sum Average = 2 * Joint Average, only 1 needs to be calculated\n",
      "Shape features are only available 3D input (for 2D input, use shape2D). Found 2D input\n",
      "GLCM is symmetrical, therefore Sum Average = 2 * Joint Average, only 1 needs to be calculated\n",
      "Shape features are only available 3D input (for 2D input, use shape2D). Found 2D input\n",
      "GLCM is symmetrical, therefore Sum Average = 2 * Joint Average, only 1 needs to be calculated\n"
     ]
    },
    {
     "name": "stdout",
     "output_type": "stream",
     "text": [
      "C:\\Users\\rckyh\\Desktop\\repo\\kidney_ped\\kidney\\\\images_autosegment\\raw\\235__Still_images_5355_IM-0001-0008.png\n",
      "C:\\Users\\rckyh\\Desktop\\repo\\kidney_ped\\kidney\\\\images_autosegment\\raw\\235__Still_images_5355_IM-0001-0020.png\n",
      "C:\\Users\\rckyh\\Desktop\\repo\\kidney_ped\\kidney\\\\images_autosegment\\raw\\236__Still_images_5364_IM-0001-0035.png\n"
     ]
    },
    {
     "name": "stderr",
     "output_type": "stream",
     "text": [
      "Shape features are only available 3D input (for 2D input, use shape2D). Found 2D input\n",
      "GLCM is symmetrical, therefore Sum Average = 2 * Joint Average, only 1 needs to be calculated\n",
      "Shape features are only available 3D input (for 2D input, use shape2D). Found 2D input\n",
      "GLCM is symmetrical, therefore Sum Average = 2 * Joint Average, only 1 needs to be calculated\n",
      "Shape features are only available 3D input (for 2D input, use shape2D). Found 2D input\n"
     ]
    },
    {
     "name": "stdout",
     "output_type": "stream",
     "text": [
      "C:\\Users\\rckyh\\Desktop\\repo\\kidney_ped\\kidney\\\\images_autosegment\\raw\\236__Still_images_5364_IM-0001-0068.png\n",
      "C:\\Users\\rckyh\\Desktop\\repo\\kidney_ped\\kidney\\\\images_autosegment\\raw\\237__Still_images_5380_IM-0001-0011.png\n"
     ]
    },
    {
     "name": "stderr",
     "output_type": "stream",
     "text": [
      "GLCM is symmetrical, therefore Sum Average = 2 * Joint Average, only 1 needs to be calculated\n",
      "Shape features are only available 3D input (for 2D input, use shape2D). Found 2D input\n",
      "GLCM is symmetrical, therefore Sum Average = 2 * Joint Average, only 1 needs to be calculated\n",
      "Shape features are only available 3D input (for 2D input, use shape2D). Found 2D input\n",
      "GLCM is symmetrical, therefore Sum Average = 2 * Joint Average, only 1 needs to be calculated\n"
     ]
    },
    {
     "name": "stdout",
     "output_type": "stream",
     "text": [
      "C:\\Users\\rckyh\\Desktop\\repo\\kidney_ped\\kidney\\\\images_autosegment\\raw\\237__Still_images_5380_IM-0001-0020.png\n",
      "C:\\Users\\rckyh\\Desktop\\repo\\kidney_ped\\kidney\\\\images_autosegment\\raw\\238__Still_images_5327_IM-0002-0005.png\n",
      "C:\\Users\\rckyh\\Desktop\\repo\\kidney_ped\\kidney\\\\images_autosegment\\raw\\238__Still_images_5327_IM-0002-0012.png\n"
     ]
    },
    {
     "name": "stderr",
     "output_type": "stream",
     "text": [
      "Shape features are only available 3D input (for 2D input, use shape2D). Found 2D input\n",
      "GLCM is symmetrical, therefore Sum Average = 2 * Joint Average, only 1 needs to be calculated\n",
      "Shape features are only available 3D input (for 2D input, use shape2D). Found 2D input\n",
      "GLCM is symmetrical, therefore Sum Average = 2 * Joint Average, only 1 needs to be calculated\n",
      "Shape features are only available 3D input (for 2D input, use shape2D). Found 2D input\n",
      "GLCM is symmetrical, therefore Sum Average = 2 * Joint Average, only 1 needs to be calculated\n"
     ]
    },
    {
     "name": "stdout",
     "output_type": "stream",
     "text": [
      "C:\\Users\\rckyh\\Desktop\\repo\\kidney_ped\\kidney\\\\images_autosegment\\raw\\239__Still_images_5346_IM-0001-0021.png\n",
      "C:\\Users\\rckyh\\Desktop\\repo\\kidney_ped\\kidney\\\\images_autosegment\\raw\\23__Still_images_5369_IM-0001-0015.png\n",
      "C:\\Users\\rckyh\\Desktop\\repo\\kidney_ped\\kidney\\\\images_autosegment\\raw\\23__Still_images_5369_IM-0001-0041.png\n"
     ]
    },
    {
     "name": "stderr",
     "output_type": "stream",
     "text": [
      "Shape features are only available 3D input (for 2D input, use shape2D). Found 2D input\n",
      "GLCM is symmetrical, therefore Sum Average = 2 * Joint Average, only 1 needs to be calculated\n",
      "Shape features are only available 3D input (for 2D input, use shape2D). Found 2D input\n",
      "GLCM is symmetrical, therefore Sum Average = 2 * Joint Average, only 1 needs to be calculated\n",
      "Shape features are only available 3D input (for 2D input, use shape2D). Found 2D input\n",
      "GLCM is symmetrical, therefore Sum Average = 2 * Joint Average, only 1 needs to be calculated\n"
     ]
    },
    {
     "name": "stdout",
     "output_type": "stream",
     "text": [
      "C:\\Users\\rckyh\\Desktop\\repo\\kidney_ped\\kidney\\\\images_autosegment\\raw\\240__Still_images_5321_IM-0001-0007.png\n",
      "C:\\Users\\rckyh\\Desktop\\repo\\kidney_ped\\kidney\\\\images_autosegment\\raw\\240__Still_images_5321_IM-0001-0016.png\n",
      "C:\\Users\\rckyh\\Desktop\\repo\\kidney_ped\\kidney\\\\images_autosegment\\raw\\241__Still_images_5313_IM-0001-0057.png\n"
     ]
    },
    {
     "name": "stderr",
     "output_type": "stream",
     "text": [
      "Shape features are only available 3D input (for 2D input, use shape2D). Found 2D input\n",
      "GLCM is symmetrical, therefore Sum Average = 2 * Joint Average, only 1 needs to be calculated\n",
      "Shape features are only available 3D input (for 2D input, use shape2D). Found 2D input\n",
      "GLCM is symmetrical, therefore Sum Average = 2 * Joint Average, only 1 needs to be calculated\n",
      "Shape features are only available 3D input (for 2D input, use shape2D). Found 2D input\n",
      "GLCM is symmetrical, therefore Sum Average = 2 * Joint Average, only 1 needs to be calculated\n"
     ]
    },
    {
     "name": "stdout",
     "output_type": "stream",
     "text": [
      "C:\\Users\\rckyh\\Desktop\\repo\\kidney_ped\\kidney\\\\images_autosegment\\raw\\241__Still_images_5313_IM-0001-0082.png\n",
      "C:\\Users\\rckyh\\Desktop\\repo\\kidney_ped\\kidney\\\\images_autosegment\\raw\\242__Still_images_5328_IM-0001-0028.png\n",
      "C:\\Users\\rckyh\\Desktop\\repo\\kidney_ped\\kidney\\\\images_autosegment\\raw\\242__Still_images_5328_IM-0001-0043.png\n"
     ]
    },
    {
     "name": "stderr",
     "output_type": "stream",
     "text": [
      "Shape features are only available 3D input (for 2D input, use shape2D). Found 2D input\n",
      "GLCM is symmetrical, therefore Sum Average = 2 * Joint Average, only 1 needs to be calculated\n",
      "Shape features are only available 3D input (for 2D input, use shape2D). Found 2D input\n",
      "GLCM is symmetrical, therefore Sum Average = 2 * Joint Average, only 1 needs to be calculated\n",
      "Shape features are only available 3D input (for 2D input, use shape2D). Found 2D input\n",
      "GLCM is symmetrical, therefore Sum Average = 2 * Joint Average, only 1 needs to be calculated\n"
     ]
    },
    {
     "name": "stdout",
     "output_type": "stream",
     "text": [
      "C:\\Users\\rckyh\\Desktop\\repo\\kidney_ped\\kidney\\\\images_autosegment\\raw\\243__Still_images_5322_IM-0001-0007.png\n",
      "C:\\Users\\rckyh\\Desktop\\repo\\kidney_ped\\kidney\\\\images_autosegment\\raw\\243__Still_images_5322_IM-0001-0037.png\n",
      "C:\\Users\\rckyh\\Desktop\\repo\\kidney_ped\\kidney\\\\images_autosegment\\raw\\245__Still_images_5327_IM-0001-0006.png\n"
     ]
    },
    {
     "name": "stderr",
     "output_type": "stream",
     "text": [
      "Shape features are only available 3D input (for 2D input, use shape2D). Found 2D input\n",
      "GLCM is symmetrical, therefore Sum Average = 2 * Joint Average, only 1 needs to be calculated\n",
      "Shape features are only available 3D input (for 2D input, use shape2D). Found 2D input\n",
      "GLCM is symmetrical, therefore Sum Average = 2 * Joint Average, only 1 needs to be calculated\n",
      "Shape features are only available 3D input (for 2D input, use shape2D). Found 2D input\n",
      "GLCM is symmetrical, therefore Sum Average = 2 * Joint Average, only 1 needs to be calculated\n"
     ]
    },
    {
     "name": "stdout",
     "output_type": "stream",
     "text": [
      "C:\\Users\\rckyh\\Desktop\\repo\\kidney_ped\\kidney\\\\images_autosegment\\raw\\245__Still_images_5327_IM-0001-0017.png\n",
      "C:\\Users\\rckyh\\Desktop\\repo\\kidney_ped\\kidney\\\\images_autosegment\\raw\\246__Still_images_5320_IM-0001-0011.png\n",
      "C:\\Users\\rckyh\\Desktop\\repo\\kidney_ped\\kidney\\\\images_autosegment\\raw\\246__Still_images_5320_IM-0001-0022.png\n"
     ]
    },
    {
     "name": "stderr",
     "output_type": "stream",
     "text": [
      "Shape features are only available 3D input (for 2D input, use shape2D). Found 2D input\n",
      "GLCM is symmetrical, therefore Sum Average = 2 * Joint Average, only 1 needs to be calculated\n",
      "Shape features are only available 3D input (for 2D input, use shape2D). Found 2D input\n",
      "GLCM is symmetrical, therefore Sum Average = 2 * Joint Average, only 1 needs to be calculated\n",
      "Shape features are only available 3D input (for 2D input, use shape2D). Found 2D input\n",
      "GLCM is symmetrical, therefore Sum Average = 2 * Joint Average, only 1 needs to be calculated\n"
     ]
    },
    {
     "name": "stdout",
     "output_type": "stream",
     "text": [
      "C:\\Users\\rckyh\\Desktop\\repo\\kidney_ped\\kidney\\\\images_autosegment\\raw\\247__Still_images_5336_IM-0002-0017.png\n",
      "C:\\Users\\rckyh\\Desktop\\repo\\kidney_ped\\kidney\\\\images_autosegment\\raw\\247__Still_images_5336_IM-0002-0025.png\n"
     ]
    },
    {
     "name": "stderr",
     "output_type": "stream",
     "text": [
      "Shape features are only available 3D input (for 2D input, use shape2D). Found 2D input\n",
      "GLCM is symmetrical, therefore Sum Average = 2 * Joint Average, only 1 needs to be calculated\n",
      "Shape features are only available 3D input (for 2D input, use shape2D). Found 2D input\n",
      "GLCM is symmetrical, therefore Sum Average = 2 * Joint Average, only 1 needs to be calculated\n"
     ]
    },
    {
     "name": "stdout",
     "output_type": "stream",
     "text": [
      "C:\\Users\\rckyh\\Desktop\\repo\\kidney_ped\\kidney\\\\images_autosegment\\raw\\248__Still_images_5372_IM-0001-0009.png\n",
      "C:\\Users\\rckyh\\Desktop\\repo\\kidney_ped\\kidney\\\\images_autosegment\\raw\\248__Still_images_5372_IM-0001-0025.png\n",
      "C:\\Users\\rckyh\\Desktop\\repo\\kidney_ped\\kidney\\\\images_autosegment\\raw\\249__Still_images_5380_IM-0001-0006.png\n"
     ]
    },
    {
     "name": "stderr",
     "output_type": "stream",
     "text": [
      "Shape features are only available 3D input (for 2D input, use shape2D). Found 2D input\n",
      "GLCM is symmetrical, therefore Sum Average = 2 * Joint Average, only 1 needs to be calculated\n",
      "Shape features are only available 3D input (for 2D input, use shape2D). Found 2D input\n",
      "GLCM is symmetrical, therefore Sum Average = 2 * Joint Average, only 1 needs to be calculated\n",
      "Shape features are only available 3D input (for 2D input, use shape2D). Found 2D input\n",
      "GLCM is symmetrical, therefore Sum Average = 2 * Joint Average, only 1 needs to be calculated\n"
     ]
    },
    {
     "name": "stdout",
     "output_type": "stream",
     "text": [
      "C:\\Users\\rckyh\\Desktop\\repo\\kidney_ped\\kidney\\\\images_autosegment\\raw\\24__Still_images_5395_IM-0001-0054.png\n",
      "C:\\Users\\rckyh\\Desktop\\repo\\kidney_ped\\kidney\\\\images_autosegment\\raw\\24__Still_images_5395_IM-0001-0082.png\n"
     ]
    },
    {
     "name": "stderr",
     "output_type": "stream",
     "text": [
      "Shape features are only available 3D input (for 2D input, use shape2D). Found 2D input\n",
      "GLCM is symmetrical, therefore Sum Average = 2 * Joint Average, only 1 needs to be calculated\n",
      "Shape features are only available 3D input (for 2D input, use shape2D). Found 2D input\n",
      "GLCM is symmetrical, therefore Sum Average = 2 * Joint Average, only 1 needs to be calculated\n"
     ]
    },
    {
     "name": "stdout",
     "output_type": "stream",
     "text": [
      "C:\\Users\\rckyh\\Desktop\\repo\\kidney_ped\\kidney\\\\images_autosegment\\raw\\250__Still_images_5361_IM-0001-0042.png\n",
      "C:\\Users\\rckyh\\Desktop\\repo\\kidney_ped\\kidney\\\\images_autosegment\\raw\\251__Still_images_5380_IM-0001-0011.png\n",
      "C:\\Users\\rckyh\\Desktop\\repo\\kidney_ped\\kidney\\\\images_autosegment\\raw\\251__Still_images_5380_IM-0001-0025.png\n"
     ]
    },
    {
     "name": "stderr",
     "output_type": "stream",
     "text": [
      "Shape features are only available 3D input (for 2D input, use shape2D). Found 2D input\n",
      "GLCM is symmetrical, therefore Sum Average = 2 * Joint Average, only 1 needs to be calculated\n",
      "Shape features are only available 3D input (for 2D input, use shape2D). Found 2D input\n",
      "GLCM is symmetrical, therefore Sum Average = 2 * Joint Average, only 1 needs to be calculated\n",
      "Shape features are only available 3D input (for 2D input, use shape2D). Found 2D input\n",
      "GLCM is symmetrical, therefore Sum Average = 2 * Joint Average, only 1 needs to be calculated\n"
     ]
    },
    {
     "name": "stdout",
     "output_type": "stream",
     "text": [
      "C:\\Users\\rckyh\\Desktop\\repo\\kidney_ped\\kidney\\\\images_autosegment\\raw\\252__Still_images_5391_IM-0001-0034.png\n",
      "C:\\Users\\rckyh\\Desktop\\repo\\kidney_ped\\kidney\\\\images_autosegment\\raw\\252__Still_images_5391_IM-0001-0044.png\n",
      "C:\\Users\\rckyh\\Desktop\\repo\\kidney_ped\\kidney\\\\images_autosegment\\raw\\253__Still_images_5361_IM-0001-0041.png\n"
     ]
    },
    {
     "name": "stderr",
     "output_type": "stream",
     "text": [
      "Shape features are only available 3D input (for 2D input, use shape2D). Found 2D input\n",
      "GLCM is symmetrical, therefore Sum Average = 2 * Joint Average, only 1 needs to be calculated\n",
      "Shape features are only available 3D input (for 2D input, use shape2D). Found 2D input\n",
      "GLCM is symmetrical, therefore Sum Average = 2 * Joint Average, only 1 needs to be calculated\n",
      "Shape features are only available 3D input (for 2D input, use shape2D). Found 2D input\n",
      "GLCM is symmetrical, therefore Sum Average = 2 * Joint Average, only 1 needs to be calculated\n"
     ]
    },
    {
     "name": "stdout",
     "output_type": "stream",
     "text": [
      "C:\\Users\\rckyh\\Desktop\\repo\\kidney_ped\\kidney\\\\images_autosegment\\raw\\253__Still_images_5361_IM-0001-0049.png\n",
      "C:\\Users\\rckyh\\Desktop\\repo\\kidney_ped\\kidney\\\\images_autosegment\\raw\\254__Still_images_5338_IM-0001-0095.png\n"
     ]
    },
    {
     "name": "stderr",
     "output_type": "stream",
     "text": [
      "Shape features are only available 3D input (for 2D input, use shape2D). Found 2D input\n",
      "GLCM is symmetrical, therefore Sum Average = 2 * Joint Average, only 1 needs to be calculated\n",
      "Shape features are only available 3D input (for 2D input, use shape2D). Found 2D input\n",
      "GLCM is symmetrical, therefore Sum Average = 2 * Joint Average, only 1 needs to be calculated\n"
     ]
    },
    {
     "name": "stdout",
     "output_type": "stream",
     "text": [
      "C:\\Users\\rckyh\\Desktop\\repo\\kidney_ped\\kidney\\\\images_autosegment\\raw\\254__Still_images_5338_IM-0001-0133.png\n",
      "C:\\Users\\rckyh\\Desktop\\repo\\kidney_ped\\kidney\\\\images_autosegment\\raw\\255__Still_images_5366_IM-0001-0009.png\n",
      "C:\\Users\\rckyh\\Desktop\\repo\\kidney_ped\\kidney\\\\images_autosegment\\raw\\255__Still_images_5366_IM-0001-0034.png\n"
     ]
    },
    {
     "name": "stderr",
     "output_type": "stream",
     "text": [
      "Shape features are only available 3D input (for 2D input, use shape2D). Found 2D input\n",
      "GLCM is symmetrical, therefore Sum Average = 2 * Joint Average, only 1 needs to be calculated\n",
      "Shape features are only available 3D input (for 2D input, use shape2D). Found 2D input\n",
      "GLCM is symmetrical, therefore Sum Average = 2 * Joint Average, only 1 needs to be calculated\n",
      "Shape features are only available 3D input (for 2D input, use shape2D). Found 2D input\n",
      "GLCM is symmetrical, therefore Sum Average = 2 * Joint Average, only 1 needs to be calculated\n"
     ]
    },
    {
     "name": "stdout",
     "output_type": "stream",
     "text": [
      "C:\\Users\\rckyh\\Desktop\\repo\\kidney_ped\\kidney\\\\images_autosegment\\raw\\256__Still_images_5383_IM-0001-0008.png\n",
      "C:\\Users\\rckyh\\Desktop\\repo\\kidney_ped\\kidney\\\\images_autosegment\\raw\\256__Still_images_5383_IM-0001-0046.png\n",
      "C:\\Users\\rckyh\\Desktop\\repo\\kidney_ped\\kidney\\\\images_autosegment\\raw\\257__Still_images_5391_IM-0001-0002.png\n"
     ]
    },
    {
     "name": "stderr",
     "output_type": "stream",
     "text": [
      "Shape features are only available 3D input (for 2D input, use shape2D). Found 2D input\n",
      "GLCM is symmetrical, therefore Sum Average = 2 * Joint Average, only 1 needs to be calculated\n",
      "Shape features are only available 3D input (for 2D input, use shape2D). Found 2D input\n",
      "GLCM is symmetrical, therefore Sum Average = 2 * Joint Average, only 1 needs to be calculated\n",
      "Shape features are only available 3D input (for 2D input, use shape2D). Found 2D input\n",
      "GLCM is symmetrical, therefore Sum Average = 2 * Joint Average, only 1 needs to be calculated\n"
     ]
    },
    {
     "name": "stdout",
     "output_type": "stream",
     "text": [
      "C:\\Users\\rckyh\\Desktop\\repo\\kidney_ped\\kidney\\\\images_autosegment\\raw\\257__Still_images_5391_IM-0001-0016.png\n",
      "C:\\Users\\rckyh\\Desktop\\repo\\kidney_ped\\kidney\\\\images_autosegment\\raw\\258__Still_images_5382_IM-0001-0034.png\n",
      "C:\\Users\\rckyh\\Desktop\\repo\\kidney_ped\\kidney\\\\images_autosegment\\raw\\258__Still_images_5382_IM-0001-0043.png\n"
     ]
    },
    {
     "name": "stderr",
     "output_type": "stream",
     "text": [
      "Shape features are only available 3D input (for 2D input, use shape2D). Found 2D input\n",
      "GLCM is symmetrical, therefore Sum Average = 2 * Joint Average, only 1 needs to be calculated\n",
      "Shape features are only available 3D input (for 2D input, use shape2D). Found 2D input\n",
      "GLCM is symmetrical, therefore Sum Average = 2 * Joint Average, only 1 needs to be calculated\n",
      "Shape features are only available 3D input (for 2D input, use shape2D). Found 2D input\n",
      "GLCM is symmetrical, therefore Sum Average = 2 * Joint Average, only 1 needs to be calculated\n"
     ]
    },
    {
     "name": "stdout",
     "output_type": "stream",
     "text": [
      "C:\\Users\\rckyh\\Desktop\\repo\\kidney_ped\\kidney\\\\images_autosegment\\raw\\259__Still_images_5404_IM-0001-0030.png\n",
      "C:\\Users\\rckyh\\Desktop\\repo\\kidney_ped\\kidney\\\\images_autosegment\\raw\\259__Still_images_5404_IM-0001-0038.png\n",
      "C:\\Users\\rckyh\\Desktop\\repo\\kidney_ped\\kidney\\\\images_autosegment\\raw\\25__Still_images_5405_IM-0001-0032.png\n"
     ]
    },
    {
     "name": "stderr",
     "output_type": "stream",
     "text": [
      "Shape features are only available 3D input (for 2D input, use shape2D). Found 2D input\n",
      "GLCM is symmetrical, therefore Sum Average = 2 * Joint Average, only 1 needs to be calculated\n",
      "Shape features are only available 3D input (for 2D input, use shape2D). Found 2D input\n",
      "GLCM is symmetrical, therefore Sum Average = 2 * Joint Average, only 1 needs to be calculated\n",
      "Shape features are only available 3D input (for 2D input, use shape2D). Found 2D input\n",
      "GLCM is symmetrical, therefore Sum Average = 2 * Joint Average, only 1 needs to be calculated\n"
     ]
    },
    {
     "name": "stdout",
     "output_type": "stream",
     "text": [
      "C:\\Users\\rckyh\\Desktop\\repo\\kidney_ped\\kidney\\\\images_autosegment\\raw\\25__Still_images_5405_IM-0001-0047.png\n",
      "C:\\Users\\rckyh\\Desktop\\repo\\kidney_ped\\kidney\\\\images_autosegment\\raw\\260__Still_images_5345_IM-0001-0056.png\n",
      "C:\\Users\\rckyh\\Desktop\\repo\\kidney_ped\\kidney\\\\images_autosegment\\raw\\260__Still_images_5345_IM-0001-0074.png\n"
     ]
    },
    {
     "name": "stderr",
     "output_type": "stream",
     "text": [
      "Shape features are only available 3D input (for 2D input, use shape2D). Found 2D input\n",
      "GLCM is symmetrical, therefore Sum Average = 2 * Joint Average, only 1 needs to be calculated\n",
      "Shape features are only available 3D input (for 2D input, use shape2D). Found 2D input\n",
      "GLCM is symmetrical, therefore Sum Average = 2 * Joint Average, only 1 needs to be calculated\n",
      "Shape features are only available 3D input (for 2D input, use shape2D). Found 2D input\n",
      "GLCM is symmetrical, therefore Sum Average = 2 * Joint Average, only 1 needs to be calculated\n"
     ]
    },
    {
     "name": "stdout",
     "output_type": "stream",
     "text": [
      "C:\\Users\\rckyh\\Desktop\\repo\\kidney_ped\\kidney\\\\images_autosegment\\raw\\261__Still_images_5393_IM-0001-0002.png\n",
      "C:\\Users\\rckyh\\Desktop\\repo\\kidney_ped\\kidney\\\\images_autosegment\\raw\\262__Still_images_5330_IM-0001-0036.png\n",
      "C:\\Users\\rckyh\\Desktop\\repo\\kidney_ped\\kidney\\\\images_autosegment\\raw\\262__Still_images_5330_IM-0001-0048.png\n"
     ]
    },
    {
     "name": "stderr",
     "output_type": "stream",
     "text": [
      "Shape features are only available 3D input (for 2D input, use shape2D). Found 2D input\n",
      "GLCM is symmetrical, therefore Sum Average = 2 * Joint Average, only 1 needs to be calculated\n",
      "Shape features are only available 3D input (for 2D input, use shape2D). Found 2D input\n",
      "GLCM is symmetrical, therefore Sum Average = 2 * Joint Average, only 1 needs to be calculated\n",
      "Shape features are only available 3D input (for 2D input, use shape2D). Found 2D input\n",
      "GLCM is symmetrical, therefore Sum Average = 2 * Joint Average, only 1 needs to be calculated\n"
     ]
    },
    {
     "name": "stdout",
     "output_type": "stream",
     "text": [
      "C:\\Users\\rckyh\\Desktop\\repo\\kidney_ped\\kidney\\\\images_autosegment\\raw\\263__Still_images_5366_IM-0001-0009.png\n",
      "C:\\Users\\rckyh\\Desktop\\repo\\kidney_ped\\kidney\\\\images_autosegment\\raw\\263__Still_images_5366_IM-0001-0025.png\n",
      "C:\\Users\\rckyh\\Desktop\\repo\\kidney_ped\\kidney\\\\images_autosegment\\raw\\264__Still_images_5320_IM-0001-0006.png\n"
     ]
    },
    {
     "name": "stderr",
     "output_type": "stream",
     "text": [
      "Shape features are only available 3D input (for 2D input, use shape2D). Found 2D input\n",
      "GLCM is symmetrical, therefore Sum Average = 2 * Joint Average, only 1 needs to be calculated\n",
      "Shape features are only available 3D input (for 2D input, use shape2D). Found 2D input\n",
      "GLCM is symmetrical, therefore Sum Average = 2 * Joint Average, only 1 needs to be calculated\n",
      "Shape features are only available 3D input (for 2D input, use shape2D). Found 2D input\n",
      "GLCM is symmetrical, therefore Sum Average = 2 * Joint Average, only 1 needs to be calculated\n"
     ]
    },
    {
     "name": "stdout",
     "output_type": "stream",
     "text": [
      "C:\\Users\\rckyh\\Desktop\\repo\\kidney_ped\\kidney\\\\images_autosegment\\raw\\265__Still_images_5333_IM-0001-0008.png\n",
      "C:\\Users\\rckyh\\Desktop\\repo\\kidney_ped\\kidney\\\\images_autosegment\\raw\\265__Still_images_5333_IM-0001-0072.png\n",
      "C:\\Users\\rckyh\\Desktop\\repo\\kidney_ped\\kidney\\\\images_autosegment\\raw\\266__Still_images_5360_IM-0001-0036.png\n"
     ]
    },
    {
     "name": "stderr",
     "output_type": "stream",
     "text": [
      "Shape features are only available 3D input (for 2D input, use shape2D). Found 2D input\n",
      "GLCM is symmetrical, therefore Sum Average = 2 * Joint Average, only 1 needs to be calculated\n",
      "Shape features are only available 3D input (for 2D input, use shape2D). Found 2D input\n",
      "GLCM is symmetrical, therefore Sum Average = 2 * Joint Average, only 1 needs to be calculated\n",
      "Shape features are only available 3D input (for 2D input, use shape2D). Found 2D input\n",
      "GLCM is symmetrical, therefore Sum Average = 2 * Joint Average, only 1 needs to be calculated\n"
     ]
    },
    {
     "name": "stdout",
     "output_type": "stream",
     "text": [
      "C:\\Users\\rckyh\\Desktop\\repo\\kidney_ped\\kidney\\\\images_autosegment\\raw\\267__Still_images_5392_IM-0001-0013.png\n",
      "C:\\Users\\rckyh\\Desktop\\repo\\kidney_ped\\kidney\\\\images_autosegment\\raw\\267__Still_images_5392_IM-0001-0023.png\n",
      "C:\\Users\\rckyh\\Desktop\\repo\\kidney_ped\\kidney\\\\images_autosegment\\raw\\268__Still_images_5359_IM-0001-0011.png\n"
     ]
    },
    {
     "name": "stderr",
     "output_type": "stream",
     "text": [
      "Shape features are only available 3D input (for 2D input, use shape2D). Found 2D input\n",
      "GLCM is symmetrical, therefore Sum Average = 2 * Joint Average, only 1 needs to be calculated\n",
      "Shape features are only available 3D input (for 2D input, use shape2D). Found 2D input\n",
      "GLCM is symmetrical, therefore Sum Average = 2 * Joint Average, only 1 needs to be calculated\n",
      "Shape features are only available 3D input (for 2D input, use shape2D). Found 2D input\n",
      "GLCM is symmetrical, therefore Sum Average = 2 * Joint Average, only 1 needs to be calculated\n"
     ]
    },
    {
     "name": "stdout",
     "output_type": "stream",
     "text": [
      "C:\\Users\\rckyh\\Desktop\\repo\\kidney_ped\\kidney\\\\images_autosegment\\raw\\268__Still_images_5359_IM-0001-0029.png\n",
      "C:\\Users\\rckyh\\Desktop\\repo\\kidney_ped\\kidney\\\\images_autosegment\\raw\\269__Still_images_5393_IM-0001-0003.png\n",
      "C:\\Users\\rckyh\\Desktop\\repo\\kidney_ped\\kidney\\\\images_autosegment\\raw\\269__Still_images_5393_IM-0001-0017.png\n"
     ]
    },
    {
     "name": "stderr",
     "output_type": "stream",
     "text": [
      "Shape features are only available 3D input (for 2D input, use shape2D). Found 2D input\n",
      "GLCM is symmetrical, therefore Sum Average = 2 * Joint Average, only 1 needs to be calculated\n",
      "Shape features are only available 3D input (for 2D input, use shape2D). Found 2D input\n",
      "GLCM is symmetrical, therefore Sum Average = 2 * Joint Average, only 1 needs to be calculated\n",
      "Shape features are only available 3D input (for 2D input, use shape2D). Found 2D input\n",
      "GLCM is symmetrical, therefore Sum Average = 2 * Joint Average, only 1 needs to be calculated\n"
     ]
    },
    {
     "name": "stdout",
     "output_type": "stream",
     "text": [
      "C:\\Users\\rckyh\\Desktop\\repo\\kidney_ped\\kidney\\\\images_autosegment\\raw\\26__Still_images_5415_IM-0001-0036.png\n",
      "C:\\Users\\rckyh\\Desktop\\repo\\kidney_ped\\kidney\\\\images_autosegment\\raw\\26__Still_images_5415_IM-0001-0078.png\n",
      "C:\\Users\\rckyh\\Desktop\\repo\\kidney_ped\\kidney\\\\images_autosegment\\raw\\270__Still_images_5366_IM-0001-0038.png\n"
     ]
    },
    {
     "name": "stderr",
     "output_type": "stream",
     "text": [
      "Shape features are only available 3D input (for 2D input, use shape2D). Found 2D input\n",
      "GLCM is symmetrical, therefore Sum Average = 2 * Joint Average, only 1 needs to be calculated\n",
      "Shape features are only available 3D input (for 2D input, use shape2D). Found 2D input\n",
      "GLCM is symmetrical, therefore Sum Average = 2 * Joint Average, only 1 needs to be calculated\n",
      "Shape features are only available 3D input (for 2D input, use shape2D). Found 2D input\n",
      "GLCM is symmetrical, therefore Sum Average = 2 * Joint Average, only 1 needs to be calculated\n"
     ]
    },
    {
     "name": "stdout",
     "output_type": "stream",
     "text": [
      "C:\\Users\\rckyh\\Desktop\\repo\\kidney_ped\\kidney\\\\images_autosegment\\raw\\271__Still_images_5364_IM-0001-0010.png\n",
      "C:\\Users\\rckyh\\Desktop\\repo\\kidney_ped\\kidney\\\\images_autosegment\\raw\\271__Still_images_5364_IM-0001-0029.png\n",
      "C:\\Users\\rckyh\\Desktop\\repo\\kidney_ped\\kidney\\\\images_autosegment\\raw\\272__Still_images_5391_IM-0002-0007.png\n"
     ]
    },
    {
     "name": "stderr",
     "output_type": "stream",
     "text": [
      "Shape features are only available 3D input (for 2D input, use shape2D). Found 2D input\n",
      "GLCM is symmetrical, therefore Sum Average = 2 * Joint Average, only 1 needs to be calculated\n",
      "Shape features are only available 3D input (for 2D input, use shape2D). Found 2D input\n",
      "GLCM is symmetrical, therefore Sum Average = 2 * Joint Average, only 1 needs to be calculated\n",
      "Shape features are only available 3D input (for 2D input, use shape2D). Found 2D input\n",
      "GLCM is symmetrical, therefore Sum Average = 2 * Joint Average, only 1 needs to be calculated\n"
     ]
    },
    {
     "name": "stdout",
     "output_type": "stream",
     "text": [
      "C:\\Users\\rckyh\\Desktop\\repo\\kidney_ped\\kidney\\\\images_autosegment\\raw\\272__Still_images_5391_IM-0002-0016.png\n",
      "C:\\Users\\rckyh\\Desktop\\repo\\kidney_ped\\kidney\\\\images_autosegment\\raw\\274__Still_images_5361_IM-0001-0038.png\n",
      "C:\\Users\\rckyh\\Desktop\\repo\\kidney_ped\\kidney\\\\images_autosegment\\raw\\276__Still_images_5402_IM-0001-0042.png\n"
     ]
    },
    {
     "name": "stderr",
     "output_type": "stream",
     "text": [
      "Shape features are only available 3D input (for 2D input, use shape2D). Found 2D input\n",
      "GLCM is symmetrical, therefore Sum Average = 2 * Joint Average, only 1 needs to be calculated\n",
      "Shape features are only available 3D input (for 2D input, use shape2D). Found 2D input\n",
      "GLCM is symmetrical, therefore Sum Average = 2 * Joint Average, only 1 needs to be calculated\n",
      "Shape features are only available 3D input (for 2D input, use shape2D). Found 2D input\n",
      "GLCM is symmetrical, therefore Sum Average = 2 * Joint Average, only 1 needs to be calculated\n"
     ]
    },
    {
     "name": "stdout",
     "output_type": "stream",
     "text": [
      "C:\\Users\\rckyh\\Desktop\\repo\\kidney_ped\\kidney\\\\images_autosegment\\raw\\276__Still_images_5402_IM-0001-0060.png\n",
      "C:\\Users\\rckyh\\Desktop\\repo\\kidney_ped\\kidney\\\\images_autosegment\\raw\\277__Still_images_5394_IM-0001-0043.png\n",
      "C:\\Users\\rckyh\\Desktop\\repo\\kidney_ped\\kidney\\\\images_autosegment\\raw\\277__Still_images_5394_IM-0001-0071.png\n"
     ]
    },
    {
     "name": "stderr",
     "output_type": "stream",
     "text": [
      "Shape features are only available 3D input (for 2D input, use shape2D). Found 2D input\n",
      "GLCM is symmetrical, therefore Sum Average = 2 * Joint Average, only 1 needs to be calculated\n",
      "Shape features are only available 3D input (for 2D input, use shape2D). Found 2D input\n",
      "GLCM is symmetrical, therefore Sum Average = 2 * Joint Average, only 1 needs to be calculated\n",
      "Shape features are only available 3D input (for 2D input, use shape2D). Found 2D input\n",
      "GLCM is symmetrical, therefore Sum Average = 2 * Joint Average, only 1 needs to be calculated\n"
     ]
    },
    {
     "name": "stdout",
     "output_type": "stream",
     "text": [
      "C:\\Users\\rckyh\\Desktop\\repo\\kidney_ped\\kidney\\\\images_autosegment\\raw\\278__Still_images_5409_IM-0001-0033.png\n",
      "C:\\Users\\rckyh\\Desktop\\repo\\kidney_ped\\kidney\\\\images_autosegment\\raw\\278__Still_images_5409_IM-0001-0044.png\n",
      "C:\\Users\\rckyh\\Desktop\\repo\\kidney_ped\\kidney\\\\images_autosegment\\raw\\279__Still_images_5371_IM-0001-0057.png\n"
     ]
    },
    {
     "name": "stderr",
     "output_type": "stream",
     "text": [
      "Shape features are only available 3D input (for 2D input, use shape2D). Found 2D input\n",
      "GLCM is symmetrical, therefore Sum Average = 2 * Joint Average, only 1 needs to be calculated\n",
      "Shape features are only available 3D input (for 2D input, use shape2D). Found 2D input\n",
      "GLCM is symmetrical, therefore Sum Average = 2 * Joint Average, only 1 needs to be calculated\n",
      "Shape features are only available 3D input (for 2D input, use shape2D). Found 2D input\n",
      "GLCM is symmetrical, therefore Sum Average = 2 * Joint Average, only 1 needs to be calculated\n"
     ]
    },
    {
     "name": "stdout",
     "output_type": "stream",
     "text": [
      "C:\\Users\\rckyh\\Desktop\\repo\\kidney_ped\\kidney\\\\images_autosegment\\raw\\279__Still_images_5371_IM-0001-0070.png\n",
      "C:\\Users\\rckyh\\Desktop\\repo\\kidney_ped\\kidney\\\\images_autosegment\\raw\\27__Still_images_5342_IM-0001-0033.png\n",
      "C:\\Users\\rckyh\\Desktop\\repo\\kidney_ped\\kidney\\\\images_autosegment\\raw\\280__Still_images_5414_IM-0001-0050.png\n"
     ]
    },
    {
     "name": "stderr",
     "output_type": "stream",
     "text": [
      "Shape features are only available 3D input (for 2D input, use shape2D). Found 2D input\n",
      "GLCM is symmetrical, therefore Sum Average = 2 * Joint Average, only 1 needs to be calculated\n",
      "Shape features are only available 3D input (for 2D input, use shape2D). Found 2D input\n",
      "GLCM is symmetrical, therefore Sum Average = 2 * Joint Average, only 1 needs to be calculated\n",
      "Shape features are only available 3D input (for 2D input, use shape2D). Found 2D input\n",
      "GLCM is symmetrical, therefore Sum Average = 2 * Joint Average, only 1 needs to be calculated\n"
     ]
    },
    {
     "name": "stdout",
     "output_type": "stream",
     "text": [
      "C:\\Users\\rckyh\\Desktop\\repo\\kidney_ped\\kidney\\\\images_autosegment\\raw\\280__Still_images_5414_IM-0001-0062.png\n",
      "C:\\Users\\rckyh\\Desktop\\repo\\kidney_ped\\kidney\\\\images_autosegment\\raw\\281__Still_images_5357_IM-0001-0043.png\n",
      "C:\\Users\\rckyh\\Desktop\\repo\\kidney_ped\\kidney\\\\images_autosegment\\raw\\281__Still_images_5357_IM-0001-0059.png\n"
     ]
    },
    {
     "name": "stderr",
     "output_type": "stream",
     "text": [
      "Shape features are only available 3D input (for 2D input, use shape2D). Found 2D input\n",
      "GLCM is symmetrical, therefore Sum Average = 2 * Joint Average, only 1 needs to be calculated\n",
      "Shape features are only available 3D input (for 2D input, use shape2D). Found 2D input\n",
      "GLCM is symmetrical, therefore Sum Average = 2 * Joint Average, only 1 needs to be calculated\n",
      "Shape features are only available 3D input (for 2D input, use shape2D). Found 2D input\n",
      "GLCM is symmetrical, therefore Sum Average = 2 * Joint Average, only 1 needs to be calculated\n"
     ]
    },
    {
     "name": "stdout",
     "output_type": "stream",
     "text": [
      "C:\\Users\\rckyh\\Desktop\\repo\\kidney_ped\\kidney\\\\images_autosegment\\raw\\282__Still_images_5335_IM-0001-0008.png\n",
      "C:\\Users\\rckyh\\Desktop\\repo\\kidney_ped\\kidney\\\\images_autosegment\\raw\\282__Still_images_5335_IM-0001-0020.png\n",
      "C:\\Users\\rckyh\\Desktop\\repo\\kidney_ped\\kidney\\\\images_autosegment\\raw\\283__Still_images_5340_IM-0001-0044.png\n"
     ]
    },
    {
     "name": "stderr",
     "output_type": "stream",
     "text": [
      "Shape features are only available 3D input (for 2D input, use shape2D). Found 2D input\n",
      "GLCM is symmetrical, therefore Sum Average = 2 * Joint Average, only 1 needs to be calculated\n",
      "Shape features are only available 3D input (for 2D input, use shape2D). Found 2D input\n",
      "GLCM is symmetrical, therefore Sum Average = 2 * Joint Average, only 1 needs to be calculated\n",
      "Shape features are only available 3D input (for 2D input, use shape2D). Found 2D input\n",
      "GLCM is symmetrical, therefore Sum Average = 2 * Joint Average, only 1 needs to be calculated\n"
     ]
    },
    {
     "name": "stdout",
     "output_type": "stream",
     "text": [
      "C:\\Users\\rckyh\\Desktop\\repo\\kidney_ped\\kidney\\\\images_autosegment\\raw\\283__Still_images_5340_IM-0001-0076.png\n",
      "C:\\Users\\rckyh\\Desktop\\repo\\kidney_ped\\kidney\\\\images_autosegment\\raw\\284__Still_images_5353_IM-0001-0006.png\n",
      "C:\\Users\\rckyh\\Desktop\\repo\\kidney_ped\\kidney\\\\images_autosegment\\raw\\284__Still_images_5353_IM-0001-0008.png\n"
     ]
    },
    {
     "name": "stderr",
     "output_type": "stream",
     "text": [
      "Shape features are only available 3D input (for 2D input, use shape2D). Found 2D input\n",
      "GLCM is symmetrical, therefore Sum Average = 2 * Joint Average, only 1 needs to be calculated\n",
      "Shape features are only available 3D input (for 2D input, use shape2D). Found 2D input\n",
      "GLCM is symmetrical, therefore Sum Average = 2 * Joint Average, only 1 needs to be calculated\n",
      "Shape features are only available 3D input (for 2D input, use shape2D). Found 2D input\n",
      "GLCM is symmetrical, therefore Sum Average = 2 * Joint Average, only 1 needs to be calculated\n"
     ]
    },
    {
     "name": "stdout",
     "output_type": "stream",
     "text": [
      "C:\\Users\\rckyh\\Desktop\\repo\\kidney_ped\\kidney\\\\images_autosegment\\raw\\285__Still_images_5336_IM-0001-0004.png\n",
      "C:\\Users\\rckyh\\Desktop\\repo\\kidney_ped\\kidney\\\\images_autosegment\\raw\\285__Still_images_5336_IM-0001-0011.png\n",
      "C:\\Users\\rckyh\\Desktop\\repo\\kidney_ped\\kidney\\\\images_autosegment\\raw\\286__Still_images_5339_IM-0001-0007.png\n"
     ]
    },
    {
     "name": "stderr",
     "output_type": "stream",
     "text": [
      "Shape features are only available 3D input (for 2D input, use shape2D). Found 2D input\n",
      "GLCM is symmetrical, therefore Sum Average = 2 * Joint Average, only 1 needs to be calculated\n",
      "Shape features are only available 3D input (for 2D input, use shape2D). Found 2D input\n",
      "GLCM is symmetrical, therefore Sum Average = 2 * Joint Average, only 1 needs to be calculated\n",
      "Shape features are only available 3D input (for 2D input, use shape2D). Found 2D input\n",
      "GLCM is symmetrical, therefore Sum Average = 2 * Joint Average, only 1 needs to be calculated\n"
     ]
    },
    {
     "name": "stdout",
     "output_type": "stream",
     "text": [
      "C:\\Users\\rckyh\\Desktop\\repo\\kidney_ped\\kidney\\\\images_autosegment\\raw\\286__Still_images_5339_IM-0001-0027.png\n",
      "C:\\Users\\rckyh\\Desktop\\repo\\kidney_ped\\kidney\\\\images_autosegment\\raw\\287__Still_images_5369_IM-0001-0047.png\n",
      "C:\\Users\\rckyh\\Desktop\\repo\\kidney_ped\\kidney\\\\images_autosegment\\raw\\287__Still_images_5369_IM-0001-0077.png\n"
     ]
    },
    {
     "name": "stderr",
     "output_type": "stream",
     "text": [
      "Shape features are only available 3D input (for 2D input, use shape2D). Found 2D input\n",
      "GLCM is symmetrical, therefore Sum Average = 2 * Joint Average, only 1 needs to be calculated\n",
      "Shape features are only available 3D input (for 2D input, use shape2D). Found 2D input\n",
      "GLCM is symmetrical, therefore Sum Average = 2 * Joint Average, only 1 needs to be calculated\n",
      "Shape features are only available 3D input (for 2D input, use shape2D). Found 2D input\n",
      "GLCM is symmetrical, therefore Sum Average = 2 * Joint Average, only 1 needs to be calculated\n"
     ]
    },
    {
     "name": "stdout",
     "output_type": "stream",
     "text": [
      "C:\\Users\\rckyh\\Desktop\\repo\\kidney_ped\\kidney\\\\images_autosegment\\raw\\288__Still_images_5372_IM-0001-0041.png\n",
      "C:\\Users\\rckyh\\Desktop\\repo\\kidney_ped\\kidney\\\\images_autosegment\\raw\\288__Still_images_5372_IM-0001-0051.png\n",
      "C:\\Users\\rckyh\\Desktop\\repo\\kidney_ped\\kidney\\\\images_autosegment\\raw\\28__Still_images_5361_IM-0001-0020.png\n"
     ]
    },
    {
     "name": "stderr",
     "output_type": "stream",
     "text": [
      "Shape features are only available 3D input (for 2D input, use shape2D). Found 2D input\n",
      "GLCM is symmetrical, therefore Sum Average = 2 * Joint Average, only 1 needs to be calculated\n",
      "Shape features are only available 3D input (for 2D input, use shape2D). Found 2D input\n",
      "GLCM is symmetrical, therefore Sum Average = 2 * Joint Average, only 1 needs to be calculated\n",
      "Shape features are only available 3D input (for 2D input, use shape2D). Found 2D input\n",
      "GLCM is symmetrical, therefore Sum Average = 2 * Joint Average, only 1 needs to be calculated\n"
     ]
    },
    {
     "name": "stdout",
     "output_type": "stream",
     "text": [
      "C:\\Users\\rckyh\\Desktop\\repo\\kidney_ped\\kidney\\\\images_autosegment\\raw\\28__Still_images_5361_IM-0001-0032.png\n",
      "C:\\Users\\rckyh\\Desktop\\repo\\kidney_ped\\kidney\\\\images_autosegment\\raw\\292__Still_images_5334_IM-0001-0006.png\n",
      "C:\\Users\\rckyh\\Desktop\\repo\\kidney_ped\\kidney\\\\images_autosegment\\raw\\292__Still_images_5334_IM-0001-0025.png\n"
     ]
    },
    {
     "name": "stderr",
     "output_type": "stream",
     "text": [
      "Shape features are only available 3D input (for 2D input, use shape2D). Found 2D input\n",
      "GLCM is symmetrical, therefore Sum Average = 2 * Joint Average, only 1 needs to be calculated\n",
      "Shape features are only available 3D input (for 2D input, use shape2D). Found 2D input\n",
      "GLCM is symmetrical, therefore Sum Average = 2 * Joint Average, only 1 needs to be calculated\n",
      "Shape features are only available 3D input (for 2D input, use shape2D). Found 2D input\n",
      "GLCM is symmetrical, therefore Sum Average = 2 * Joint Average, only 1 needs to be calculated\n"
     ]
    },
    {
     "name": "stdout",
     "output_type": "stream",
     "text": [
      "C:\\Users\\rckyh\\Desktop\\repo\\kidney_ped\\kidney\\\\images_autosegment\\raw\\293__Still_images_5366_IM-0001-0017.png\n",
      "C:\\Users\\rckyh\\Desktop\\repo\\kidney_ped\\kidney\\\\images_autosegment\\raw\\293__Still_images_5366_IM-0001-0069.png\n"
     ]
    },
    {
     "name": "stderr",
     "output_type": "stream",
     "text": [
      "Shape features are only available 3D input (for 2D input, use shape2D). Found 2D input\n",
      "GLCM is symmetrical, therefore Sum Average = 2 * Joint Average, only 1 needs to be calculated\n",
      "Shape features are only available 3D input (for 2D input, use shape2D). Found 2D input\n",
      "GLCM is symmetrical, therefore Sum Average = 2 * Joint Average, only 1 needs to be calculated\n"
     ]
    },
    {
     "name": "stdout",
     "output_type": "stream",
     "text": [
      "C:\\Users\\rckyh\\Desktop\\repo\\kidney_ped\\kidney\\\\images_autosegment\\raw\\294__Still_images_5345_IM-0001-0006.png\n",
      "C:\\Users\\rckyh\\Desktop\\repo\\kidney_ped\\kidney\\\\images_autosegment\\raw\\294__Still_images_5345_IM-0001-0014.png\n",
      "C:\\Users\\rckyh\\Desktop\\repo\\kidney_ped\\kidney\\\\images_autosegment\\raw\\295__Still_images_5369_IM-0001-0012.png\n"
     ]
    },
    {
     "name": "stderr",
     "output_type": "stream",
     "text": [
      "Shape features are only available 3D input (for 2D input, use shape2D). Found 2D input\n",
      "GLCM is symmetrical, therefore Sum Average = 2 * Joint Average, only 1 needs to be calculated\n",
      "Shape features are only available 3D input (for 2D input, use shape2D). Found 2D input\n",
      "GLCM is symmetrical, therefore Sum Average = 2 * Joint Average, only 1 needs to be calculated\n",
      "Shape features are only available 3D input (for 2D input, use shape2D). Found 2D input\n",
      "GLCM is symmetrical, therefore Sum Average = 2 * Joint Average, only 1 needs to be calculated\n"
     ]
    },
    {
     "name": "stdout",
     "output_type": "stream",
     "text": [
      "C:\\Users\\rckyh\\Desktop\\repo\\kidney_ped\\kidney\\\\images_autosegment\\raw\\295__Still_images_5369_IM-0001-0042.png\n",
      "C:\\Users\\rckyh\\Desktop\\repo\\kidney_ped\\kidney\\\\images_autosegment\\raw\\296__Still_images_5355_IM-0001-0022.png\n",
      "C:\\Users\\rckyh\\Desktop\\repo\\kidney_ped\\kidney\\\\images_autosegment\\raw\\296__Still_images_5355_IM-0001-0040.png\n"
     ]
    },
    {
     "name": "stderr",
     "output_type": "stream",
     "text": [
      "Shape features are only available 3D input (for 2D input, use shape2D). Found 2D input\n",
      "GLCM is symmetrical, therefore Sum Average = 2 * Joint Average, only 1 needs to be calculated\n",
      "Shape features are only available 3D input (for 2D input, use shape2D). Found 2D input\n",
      "GLCM is symmetrical, therefore Sum Average = 2 * Joint Average, only 1 needs to be calculated\n",
      "Shape features are only available 3D input (for 2D input, use shape2D). Found 2D input\n",
      "GLCM is symmetrical, therefore Sum Average = 2 * Joint Average, only 1 needs to be calculated\n"
     ]
    },
    {
     "name": "stdout",
     "output_type": "stream",
     "text": [
      "C:\\Users\\rckyh\\Desktop\\repo\\kidney_ped\\kidney\\\\images_autosegment\\raw\\297__Still_images_5361_IM-0001-0047.png\n",
      "C:\\Users\\rckyh\\Desktop\\repo\\kidney_ped\\kidney\\\\images_autosegment\\raw\\297__Still_images_5361_IM-0001-0077.png\n",
      "C:\\Users\\rckyh\\Desktop\\repo\\kidney_ped\\kidney\\\\images_autosegment\\raw\\298__Still_images_5341_IM-0001-0010.png\n"
     ]
    },
    {
     "name": "stderr",
     "output_type": "stream",
     "text": [
      "Shape features are only available 3D input (for 2D input, use shape2D). Found 2D input\n",
      "GLCM is symmetrical, therefore Sum Average = 2 * Joint Average, only 1 needs to be calculated\n",
      "Shape features are only available 3D input (for 2D input, use shape2D). Found 2D input\n",
      "GLCM is symmetrical, therefore Sum Average = 2 * Joint Average, only 1 needs to be calculated\n",
      "Shape features are only available 3D input (for 2D input, use shape2D). Found 2D input\n",
      "GLCM is symmetrical, therefore Sum Average = 2 * Joint Average, only 1 needs to be calculated\n"
     ]
    },
    {
     "name": "stdout",
     "output_type": "stream",
     "text": [
      "C:\\Users\\rckyh\\Desktop\\repo\\kidney_ped\\kidney\\\\images_autosegment\\raw\\298__Still_images_5341_IM-0001-0024.png\n",
      "C:\\Users\\rckyh\\Desktop\\repo\\kidney_ped\\kidney\\\\images_autosegment\\raw\\299__Still_images_5303_IM-0001-0050.png\n"
     ]
    },
    {
     "name": "stderr",
     "output_type": "stream",
     "text": [
      "Shape features are only available 3D input (for 2D input, use shape2D). Found 2D input\n",
      "GLCM is symmetrical, therefore Sum Average = 2 * Joint Average, only 1 needs to be calculated\n",
      "Shape features are only available 3D input (for 2D input, use shape2D). Found 2D input\n",
      "GLCM is symmetrical, therefore Sum Average = 2 * Joint Average, only 1 needs to be calculated\n"
     ]
    },
    {
     "name": "stdout",
     "output_type": "stream",
     "text": [
      "C:\\Users\\rckyh\\Desktop\\repo\\kidney_ped\\kidney\\\\images_autosegment\\raw\\299__Still_images_5303_IM-0001-0068.png\n",
      "C:\\Users\\rckyh\\Desktop\\repo\\kidney_ped\\kidney\\\\images_autosegment\\raw\\29__Still_images_5342_IM-0001-0010.png\n",
      "C:\\Users\\rckyh\\Desktop\\repo\\kidney_ped\\kidney\\\\images_autosegment\\raw\\29__Still_images_5342_IM-0001-0077.png\n"
     ]
    },
    {
     "name": "stderr",
     "output_type": "stream",
     "text": [
      "Shape features are only available 3D input (for 2D input, use shape2D). Found 2D input\n",
      "GLCM is symmetrical, therefore Sum Average = 2 * Joint Average, only 1 needs to be calculated\n",
      "Shape features are only available 3D input (for 2D input, use shape2D). Found 2D input\n",
      "GLCM is symmetrical, therefore Sum Average = 2 * Joint Average, only 1 needs to be calculated\n",
      "Shape features are only available 3D input (for 2D input, use shape2D). Found 2D input\n",
      "GLCM is symmetrical, therefore Sum Average = 2 * Joint Average, only 1 needs to be calculated\n"
     ]
    },
    {
     "name": "stdout",
     "output_type": "stream",
     "text": [
      "C:\\Users\\rckyh\\Desktop\\repo\\kidney_ped\\kidney\\\\images_autosegment\\raw\\2__Still Images_IM-0001-0016.png\n",
      "C:\\Users\\rckyh\\Desktop\\repo\\kidney_ped\\kidney\\\\images_autosegment\\raw\\2__Still Images_IM-0001-0062.png\n",
      "C:\\Users\\rckyh\\Desktop\\repo\\kidney_ped\\kidney\\\\images_autosegment\\raw\\300__Still_images_5321_IM-0002-0035.png\n"
     ]
    },
    {
     "name": "stderr",
     "output_type": "stream",
     "text": [
      "Shape features are only available 3D input (for 2D input, use shape2D). Found 2D input\n",
      "GLCM is symmetrical, therefore Sum Average = 2 * Joint Average, only 1 needs to be calculated\n",
      "Shape features are only available 3D input (for 2D input, use shape2D). Found 2D input\n",
      "GLCM is symmetrical, therefore Sum Average = 2 * Joint Average, only 1 needs to be calculated\n",
      "Shape features are only available 3D input (for 2D input, use shape2D). Found 2D input\n",
      "GLCM is symmetrical, therefore Sum Average = 2 * Joint Average, only 1 needs to be calculated\n"
     ]
    },
    {
     "name": "stdout",
     "output_type": "stream",
     "text": [
      "C:\\Users\\rckyh\\Desktop\\repo\\kidney_ped\\kidney\\\\images_autosegment\\raw\\300__Still_images_5321_IM-0002-0076.png\n",
      "C:\\Users\\rckyh\\Desktop\\repo\\kidney_ped\\kidney\\\\images_autosegment\\raw\\301__Still_images_5385_IM-0001-0012.png\n",
      "C:\\Users\\rckyh\\Desktop\\repo\\kidney_ped\\kidney\\\\images_autosegment\\raw\\301__Still_images_5385_IM-0001-0039.png\n"
     ]
    },
    {
     "name": "stderr",
     "output_type": "stream",
     "text": [
      "Shape features are only available 3D input (for 2D input, use shape2D). Found 2D input\n",
      "GLCM is symmetrical, therefore Sum Average = 2 * Joint Average, only 1 needs to be calculated\n",
      "Shape features are only available 3D input (for 2D input, use shape2D). Found 2D input\n",
      "GLCM is symmetrical, therefore Sum Average = 2 * Joint Average, only 1 needs to be calculated\n",
      "Shape features are only available 3D input (for 2D input, use shape2D). Found 2D input\n",
      "GLCM is symmetrical, therefore Sum Average = 2 * Joint Average, only 1 needs to be calculated\n"
     ]
    },
    {
     "name": "stdout",
     "output_type": "stream",
     "text": [
      "C:\\Users\\rckyh\\Desktop\\repo\\kidney_ped\\kidney\\\\images_autosegment\\raw\\302__Still_images_5380_IM-0001-0050.png\n",
      "C:\\Users\\rckyh\\Desktop\\repo\\kidney_ped\\kidney\\\\images_autosegment\\raw\\302__Still_images_5380_IM-0001-0058.png\n",
      "C:\\Users\\rckyh\\Desktop\\repo\\kidney_ped\\kidney\\\\images_autosegment\\raw\\303__Still_images_5412_IM-0001-0046.png\n"
     ]
    },
    {
     "name": "stderr",
     "output_type": "stream",
     "text": [
      "Shape features are only available 3D input (for 2D input, use shape2D). Found 2D input\n",
      "GLCM is symmetrical, therefore Sum Average = 2 * Joint Average, only 1 needs to be calculated\n",
      "Shape features are only available 3D input (for 2D input, use shape2D). Found 2D input\n",
      "GLCM is symmetrical, therefore Sum Average = 2 * Joint Average, only 1 needs to be calculated\n",
      "Shape features are only available 3D input (for 2D input, use shape2D). Found 2D input\n",
      "GLCM is symmetrical, therefore Sum Average = 2 * Joint Average, only 1 needs to be calculated\n"
     ]
    },
    {
     "name": "stdout",
     "output_type": "stream",
     "text": [
      "C:\\Users\\rckyh\\Desktop\\repo\\kidney_ped\\kidney\\\\images_autosegment\\raw\\303__Still_images_5412_IM-0001-0077.png\n",
      "C:\\Users\\rckyh\\Desktop\\repo\\kidney_ped\\kidney\\\\images_autosegment\\raw\\304__Still_images_5342_IM-0001-0008.png\n",
      "C:\\Users\\rckyh\\Desktop\\repo\\kidney_ped\\kidney\\\\images_autosegment\\raw\\304__Still_images_5342_IM-0001-0012.png\n"
     ]
    },
    {
     "name": "stderr",
     "output_type": "stream",
     "text": [
      "Shape features are only available 3D input (for 2D input, use shape2D). Found 2D input\n",
      "GLCM is symmetrical, therefore Sum Average = 2 * Joint Average, only 1 needs to be calculated\n",
      "Shape features are only available 3D input (for 2D input, use shape2D). Found 2D input\n",
      "GLCM is symmetrical, therefore Sum Average = 2 * Joint Average, only 1 needs to be calculated\n",
      "Shape features are only available 3D input (for 2D input, use shape2D). Found 2D input\n",
      "GLCM is symmetrical, therefore Sum Average = 2 * Joint Average, only 1 needs to be calculated\n"
     ]
    },
    {
     "name": "stdout",
     "output_type": "stream",
     "text": [
      "C:\\Users\\rckyh\\Desktop\\repo\\kidney_ped\\kidney\\\\images_autosegment\\raw\\305__Still_images_5347_IM-0001-0018.png\n",
      "C:\\Users\\rckyh\\Desktop\\repo\\kidney_ped\\kidney\\\\images_autosegment\\raw\\305__Still_images_5347_IM-0001-0037.png\n",
      "C:\\Users\\rckyh\\Desktop\\repo\\kidney_ped\\kidney\\\\images_autosegment\\raw\\306__Still_images_5319_IM-0001-0025.png\n"
     ]
    },
    {
     "name": "stderr",
     "output_type": "stream",
     "text": [
      "Shape features are only available 3D input (for 2D input, use shape2D). Found 2D input\n",
      "GLCM is symmetrical, therefore Sum Average = 2 * Joint Average, only 1 needs to be calculated\n",
      "Shape features are only available 3D input (for 2D input, use shape2D). Found 2D input\n",
      "GLCM is symmetrical, therefore Sum Average = 2 * Joint Average, only 1 needs to be calculated\n",
      "Shape features are only available 3D input (for 2D input, use shape2D). Found 2D input\n",
      "GLCM is symmetrical, therefore Sum Average = 2 * Joint Average, only 1 needs to be calculated\n"
     ]
    },
    {
     "name": "stdout",
     "output_type": "stream",
     "text": [
      "C:\\Users\\rckyh\\Desktop\\repo\\kidney_ped\\kidney\\\\images_autosegment\\raw\\306__Still_images_5319_IM-0001-0032.png\n",
      "C:\\Users\\rckyh\\Desktop\\repo\\kidney_ped\\kidney\\\\images_autosegment\\raw\\307__Still_images_5323_IM-0001-0038.png\n",
      "C:\\Users\\rckyh\\Desktop\\repo\\kidney_ped\\kidney\\\\images_autosegment\\raw\\307__Still_images_5323_IM-0001-0051.png\n"
     ]
    },
    {
     "name": "stderr",
     "output_type": "stream",
     "text": [
      "Shape features are only available 3D input (for 2D input, use shape2D). Found 2D input\n",
      "GLCM is symmetrical, therefore Sum Average = 2 * Joint Average, only 1 needs to be calculated\n",
      "Shape features are only available 3D input (for 2D input, use shape2D). Found 2D input\n",
      "GLCM is symmetrical, therefore Sum Average = 2 * Joint Average, only 1 needs to be calculated\n",
      "Shape features are only available 3D input (for 2D input, use shape2D). Found 2D input\n",
      "GLCM is symmetrical, therefore Sum Average = 2 * Joint Average, only 1 needs to be calculated\n"
     ]
    },
    {
     "name": "stdout",
     "output_type": "stream",
     "text": [
      "C:\\Users\\rckyh\\Desktop\\repo\\kidney_ped\\kidney\\\\images_autosegment\\raw\\308__Still_images_5331_IM-0003-0013.png\n",
      "C:\\Users\\rckyh\\Desktop\\repo\\kidney_ped\\kidney\\\\images_autosegment\\raw\\308__Still_images_5331_IM-0003-0037.png\n",
      "C:\\Users\\rckyh\\Desktop\\repo\\kidney_ped\\kidney\\\\images_autosegment\\raw\\309__Still_images_5336_IM-0001-0039.png\n"
     ]
    },
    {
     "name": "stderr",
     "output_type": "stream",
     "text": [
      "Shape features are only available 3D input (for 2D input, use shape2D). Found 2D input\n",
      "GLCM is symmetrical, therefore Sum Average = 2 * Joint Average, only 1 needs to be calculated\n",
      "Shape features are only available 3D input (for 2D input, use shape2D). Found 2D input\n",
      "GLCM is symmetrical, therefore Sum Average = 2 * Joint Average, only 1 needs to be calculated\n",
      "Shape features are only available 3D input (for 2D input, use shape2D). Found 2D input\n",
      "GLCM is symmetrical, therefore Sum Average = 2 * Joint Average, only 1 needs to be calculated\n"
     ]
    },
    {
     "name": "stdout",
     "output_type": "stream",
     "text": [
      "C:\\Users\\rckyh\\Desktop\\repo\\kidney_ped\\kidney\\\\images_autosegment\\raw\\30__Still_images_5323_IM-0001-0047.png\n",
      "C:\\Users\\rckyh\\Desktop\\repo\\kidney_ped\\kidney\\\\images_autosegment\\raw\\30__Still_images_5323_IM-0001-0054.png\n",
      "C:\\Users\\rckyh\\Desktop\\repo\\kidney_ped\\kidney\\\\images_autosegment\\raw\\310__Still_images_5327_IM-0001-0015.png\n"
     ]
    },
    {
     "name": "stderr",
     "output_type": "stream",
     "text": [
      "Shape features are only available 3D input (for 2D input, use shape2D). Found 2D input\n",
      "GLCM is symmetrical, therefore Sum Average = 2 * Joint Average, only 1 needs to be calculated\n",
      "Shape features are only available 3D input (for 2D input, use shape2D). Found 2D input\n",
      "GLCM is symmetrical, therefore Sum Average = 2 * Joint Average, only 1 needs to be calculated\n",
      "Shape features are only available 3D input (for 2D input, use shape2D). Found 2D input\n",
      "GLCM is symmetrical, therefore Sum Average = 2 * Joint Average, only 1 needs to be calculated\n"
     ]
    },
    {
     "name": "stdout",
     "output_type": "stream",
     "text": [
      "C:\\Users\\rckyh\\Desktop\\repo\\kidney_ped\\kidney\\\\images_autosegment\\raw\\310__Still_images_5327_IM-0001-0036.png\n",
      "C:\\Users\\rckyh\\Desktop\\repo\\kidney_ped\\kidney\\\\images_autosegment\\raw\\311__Still_images_5318_IM-0001-0012.png\n",
      "C:\\Users\\rckyh\\Desktop\\repo\\kidney_ped\\kidney\\\\images_autosegment\\raw\\311__Still_images_5318_IM-0001-0033.png\n"
     ]
    },
    {
     "name": "stderr",
     "output_type": "stream",
     "text": [
      "Shape features are only available 3D input (for 2D input, use shape2D). Found 2D input\n",
      "GLCM is symmetrical, therefore Sum Average = 2 * Joint Average, only 1 needs to be calculated\n",
      "Shape features are only available 3D input (for 2D input, use shape2D). Found 2D input\n",
      "GLCM is symmetrical, therefore Sum Average = 2 * Joint Average, only 1 needs to be calculated\n",
      "Shape features are only available 3D input (for 2D input, use shape2D). Found 2D input\n",
      "GLCM is symmetrical, therefore Sum Average = 2 * Joint Average, only 1 needs to be calculated\n"
     ]
    },
    {
     "name": "stdout",
     "output_type": "stream",
     "text": [
      "C:\\Users\\rckyh\\Desktop\\repo\\kidney_ped\\kidney\\\\images_autosegment\\raw\\312__Still_images_5331_IM-0001-0005.png\n",
      "C:\\Users\\rckyh\\Desktop\\repo\\kidney_ped\\kidney\\\\images_autosegment\\raw\\312__Still_images_5331_IM-0001-0015.png\n",
      "C:\\Users\\rckyh\\Desktop\\repo\\kidney_ped\\kidney\\\\images_autosegment\\raw\\313__Still_images_5337_IM-0001-0008.png\n"
     ]
    },
    {
     "name": "stderr",
     "output_type": "stream",
     "text": [
      "Shape features are only available 3D input (for 2D input, use shape2D). Found 2D input\n",
      "GLCM is symmetrical, therefore Sum Average = 2 * Joint Average, only 1 needs to be calculated\n",
      "Shape features are only available 3D input (for 2D input, use shape2D). Found 2D input\n",
      "GLCM is symmetrical, therefore Sum Average = 2 * Joint Average, only 1 needs to be calculated\n",
      "Shape features are only available 3D input (for 2D input, use shape2D). Found 2D input\n",
      "GLCM is symmetrical, therefore Sum Average = 2 * Joint Average, only 1 needs to be calculated\n"
     ]
    },
    {
     "name": "stdout",
     "output_type": "stream",
     "text": [
      "C:\\Users\\rckyh\\Desktop\\repo\\kidney_ped\\kidney\\\\images_autosegment\\raw\\313__Still_images_5337_IM-0001-0019.png\n",
      "C:\\Users\\rckyh\\Desktop\\repo\\kidney_ped\\kidney\\\\images_autosegment\\raw\\314__Still_images_5315_IM-0001-0012.png\n",
      "C:\\Users\\rckyh\\Desktop\\repo\\kidney_ped\\kidney\\\\images_autosegment\\raw\\314__Still_images_5315_IM-0001-0021.png\n"
     ]
    },
    {
     "name": "stderr",
     "output_type": "stream",
     "text": [
      "Shape features are only available 3D input (for 2D input, use shape2D). Found 2D input\n",
      "GLCM is symmetrical, therefore Sum Average = 2 * Joint Average, only 1 needs to be calculated\n",
      "Shape features are only available 3D input (for 2D input, use shape2D). Found 2D input\n",
      "GLCM is symmetrical, therefore Sum Average = 2 * Joint Average, only 1 needs to be calculated\n",
      "Shape features are only available 3D input (for 2D input, use shape2D). Found 2D input\n",
      "GLCM is symmetrical, therefore Sum Average = 2 * Joint Average, only 1 needs to be calculated\n"
     ]
    },
    {
     "name": "stdout",
     "output_type": "stream",
     "text": [
      "C:\\Users\\rckyh\\Desktop\\repo\\kidney_ped\\kidney\\\\images_autosegment\\raw\\315__Still_images_5355_IM-0001-0058.png\n",
      "C:\\Users\\rckyh\\Desktop\\repo\\kidney_ped\\kidney\\\\images_autosegment\\raw\\315__Still_images_5355_IM-0001-0072.png\n",
      "C:\\Users\\rckyh\\Desktop\\repo\\kidney_ped\\kidney\\\\images_autosegment\\raw\\316__Still_images_5342_IM-0002-0011.png\n"
     ]
    },
    {
     "name": "stderr",
     "output_type": "stream",
     "text": [
      "Shape features are only available 3D input (for 2D input, use shape2D). Found 2D input\n",
      "GLCM is symmetrical, therefore Sum Average = 2 * Joint Average, only 1 needs to be calculated\n",
      "Shape features are only available 3D input (for 2D input, use shape2D). Found 2D input\n",
      "GLCM is symmetrical, therefore Sum Average = 2 * Joint Average, only 1 needs to be calculated\n",
      "Shape features are only available 3D input (for 2D input, use shape2D). Found 2D input\n",
      "GLCM is symmetrical, therefore Sum Average = 2 * Joint Average, only 1 needs to be calculated\n"
     ]
    },
    {
     "name": "stdout",
     "output_type": "stream",
     "text": [
      "C:\\Users\\rckyh\\Desktop\\repo\\kidney_ped\\kidney\\\\images_autosegment\\raw\\316__Still_images_5342_IM-0002-0020.png\n",
      "C:\\Users\\rckyh\\Desktop\\repo\\kidney_ped\\kidney\\\\images_autosegment\\raw\\317__Still_images_5346_IM-0001-0015.png\n",
      "C:\\Users\\rckyh\\Desktop\\repo\\kidney_ped\\kidney\\\\images_autosegment\\raw\\317__Still_images_5346_IM-0001-0034.png\n"
     ]
    },
    {
     "name": "stderr",
     "output_type": "stream",
     "text": [
      "Shape features are only available 3D input (for 2D input, use shape2D). Found 2D input\n",
      "GLCM is symmetrical, therefore Sum Average = 2 * Joint Average, only 1 needs to be calculated\n",
      "Shape features are only available 3D input (for 2D input, use shape2D). Found 2D input\n",
      "GLCM is symmetrical, therefore Sum Average = 2 * Joint Average, only 1 needs to be calculated\n",
      "Shape features are only available 3D input (for 2D input, use shape2D). Found 2D input\n",
      "GLCM is symmetrical, therefore Sum Average = 2 * Joint Average, only 1 needs to be calculated\n"
     ]
    },
    {
     "name": "stdout",
     "output_type": "stream",
     "text": [
      "C:\\Users\\rckyh\\Desktop\\repo\\kidney_ped\\kidney\\\\images_autosegment\\raw\\318__Still_images_5353_IM-0001-0018.png\n",
      "C:\\Users\\rckyh\\Desktop\\repo\\kidney_ped\\kidney\\\\images_autosegment\\raw\\318__Still_images_5353_IM-0001-0048.png\n",
      "C:\\Users\\rckyh\\Desktop\\repo\\kidney_ped\\kidney\\\\images_autosegment\\raw\\319__Still_images_5370_IM-0001-0053.png\n"
     ]
    },
    {
     "name": "stderr",
     "output_type": "stream",
     "text": [
      "Shape features are only available 3D input (for 2D input, use shape2D). Found 2D input\n",
      "GLCM is symmetrical, therefore Sum Average = 2 * Joint Average, only 1 needs to be calculated\n",
      "Shape features are only available 3D input (for 2D input, use shape2D). Found 2D input\n",
      "GLCM is symmetrical, therefore Sum Average = 2 * Joint Average, only 1 needs to be calculated\n",
      "Shape features are only available 3D input (for 2D input, use shape2D). Found 2D input\n",
      "GLCM is symmetrical, therefore Sum Average = 2 * Joint Average, only 1 needs to be calculated\n"
     ]
    },
    {
     "name": "stdout",
     "output_type": "stream",
     "text": [
      "C:\\Users\\rckyh\\Desktop\\repo\\kidney_ped\\kidney\\\\images_autosegment\\raw\\319__Still_images_5370_IM-0001-0093.png\n",
      "C:\\Users\\rckyh\\Desktop\\repo\\kidney_ped\\kidney\\\\images_autosegment\\raw\\31__Still_images_5350_IM-0001-0007.png\n",
      "C:\\Users\\rckyh\\Desktop\\repo\\kidney_ped\\kidney\\\\images_autosegment\\raw\\31__Still_images_5350_IM-0001-0048.png\n"
     ]
    },
    {
     "name": "stderr",
     "output_type": "stream",
     "text": [
      "Shape features are only available 3D input (for 2D input, use shape2D). Found 2D input\n",
      "GLCM is symmetrical, therefore Sum Average = 2 * Joint Average, only 1 needs to be calculated\n",
      "Shape features are only available 3D input (for 2D input, use shape2D). Found 2D input\n",
      "GLCM is symmetrical, therefore Sum Average = 2 * Joint Average, only 1 needs to be calculated\n",
      "Shape features are only available 3D input (for 2D input, use shape2D). Found 2D input\n",
      "GLCM is symmetrical, therefore Sum Average = 2 * Joint Average, only 1 needs to be calculated\n"
     ]
    },
    {
     "name": "stdout",
     "output_type": "stream",
     "text": [
      "C:\\Users\\rckyh\\Desktop\\repo\\kidney_ped\\kidney\\\\images_autosegment\\raw\\320__Still_images_5376_IM-0001-0035.png\n",
      "C:\\Users\\rckyh\\Desktop\\repo\\kidney_ped\\kidney\\\\images_autosegment\\raw\\321__Still_images_5372_IM-0001-0005.png\n",
      "C:\\Users\\rckyh\\Desktop\\repo\\kidney_ped\\kidney\\\\images_autosegment\\raw\\321__Still_images_5372_IM-0001-0019.png\n"
     ]
    },
    {
     "name": "stderr",
     "output_type": "stream",
     "text": [
      "Shape features are only available 3D input (for 2D input, use shape2D). Found 2D input\n",
      "GLCM is symmetrical, therefore Sum Average = 2 * Joint Average, only 1 needs to be calculated\n",
      "Shape features are only available 3D input (for 2D input, use shape2D). Found 2D input\n",
      "GLCM is symmetrical, therefore Sum Average = 2 * Joint Average, only 1 needs to be calculated\n",
      "Shape features are only available 3D input (for 2D input, use shape2D). Found 2D input\n",
      "GLCM is symmetrical, therefore Sum Average = 2 * Joint Average, only 1 needs to be calculated\n"
     ]
    },
    {
     "name": "stdout",
     "output_type": "stream",
     "text": [
      "C:\\Users\\rckyh\\Desktop\\repo\\kidney_ped\\kidney\\\\images_autosegment\\raw\\322__Still_images_5346_IM-0001-0010.png\n",
      "C:\\Users\\rckyh\\Desktop\\repo\\kidney_ped\\kidney\\\\images_autosegment\\raw\\322__Still_images_5346_IM-0001-0013.png\n",
      "C:\\Users\\rckyh\\Desktop\\repo\\kidney_ped\\kidney\\\\images_autosegment\\raw\\323__Still_images_5396_IM-0001-0007.png\n"
     ]
    },
    {
     "name": "stderr",
     "output_type": "stream",
     "text": [
      "Shape features are only available 3D input (for 2D input, use shape2D). Found 2D input\n",
      "GLCM is symmetrical, therefore Sum Average = 2 * Joint Average, only 1 needs to be calculated\n",
      "Shape features are only available 3D input (for 2D input, use shape2D). Found 2D input\n",
      "GLCM is symmetrical, therefore Sum Average = 2 * Joint Average, only 1 needs to be calculated\n",
      "Shape features are only available 3D input (for 2D input, use shape2D). Found 2D input\n",
      "GLCM is symmetrical, therefore Sum Average = 2 * Joint Average, only 1 needs to be calculated\n"
     ]
    },
    {
     "name": "stdout",
     "output_type": "stream",
     "text": [
      "C:\\Users\\rckyh\\Desktop\\repo\\kidney_ped\\kidney\\\\images_autosegment\\raw\\323__Still_images_5396_IM-0001-0024.png\n",
      "C:\\Users\\rckyh\\Desktop\\repo\\kidney_ped\\kidney\\\\images_autosegment\\raw\\324__Still_images_5396_IM-0001-0012.png\n",
      "C:\\Users\\rckyh\\Desktop\\repo\\kidney_ped\\kidney\\\\images_autosegment\\raw\\324__Still_images_5396_IM-0001-0035.png\n"
     ]
    },
    {
     "name": "stderr",
     "output_type": "stream",
     "text": [
      "Shape features are only available 3D input (for 2D input, use shape2D). Found 2D input\n",
      "GLCM is symmetrical, therefore Sum Average = 2 * Joint Average, only 1 needs to be calculated\n",
      "Shape features are only available 3D input (for 2D input, use shape2D). Found 2D input\n",
      "GLCM is symmetrical, therefore Sum Average = 2 * Joint Average, only 1 needs to be calculated\n",
      "Shape features are only available 3D input (for 2D input, use shape2D). Found 2D input\n",
      "GLCM is symmetrical, therefore Sum Average = 2 * Joint Average, only 1 needs to be calculated\n"
     ]
    },
    {
     "name": "stdout",
     "output_type": "stream",
     "text": [
      "C:\\Users\\rckyh\\Desktop\\repo\\kidney_ped\\kidney\\\\images_autosegment\\raw\\325__Still_images_5334_IM-0001-0008.png\n",
      "C:\\Users\\rckyh\\Desktop\\repo\\kidney_ped\\kidney\\\\images_autosegment\\raw\\325__Still_images_5334_IM-0001-0023.png\n"
     ]
    },
    {
     "name": "stderr",
     "output_type": "stream",
     "text": [
      "Shape features are only available 3D input (for 2D input, use shape2D). Found 2D input\n",
      "GLCM is symmetrical, therefore Sum Average = 2 * Joint Average, only 1 needs to be calculated\n",
      "Shape features are only available 3D input (for 2D input, use shape2D). Found 2D input\n",
      "GLCM is symmetrical, therefore Sum Average = 2 * Joint Average, only 1 needs to be calculated\n"
     ]
    },
    {
     "name": "stdout",
     "output_type": "stream",
     "text": [
      "C:\\Users\\rckyh\\Desktop\\repo\\kidney_ped\\kidney\\\\images_autosegment\\raw\\326_Still_images_5347_IM-0001-0028.png\n",
      "C:\\Users\\rckyh\\Desktop\\repo\\kidney_ped\\kidney\\\\images_autosegment\\raw\\326_Still_images_5347_IM-0001-0031.png\n"
     ]
    },
    {
     "name": "stderr",
     "output_type": "stream",
     "text": [
      "Shape features are only available 3D input (for 2D input, use shape2D). Found 2D input\n",
      "GLCM is symmetrical, therefore Sum Average = 2 * Joint Average, only 1 needs to be calculated\n",
      "Shape features are only available 3D input (for 2D input, use shape2D). Found 2D input\n",
      "GLCM is symmetrical, therefore Sum Average = 2 * Joint Average, only 1 needs to be calculated\n"
     ]
    },
    {
     "name": "stdout",
     "output_type": "stream",
     "text": [
      "C:\\Users\\rckyh\\Desktop\\repo\\kidney_ped\\kidney\\\\images_autosegment\\raw\\327__Still_images_5335_IM-0001-0007.png\n",
      "C:\\Users\\rckyh\\Desktop\\repo\\kidney_ped\\kidney\\\\images_autosegment\\raw\\327__Still_images_5335_IM-0001-0019.png\n",
      "C:\\Users\\rckyh\\Desktop\\repo\\kidney_ped\\kidney\\\\images_autosegment\\raw\\328__Still_images_5338_IM-0001-0020.png\n"
     ]
    },
    {
     "name": "stderr",
     "output_type": "stream",
     "text": [
      "Shape features are only available 3D input (for 2D input, use shape2D). Found 2D input\n",
      "GLCM is symmetrical, therefore Sum Average = 2 * Joint Average, only 1 needs to be calculated\n",
      "Shape features are only available 3D input (for 2D input, use shape2D). Found 2D input\n",
      "GLCM is symmetrical, therefore Sum Average = 2 * Joint Average, only 1 needs to be calculated\n",
      "Shape features are only available 3D input (for 2D input, use shape2D). Found 2D input\n",
      "GLCM is symmetrical, therefore Sum Average = 2 * Joint Average, only 1 needs to be calculated\n"
     ]
    },
    {
     "name": "stdout",
     "output_type": "stream",
     "text": [
      "C:\\Users\\rckyh\\Desktop\\repo\\kidney_ped\\kidney\\\\images_autosegment\\raw\\329__Still_images_5324_IM-0001-0004.png\n",
      "C:\\Users\\rckyh\\Desktop\\repo\\kidney_ped\\kidney\\\\images_autosegment\\raw\\329__Still_images_5324_IM-0001-0011.png\n",
      "C:\\Users\\rckyh\\Desktop\\repo\\kidney_ped\\kidney\\\\images_autosegment\\raw\\32__Still_images_5337_IM-0001-0011.png\n"
     ]
    },
    {
     "name": "stderr",
     "output_type": "stream",
     "text": [
      "Shape features are only available 3D input (for 2D input, use shape2D). Found 2D input\n",
      "GLCM is symmetrical, therefore Sum Average = 2 * Joint Average, only 1 needs to be calculated\n",
      "Shape features are only available 3D input (for 2D input, use shape2D). Found 2D input\n",
      "GLCM is symmetrical, therefore Sum Average = 2 * Joint Average, only 1 needs to be calculated\n",
      "Shape features are only available 3D input (for 2D input, use shape2D). Found 2D input\n",
      "GLCM is symmetrical, therefore Sum Average = 2 * Joint Average, only 1 needs to be calculated\n"
     ]
    },
    {
     "name": "stdout",
     "output_type": "stream",
     "text": [
      "C:\\Users\\rckyh\\Desktop\\repo\\kidney_ped\\kidney\\\\images_autosegment\\raw\\32__Still_images_5337_IM-0001-0021.png\n",
      "C:\\Users\\rckyh\\Desktop\\repo\\kidney_ped\\kidney\\\\images_autosegment\\raw\\330__Still_images_5332_IM-0001-0040.png\n"
     ]
    },
    {
     "name": "stderr",
     "output_type": "stream",
     "text": [
      "Shape features are only available 3D input (for 2D input, use shape2D). Found 2D input\n",
      "GLCM is symmetrical, therefore Sum Average = 2 * Joint Average, only 1 needs to be calculated\n",
      "Shape features are only available 3D input (for 2D input, use shape2D). Found 2D input\n",
      "GLCM is symmetrical, therefore Sum Average = 2 * Joint Average, only 1 needs to be calculated\n"
     ]
    },
    {
     "name": "stdout",
     "output_type": "stream",
     "text": [
      "C:\\Users\\rckyh\\Desktop\\repo\\kidney_ped\\kidney\\\\images_autosegment\\raw\\330__Still_images_5332_IM-0001-0054.png\n",
      "C:\\Users\\rckyh\\Desktop\\repo\\kidney_ped\\kidney\\\\images_autosegment\\raw\\331__Still_images_5400_IM-0002-0008.png\n",
      "C:\\Users\\rckyh\\Desktop\\repo\\kidney_ped\\kidney\\\\images_autosegment\\raw\\331__Still_images_5400_IM-0002-0028.png\n"
     ]
    },
    {
     "name": "stderr",
     "output_type": "stream",
     "text": [
      "Shape features are only available 3D input (for 2D input, use shape2D). Found 2D input\n",
      "GLCM is symmetrical, therefore Sum Average = 2 * Joint Average, only 1 needs to be calculated\n",
      "Shape features are only available 3D input (for 2D input, use shape2D). Found 2D input\n",
      "GLCM is symmetrical, therefore Sum Average = 2 * Joint Average, only 1 needs to be calculated\n",
      "Shape features are only available 3D input (for 2D input, use shape2D). Found 2D input\n"
     ]
    },
    {
     "name": "stdout",
     "output_type": "stream",
     "text": [
      "C:\\Users\\rckyh\\Desktop\\repo\\kidney_ped\\kidney\\\\images_autosegment\\raw\\332__Still_images_5369_IM-0001-0008.png\n",
      "C:\\Users\\rckyh\\Desktop\\repo\\kidney_ped\\kidney\\\\images_autosegment\\raw\\333__Still_images_5370_IM-0003-0007.png\n"
     ]
    },
    {
     "name": "stderr",
     "output_type": "stream",
     "text": [
      "GLCM is symmetrical, therefore Sum Average = 2 * Joint Average, only 1 needs to be calculated\n",
      "Shape features are only available 3D input (for 2D input, use shape2D). Found 2D input\n",
      "GLCM is symmetrical, therefore Sum Average = 2 * Joint Average, only 1 needs to be calculated\n",
      "Shape features are only available 3D input (for 2D input, use shape2D). Found 2D input\n",
      "GLCM is symmetrical, therefore Sum Average = 2 * Joint Average, only 1 needs to be calculated\n"
     ]
    },
    {
     "name": "stdout",
     "output_type": "stream",
     "text": [
      "C:\\Users\\rckyh\\Desktop\\repo\\kidney_ped\\kidney\\\\images_autosegment\\raw\\333__Still_images_5370_IM-0003-0037.png\n",
      "C:\\Users\\rckyh\\Desktop\\repo\\kidney_ped\\kidney\\\\images_autosegment\\raw\\334__Still_images_5362_IM-0001-0009.png\n",
      "C:\\Users\\rckyh\\Desktop\\repo\\kidney_ped\\kidney\\\\images_autosegment\\raw\\334__Still_images_5362_IM-0001-0017.png\n"
     ]
    },
    {
     "name": "stderr",
     "output_type": "stream",
     "text": [
      "Shape features are only available 3D input (for 2D input, use shape2D). Found 2D input\n",
      "GLCM is symmetrical, therefore Sum Average = 2 * Joint Average, only 1 needs to be calculated\n",
      "Shape features are only available 3D input (for 2D input, use shape2D). Found 2D input\n",
      "GLCM is symmetrical, therefore Sum Average = 2 * Joint Average, only 1 needs to be calculated\n",
      "Shape features are only available 3D input (for 2D input, use shape2D). Found 2D input\n",
      "GLCM is symmetrical, therefore Sum Average = 2 * Joint Average, only 1 needs to be calculated\n"
     ]
    },
    {
     "name": "stdout",
     "output_type": "stream",
     "text": [
      "C:\\Users\\rckyh\\Desktop\\repo\\kidney_ped\\kidney\\\\images_autosegment\\raw\\335__Still_images_5332_IM-0001-0012.png\n",
      "C:\\Users\\rckyh\\Desktop\\repo\\kidney_ped\\kidney\\\\images_autosegment\\raw\\335__Still_images_5332_IM-0001-0050.png\n"
     ]
    },
    {
     "name": "stderr",
     "output_type": "stream",
     "text": [
      "Shape features are only available 3D input (for 2D input, use shape2D). Found 2D input\n",
      "GLCM is symmetrical, therefore Sum Average = 2 * Joint Average, only 1 needs to be calculated\n",
      "Shape features are only available 3D input (for 2D input, use shape2D). Found 2D input\n",
      "GLCM is symmetrical, therefore Sum Average = 2 * Joint Average, only 1 needs to be calculated\n"
     ]
    },
    {
     "name": "stdout",
     "output_type": "stream",
     "text": [
      "C:\\Users\\rckyh\\Desktop\\repo\\kidney_ped\\kidney\\\\images_autosegment\\raw\\336__Still_images_5338_IM-0001-0012.png\n",
      "C:\\Users\\rckyh\\Desktop\\repo\\kidney_ped\\kidney\\\\images_autosegment\\raw\\336__Still_images_5338_IM-0001-0026.png\n",
      "C:\\Users\\rckyh\\Desktop\\repo\\kidney_ped\\kidney\\\\images_autosegment\\raw\\337__Still_images_5306_IM-0001-0004.png\n"
     ]
    },
    {
     "name": "stderr",
     "output_type": "stream",
     "text": [
      "Shape features are only available 3D input (for 2D input, use shape2D). Found 2D input\n",
      "GLCM is symmetrical, therefore Sum Average = 2 * Joint Average, only 1 needs to be calculated\n",
      "Shape features are only available 3D input (for 2D input, use shape2D). Found 2D input\n",
      "GLCM is symmetrical, therefore Sum Average = 2 * Joint Average, only 1 needs to be calculated\n",
      "Shape features are only available 3D input (for 2D input, use shape2D). Found 2D input\n",
      "GLCM is symmetrical, therefore Sum Average = 2 * Joint Average, only 1 needs to be calculated\n"
     ]
    },
    {
     "name": "stdout",
     "output_type": "stream",
     "text": [
      "C:\\Users\\rckyh\\Desktop\\repo\\kidney_ped\\kidney\\\\images_autosegment\\raw\\337__Still_images_5306_IM-0001-0012.png\n",
      "C:\\Users\\rckyh\\Desktop\\repo\\kidney_ped\\kidney\\\\images_autosegment\\raw\\338__Still_images_5345_IM-0004-0006.png\n",
      "C:\\Users\\rckyh\\Desktop\\repo\\kidney_ped\\kidney\\\\images_autosegment\\raw\\338__Still_images_5345_IM-0004-0067.png\n"
     ]
    },
    {
     "name": "stderr",
     "output_type": "stream",
     "text": [
      "Shape features are only available 3D input (for 2D input, use shape2D). Found 2D input\n",
      "GLCM is symmetrical, therefore Sum Average = 2 * Joint Average, only 1 needs to be calculated\n",
      "Shape features are only available 3D input (for 2D input, use shape2D). Found 2D input\n",
      "GLCM is symmetrical, therefore Sum Average = 2 * Joint Average, only 1 needs to be calculated\n",
      "Shape features are only available 3D input (for 2D input, use shape2D). Found 2D input\n",
      "GLCM is symmetrical, therefore Sum Average = 2 * Joint Average, only 1 needs to be calculated\n"
     ]
    },
    {
     "name": "stdout",
     "output_type": "stream",
     "text": [
      "C:\\Users\\rckyh\\Desktop\\repo\\kidney_ped\\kidney\\\\images_autosegment\\raw\\339__Still_images_5353_IM-0001-0034.png\n",
      "C:\\Users\\rckyh\\Desktop\\repo\\kidney_ped\\kidney\\\\images_autosegment\\raw\\339__Still_images_5353_IM-0001-0046.png\n",
      "C:\\Users\\rckyh\\Desktop\\repo\\kidney_ped\\kidney\\\\images_autosegment\\raw\\33__Still_images_5350_IM-0001-0011.png\n"
     ]
    },
    {
     "name": "stderr",
     "output_type": "stream",
     "text": [
      "Shape features are only available 3D input (for 2D input, use shape2D). Found 2D input\n",
      "GLCM is symmetrical, therefore Sum Average = 2 * Joint Average, only 1 needs to be calculated\n",
      "Shape features are only available 3D input (for 2D input, use shape2D). Found 2D input\n",
      "GLCM is symmetrical, therefore Sum Average = 2 * Joint Average, only 1 needs to be calculated\n",
      "Shape features are only available 3D input (for 2D input, use shape2D). Found 2D input\n",
      "GLCM is symmetrical, therefore Sum Average = 2 * Joint Average, only 1 needs to be calculated\n"
     ]
    },
    {
     "name": "stdout",
     "output_type": "stream",
     "text": [
      "C:\\Users\\rckyh\\Desktop\\repo\\kidney_ped\\kidney\\\\images_autosegment\\raw\\33__Still_images_5350_IM-0001-0020.png\n",
      "C:\\Users\\rckyh\\Desktop\\repo\\kidney_ped\\kidney\\\\images_autosegment\\raw\\340__Still_images_5367_IM-0002-0039.png\n",
      "C:\\Users\\rckyh\\Desktop\\repo\\kidney_ped\\kidney\\\\images_autosegment\\raw\\340__Still_images_5367_IM-0002-0049.png\n"
     ]
    },
    {
     "name": "stderr",
     "output_type": "stream",
     "text": [
      "Shape features are only available 3D input (for 2D input, use shape2D). Found 2D input\n",
      "GLCM is symmetrical, therefore Sum Average = 2 * Joint Average, only 1 needs to be calculated\n",
      "Shape features are only available 3D input (for 2D input, use shape2D). Found 2D input\n",
      "GLCM is symmetrical, therefore Sum Average = 2 * Joint Average, only 1 needs to be calculated\n",
      "Shape features are only available 3D input (for 2D input, use shape2D). Found 2D input\n",
      "GLCM is symmetrical, therefore Sum Average = 2 * Joint Average, only 1 needs to be calculated\n"
     ]
    },
    {
     "name": "stdout",
     "output_type": "stream",
     "text": [
      "C:\\Users\\rckyh\\Desktop\\repo\\kidney_ped\\kidney\\\\images_autosegment\\raw\\341__Still_images_5372_IM-0001-0051.png\n",
      "C:\\Users\\rckyh\\Desktop\\repo\\kidney_ped\\kidney\\\\images_autosegment\\raw\\341__Still_images_5372_IM-0001-0062.png\n",
      "C:\\Users\\rckyh\\Desktop\\repo\\kidney_ped\\kidney\\\\images_autosegment\\raw\\343__Still_images_5351_IM-0001-0041.png\n"
     ]
    },
    {
     "name": "stderr",
     "output_type": "stream",
     "text": [
      "Shape features are only available 3D input (for 2D input, use shape2D). Found 2D input\n",
      "GLCM is symmetrical, therefore Sum Average = 2 * Joint Average, only 1 needs to be calculated\n",
      "Shape features are only available 3D input (for 2D input, use shape2D). Found 2D input\n",
      "GLCM is symmetrical, therefore Sum Average = 2 * Joint Average, only 1 needs to be calculated\n",
      "Shape features are only available 3D input (for 2D input, use shape2D). Found 2D input\n",
      "GLCM is symmetrical, therefore Sum Average = 2 * Joint Average, only 1 needs to be calculated\n"
     ]
    },
    {
     "name": "stdout",
     "output_type": "stream",
     "text": [
      "C:\\Users\\rckyh\\Desktop\\repo\\kidney_ped\\kidney\\\\images_autosegment\\raw\\343__Still_images_5351_IM-0001-0057.png\n",
      "C:\\Users\\rckyh\\Desktop\\repo\\kidney_ped\\kidney\\\\images_autosegment\\raw\\344__Still_images_5338_IM-0001-0035.png\n",
      "C:\\Users\\rckyh\\Desktop\\repo\\kidney_ped\\kidney\\\\images_autosegment\\raw\\344__Still_images_5338_IM-0001-0048.png\n"
     ]
    },
    {
     "name": "stderr",
     "output_type": "stream",
     "text": [
      "Shape features are only available 3D input (for 2D input, use shape2D). Found 2D input\n",
      "GLCM is symmetrical, therefore Sum Average = 2 * Joint Average, only 1 needs to be calculated\n",
      "Shape features are only available 3D input (for 2D input, use shape2D). Found 2D input\n",
      "GLCM is symmetrical, therefore Sum Average = 2 * Joint Average, only 1 needs to be calculated\n",
      "Shape features are only available 3D input (for 2D input, use shape2D). Found 2D input\n",
      "GLCM is symmetrical, therefore Sum Average = 2 * Joint Average, only 1 needs to be calculated\n"
     ]
    },
    {
     "name": "stdout",
     "output_type": "stream",
     "text": [
      "C:\\Users\\rckyh\\Desktop\\repo\\kidney_ped\\kidney\\\\images_autosegment\\raw\\345_Still_images_5354_IM-0001-0026.png\n",
      "C:\\Users\\rckyh\\Desktop\\repo\\kidney_ped\\kidney\\\\images_autosegment\\raw\\345_Still_images_5354_IM-0001-0050.png\n",
      "C:\\Users\\rckyh\\Desktop\\repo\\kidney_ped\\kidney\\\\images_autosegment\\raw\\346__Still_images_5358_IM-0001-0022.png\n"
     ]
    },
    {
     "name": "stderr",
     "output_type": "stream",
     "text": [
      "Shape features are only available 3D input (for 2D input, use shape2D). Found 2D input\n",
      "GLCM is symmetrical, therefore Sum Average = 2 * Joint Average, only 1 needs to be calculated\n",
      "Shape features are only available 3D input (for 2D input, use shape2D). Found 2D input\n",
      "GLCM is symmetrical, therefore Sum Average = 2 * Joint Average, only 1 needs to be calculated\n",
      "Shape features are only available 3D input (for 2D input, use shape2D). Found 2D input\n",
      "GLCM is symmetrical, therefore Sum Average = 2 * Joint Average, only 1 needs to be calculated\n"
     ]
    },
    {
     "name": "stdout",
     "output_type": "stream",
     "text": [
      "C:\\Users\\rckyh\\Desktop\\repo\\kidney_ped\\kidney\\\\images_autosegment\\raw\\346__Still_images_5358_IM-0001-0040.png\n",
      "C:\\Users\\rckyh\\Desktop\\repo\\kidney_ped\\kidney\\\\images_autosegment\\raw\\347__Still_images_5352_IM-0001-0056.png\n",
      "C:\\Users\\rckyh\\Desktop\\repo\\kidney_ped\\kidney\\\\images_autosegment\\raw\\347__Still_images_5352_IM-0001-0081.png\n"
     ]
    },
    {
     "name": "stderr",
     "output_type": "stream",
     "text": [
      "Shape features are only available 3D input (for 2D input, use shape2D). Found 2D input\n",
      "GLCM is symmetrical, therefore Sum Average = 2 * Joint Average, only 1 needs to be calculated\n",
      "Shape features are only available 3D input (for 2D input, use shape2D). Found 2D input\n",
      "GLCM is symmetrical, therefore Sum Average = 2 * Joint Average, only 1 needs to be calculated\n",
      "Shape features are only available 3D input (for 2D input, use shape2D). Found 2D input\n",
      "GLCM is symmetrical, therefore Sum Average = 2 * Joint Average, only 1 needs to be calculated\n"
     ]
    },
    {
     "name": "stdout",
     "output_type": "stream",
     "text": [
      "C:\\Users\\rckyh\\Desktop\\repo\\kidney_ped\\kidney\\\\images_autosegment\\raw\\348__Still_images_5382_IM-0001-0006.png\n",
      "C:\\Users\\rckyh\\Desktop\\repo\\kidney_ped\\kidney\\\\images_autosegment\\raw\\348__Still_images_5382_IM-0001-0018.png\n",
      "C:\\Users\\rckyh\\Desktop\\repo\\kidney_ped\\kidney\\\\images_autosegment\\raw\\349__Still_images_5387_IM-0001-0013.png\n"
     ]
    },
    {
     "name": "stderr",
     "output_type": "stream",
     "text": [
      "Shape features are only available 3D input (for 2D input, use shape2D). Found 2D input\n",
      "GLCM is symmetrical, therefore Sum Average = 2 * Joint Average, only 1 needs to be calculated\n",
      "Shape features are only available 3D input (for 2D input, use shape2D). Found 2D input\n",
      "GLCM is symmetrical, therefore Sum Average = 2 * Joint Average, only 1 needs to be calculated\n",
      "Shape features are only available 3D input (for 2D input, use shape2D). Found 2D input\n",
      "GLCM is symmetrical, therefore Sum Average = 2 * Joint Average, only 1 needs to be calculated\n"
     ]
    },
    {
     "name": "stdout",
     "output_type": "stream",
     "text": [
      "C:\\Users\\rckyh\\Desktop\\repo\\kidney_ped\\kidney\\\\images_autosegment\\raw\\349__Still_images_5387_IM-0001-0047.png\n",
      "C:\\Users\\rckyh\\Desktop\\repo\\kidney_ped\\kidney\\\\images_autosegment\\raw\\34__Still_images_5346_IM-0001-0009.png\n",
      "C:\\Users\\rckyh\\Desktop\\repo\\kidney_ped\\kidney\\\\images_autosegment\\raw\\34__Still_images_5346_IM-0001-0022.png\n"
     ]
    },
    {
     "name": "stderr",
     "output_type": "stream",
     "text": [
      "Shape features are only available 3D input (for 2D input, use shape2D). Found 2D input\n",
      "GLCM is symmetrical, therefore Sum Average = 2 * Joint Average, only 1 needs to be calculated\n",
      "Shape features are only available 3D input (for 2D input, use shape2D). Found 2D input\n",
      "GLCM is symmetrical, therefore Sum Average = 2 * Joint Average, only 1 needs to be calculated\n",
      "Shape features are only available 3D input (for 2D input, use shape2D). Found 2D input\n",
      "GLCM is symmetrical, therefore Sum Average = 2 * Joint Average, only 1 needs to be calculated\n"
     ]
    },
    {
     "name": "stdout",
     "output_type": "stream",
     "text": [
      "C:\\Users\\rckyh\\Desktop\\repo\\kidney_ped\\kidney\\\\images_autosegment\\raw\\350__Still_images_5401_IM-0002-0009.png\n",
      "C:\\Users\\rckyh\\Desktop\\repo\\kidney_ped\\kidney\\\\images_autosegment\\raw\\350__Still_images_5401_IM-0002-0057.png\n",
      "C:\\Users\\rckyh\\Desktop\\repo\\kidney_ped\\kidney\\\\images_autosegment\\raw\\351__Still_images_5352_IM-0001-0007.png\n"
     ]
    },
    {
     "name": "stderr",
     "output_type": "stream",
     "text": [
      "Shape features are only available 3D input (for 2D input, use shape2D). Found 2D input\n",
      "GLCM is symmetrical, therefore Sum Average = 2 * Joint Average, only 1 needs to be calculated\n",
      "Shape features are only available 3D input (for 2D input, use shape2D). Found 2D input\n",
      "GLCM is symmetrical, therefore Sum Average = 2 * Joint Average, only 1 needs to be calculated\n",
      "Shape features are only available 3D input (for 2D input, use shape2D). Found 2D input\n",
      "GLCM is symmetrical, therefore Sum Average = 2 * Joint Average, only 1 needs to be calculated\n"
     ]
    },
    {
     "name": "stdout",
     "output_type": "stream",
     "text": [
      "C:\\Users\\rckyh\\Desktop\\repo\\kidney_ped\\kidney\\\\images_autosegment\\raw\\351__Still_images_5352_IM-0001-0060.png\n",
      "C:\\Users\\rckyh\\Desktop\\repo\\kidney_ped\\kidney\\\\images_autosegment\\raw\\352__Still_images_5355_IM-0001-0031.png\n",
      "C:\\Users\\rckyh\\Desktop\\repo\\kidney_ped\\kidney\\\\images_autosegment\\raw\\352__Still_images_5355_IM-0001-0050.png\n"
     ]
    },
    {
     "name": "stderr",
     "output_type": "stream",
     "text": [
      "Shape features are only available 3D input (for 2D input, use shape2D). Found 2D input\n",
      "GLCM is symmetrical, therefore Sum Average = 2 * Joint Average, only 1 needs to be calculated\n",
      "Shape features are only available 3D input (for 2D input, use shape2D). Found 2D input\n",
      "GLCM is symmetrical, therefore Sum Average = 2 * Joint Average, only 1 needs to be calculated\n",
      "Shape features are only available 3D input (for 2D input, use shape2D). Found 2D input\n",
      "GLCM is symmetrical, therefore Sum Average = 2 * Joint Average, only 1 needs to be calculated\n"
     ]
    },
    {
     "name": "stdout",
     "output_type": "stream",
     "text": [
      "C:\\Users\\rckyh\\Desktop\\repo\\kidney_ped\\kidney\\\\images_autosegment\\raw\\353__Still_images_5360_IM-0001-0004.png\n",
      "C:\\Users\\rckyh\\Desktop\\repo\\kidney_ped\\kidney\\\\images_autosegment\\raw\\353__Still_images_5360_IM-0001-0018.png\n",
      "C:\\Users\\rckyh\\Desktop\\repo\\kidney_ped\\kidney\\\\images_autosegment\\raw\\354__Still_images_5383_IM-0002-0073.png\n"
     ]
    },
    {
     "name": "stderr",
     "output_type": "stream",
     "text": [
      "Shape features are only available 3D input (for 2D input, use shape2D). Found 2D input\n",
      "GLCM is symmetrical, therefore Sum Average = 2 * Joint Average, only 1 needs to be calculated\n",
      "Shape features are only available 3D input (for 2D input, use shape2D). Found 2D input\n",
      "GLCM is symmetrical, therefore Sum Average = 2 * Joint Average, only 1 needs to be calculated\n",
      "Shape features are only available 3D input (for 2D input, use shape2D). Found 2D input\n",
      "GLCM is symmetrical, therefore Sum Average = 2 * Joint Average, only 1 needs to be calculated\n"
     ]
    },
    {
     "name": "stdout",
     "output_type": "stream",
     "text": [
      "C:\\Users\\rckyh\\Desktop\\repo\\kidney_ped\\kidney\\\\images_autosegment\\raw\\354__Still_images_5383_IM-0002-0077.png\n",
      "C:\\Users\\rckyh\\Desktop\\repo\\kidney_ped\\kidney\\\\images_autosegment\\raw\\355__Still_images_5411_IM-0001-0008.png\n",
      "C:\\Users\\rckyh\\Desktop\\repo\\kidney_ped\\kidney\\\\images_autosegment\\raw\\355__Still_images_5411_IM-0001-0023.png\n"
     ]
    },
    {
     "name": "stderr",
     "output_type": "stream",
     "text": [
      "Shape features are only available 3D input (for 2D input, use shape2D). Found 2D input\n",
      "GLCM is symmetrical, therefore Sum Average = 2 * Joint Average, only 1 needs to be calculated\n",
      "Shape features are only available 3D input (for 2D input, use shape2D). Found 2D input\n",
      "GLCM is symmetrical, therefore Sum Average = 2 * Joint Average, only 1 needs to be calculated\n",
      "Shape features are only available 3D input (for 2D input, use shape2D). Found 2D input\n",
      "GLCM is symmetrical, therefore Sum Average = 2 * Joint Average, only 1 needs to be calculated\n"
     ]
    },
    {
     "name": "stdout",
     "output_type": "stream",
     "text": [
      "C:\\Users\\rckyh\\Desktop\\repo\\kidney_ped\\kidney\\\\images_autosegment\\raw\\356__Still_images_5327_IM-0001-0002.png\n",
      "C:\\Users\\rckyh\\Desktop\\repo\\kidney_ped\\kidney\\\\images_autosegment\\raw\\356__Still_images_5327_IM-0001-0009.png\n",
      "C:\\Users\\rckyh\\Desktop\\repo\\kidney_ped\\kidney\\\\images_autosegment\\raw\\357__Still_images_5307_IM-0001-0008.png\n"
     ]
    },
    {
     "name": "stderr",
     "output_type": "stream",
     "text": [
      "Shape features are only available 3D input (for 2D input, use shape2D). Found 2D input\n",
      "GLCM is symmetrical, therefore Sum Average = 2 * Joint Average, only 1 needs to be calculated\n",
      "Shape features are only available 3D input (for 2D input, use shape2D). Found 2D input\n",
      "GLCM is symmetrical, therefore Sum Average = 2 * Joint Average, only 1 needs to be calculated\n",
      "Shape features are only available 3D input (for 2D input, use shape2D). Found 2D input\n",
      "GLCM is symmetrical, therefore Sum Average = 2 * Joint Average, only 1 needs to be calculated\n"
     ]
    },
    {
     "name": "stdout",
     "output_type": "stream",
     "text": [
      "C:\\Users\\rckyh\\Desktop\\repo\\kidney_ped\\kidney\\\\images_autosegment\\raw\\357__Still_images_5307_IM-0001-0024.png\n",
      "C:\\Users\\rckyh\\Desktop\\repo\\kidney_ped\\kidney\\\\images_autosegment\\raw\\358__Still_images_5349_IM-0002-0003.png\n",
      "C:\\Users\\rckyh\\Desktop\\repo\\kidney_ped\\kidney\\\\images_autosegment\\raw\\358__Still_images_5349_IM-0002-0015.png\n"
     ]
    },
    {
     "name": "stderr",
     "output_type": "stream",
     "text": [
      "Shape features are only available 3D input (for 2D input, use shape2D). Found 2D input\n",
      "GLCM is symmetrical, therefore Sum Average = 2 * Joint Average, only 1 needs to be calculated\n",
      "Shape features are only available 3D input (for 2D input, use shape2D). Found 2D input\n",
      "GLCM is symmetrical, therefore Sum Average = 2 * Joint Average, only 1 needs to be calculated\n",
      "Shape features are only available 3D input (for 2D input, use shape2D). Found 2D input\n",
      "GLCM is symmetrical, therefore Sum Average = 2 * Joint Average, only 1 needs to be calculated\n"
     ]
    },
    {
     "name": "stdout",
     "output_type": "stream",
     "text": [
      "C:\\Users\\rckyh\\Desktop\\repo\\kidney_ped\\kidney\\\\images_autosegment\\raw\\359__Still_images_5316_IM-0001-0094.png\n",
      "C:\\Users\\rckyh\\Desktop\\repo\\kidney_ped\\kidney\\\\images_autosegment\\raw\\359__Still_images_5316_IM-0001-0122.png\n",
      "C:\\Users\\rckyh\\Desktop\\repo\\kidney_ped\\kidney\\\\images_autosegment\\raw\\35__Still_images_5350_IM-0001-0041.png\n"
     ]
    },
    {
     "name": "stderr",
     "output_type": "stream",
     "text": [
      "Shape features are only available 3D input (for 2D input, use shape2D). Found 2D input\n",
      "GLCM is symmetrical, therefore Sum Average = 2 * Joint Average, only 1 needs to be calculated\n",
      "Shape features are only available 3D input (for 2D input, use shape2D). Found 2D input\n",
      "GLCM is symmetrical, therefore Sum Average = 2 * Joint Average, only 1 needs to be calculated\n",
      "Shape features are only available 3D input (for 2D input, use shape2D). Found 2D input\n",
      "GLCM is symmetrical, therefore Sum Average = 2 * Joint Average, only 1 needs to be calculated\n"
     ]
    },
    {
     "name": "stdout",
     "output_type": "stream",
     "text": [
      "C:\\Users\\rckyh\\Desktop\\repo\\kidney_ped\\kidney\\\\images_autosegment\\raw\\35__Still_images_5350_IM-0001-0054.png\n",
      "C:\\Users\\rckyh\\Desktop\\repo\\kidney_ped\\kidney\\\\images_autosegment\\raw\\360__Still_images_5334_IM-0001-0008.png\n",
      "C:\\Users\\rckyh\\Desktop\\repo\\kidney_ped\\kidney\\\\images_autosegment\\raw\\360__Still_images_5334_IM-0001-0023.png\n"
     ]
    },
    {
     "name": "stderr",
     "output_type": "stream",
     "text": [
      "Shape features are only available 3D input (for 2D input, use shape2D). Found 2D input\n",
      "GLCM is symmetrical, therefore Sum Average = 2 * Joint Average, only 1 needs to be calculated\n",
      "Shape features are only available 3D input (for 2D input, use shape2D). Found 2D input\n",
      "GLCM is symmetrical, therefore Sum Average = 2 * Joint Average, only 1 needs to be calculated\n",
      "Shape features are only available 3D input (for 2D input, use shape2D). Found 2D input\n",
      "GLCM is symmetrical, therefore Sum Average = 2 * Joint Average, only 1 needs to be calculated\n"
     ]
    },
    {
     "name": "stdout",
     "output_type": "stream",
     "text": [
      "C:\\Users\\rckyh\\Desktop\\repo\\kidney_ped\\kidney\\\\images_autosegment\\raw\\362__Still_images_5339_IM-0001-0018.png\n",
      "C:\\Users\\rckyh\\Desktop\\repo\\kidney_ped\\kidney\\\\images_autosegment\\raw\\362__Still_images_5339_IM-0001-0053.png\n",
      "C:\\Users\\rckyh\\Desktop\\repo\\kidney_ped\\kidney\\\\images_autosegment\\raw\\363__Still_images_5365_IM-0001-0008.png\n"
     ]
    },
    {
     "name": "stderr",
     "output_type": "stream",
     "text": [
      "Shape features are only available 3D input (for 2D input, use shape2D). Found 2D input\n",
      "GLCM is symmetrical, therefore Sum Average = 2 * Joint Average, only 1 needs to be calculated\n",
      "Shape features are only available 3D input (for 2D input, use shape2D). Found 2D input\n",
      "GLCM is symmetrical, therefore Sum Average = 2 * Joint Average, only 1 needs to be calculated\n",
      "Shape features are only available 3D input (for 2D input, use shape2D). Found 2D input\n",
      "GLCM is symmetrical, therefore Sum Average = 2 * Joint Average, only 1 needs to be calculated\n"
     ]
    },
    {
     "name": "stdout",
     "output_type": "stream",
     "text": [
      "C:\\Users\\rckyh\\Desktop\\repo\\kidney_ped\\kidney\\\\images_autosegment\\raw\\363__Still_images_5365_IM-0001-0025.png\n",
      "C:\\Users\\rckyh\\Desktop\\repo\\kidney_ped\\kidney\\\\images_autosegment\\raw\\364__Still_images_5342_IM-0001-0007.png\n",
      "C:\\Users\\rckyh\\Desktop\\repo\\kidney_ped\\kidney\\\\images_autosegment\\raw\\364__Still_images_5342_IM-0001-0029.png\n"
     ]
    },
    {
     "name": "stderr",
     "output_type": "stream",
     "text": [
      "Shape features are only available 3D input (for 2D input, use shape2D). Found 2D input\n",
      "GLCM is symmetrical, therefore Sum Average = 2 * Joint Average, only 1 needs to be calculated\n",
      "Shape features are only available 3D input (for 2D input, use shape2D). Found 2D input\n",
      "GLCM is symmetrical, therefore Sum Average = 2 * Joint Average, only 1 needs to be calculated\n",
      "Shape features are only available 3D input (for 2D input, use shape2D). Found 2D input\n",
      "GLCM is symmetrical, therefore Sum Average = 2 * Joint Average, only 1 needs to be calculated\n"
     ]
    },
    {
     "name": "stdout",
     "output_type": "stream",
     "text": [
      "C:\\Users\\rckyh\\Desktop\\repo\\kidney_ped\\kidney\\\\images_autosegment\\raw\\365a__Still_images_5346_IM-0002-0033.png\n",
      "C:\\Users\\rckyh\\Desktop\\repo\\kidney_ped\\kidney\\\\images_autosegment\\raw\\365a__Still_images_5346_IM-0002-0049.png\n",
      "C:\\Users\\rckyh\\Desktop\\repo\\kidney_ped\\kidney\\\\images_autosegment\\raw\\366__Still_images_5328_IM-0001-0031.png\n"
     ]
    },
    {
     "name": "stderr",
     "output_type": "stream",
     "text": [
      "Shape features are only available 3D input (for 2D input, use shape2D). Found 2D input\n",
      "GLCM is symmetrical, therefore Sum Average = 2 * Joint Average, only 1 needs to be calculated\n",
      "Shape features are only available 3D input (for 2D input, use shape2D). Found 2D input\n",
      "GLCM is symmetrical, therefore Sum Average = 2 * Joint Average, only 1 needs to be calculated\n",
      "Shape features are only available 3D input (for 2D input, use shape2D). Found 2D input\n",
      "GLCM is symmetrical, therefore Sum Average = 2 * Joint Average, only 1 needs to be calculated\n"
     ]
    },
    {
     "name": "stdout",
     "output_type": "stream",
     "text": [
      "C:\\Users\\rckyh\\Desktop\\repo\\kidney_ped\\kidney\\\\images_autosegment\\raw\\366__Still_images_5328_IM-0001-0060.png\n",
      "C:\\Users\\rckyh\\Desktop\\repo\\kidney_ped\\kidney\\\\images_autosegment\\raw\\367__Still_images_5341_IM-0001-0003.png\n",
      "C:\\Users\\rckyh\\Desktop\\repo\\kidney_ped\\kidney\\\\images_autosegment\\raw\\367__Still_images_5341_IM-0001-0012.png\n"
     ]
    },
    {
     "name": "stderr",
     "output_type": "stream",
     "text": [
      "Shape features are only available 3D input (for 2D input, use shape2D). Found 2D input\n",
      "GLCM is symmetrical, therefore Sum Average = 2 * Joint Average, only 1 needs to be calculated\n",
      "Shape features are only available 3D input (for 2D input, use shape2D). Found 2D input\n",
      "GLCM is symmetrical, therefore Sum Average = 2 * Joint Average, only 1 needs to be calculated\n",
      "Shape features are only available 3D input (for 2D input, use shape2D). Found 2D input\n",
      "GLCM is symmetrical, therefore Sum Average = 2 * Joint Average, only 1 needs to be calculated\n"
     ]
    },
    {
     "name": "stdout",
     "output_type": "stream",
     "text": [
      "C:\\Users\\rckyh\\Desktop\\repo\\kidney_ped\\kidney\\\\images_autosegment\\raw\\368__Still_images_5378_IM-0001-0011.png\n",
      "C:\\Users\\rckyh\\Desktop\\repo\\kidney_ped\\kidney\\\\images_autosegment\\raw\\368__Still_images_5378_IM-0001-0021.png\n",
      "C:\\Users\\rckyh\\Desktop\\repo\\kidney_ped\\kidney\\\\images_autosegment\\raw\\369__Still_images_5373_IM-0001-0008.png\n"
     ]
    },
    {
     "name": "stderr",
     "output_type": "stream",
     "text": [
      "Shape features are only available 3D input (for 2D input, use shape2D). Found 2D input\n",
      "GLCM is symmetrical, therefore Sum Average = 2 * Joint Average, only 1 needs to be calculated\n",
      "Shape features are only available 3D input (for 2D input, use shape2D). Found 2D input\n",
      "GLCM is symmetrical, therefore Sum Average = 2 * Joint Average, only 1 needs to be calculated\n",
      "Shape features are only available 3D input (for 2D input, use shape2D). Found 2D input\n",
      "GLCM is symmetrical, therefore Sum Average = 2 * Joint Average, only 1 needs to be calculated\n"
     ]
    },
    {
     "name": "stdout",
     "output_type": "stream",
     "text": [
      "C:\\Users\\rckyh\\Desktop\\repo\\kidney_ped\\kidney\\\\images_autosegment\\raw\\369__Still_images_5373_IM-0001-0023.png\n",
      "C:\\Users\\rckyh\\Desktop\\repo\\kidney_ped\\kidney\\\\images_autosegment\\raw\\36__Still_images_5381_IM-0001-0007.png\n",
      "C:\\Users\\rckyh\\Desktop\\repo\\kidney_ped\\kidney\\\\images_autosegment\\raw\\36__Still_images_5381_IM-0001-0026.png\n"
     ]
    },
    {
     "name": "stderr",
     "output_type": "stream",
     "text": [
      "Shape features are only available 3D input (for 2D input, use shape2D). Found 2D input\n",
      "GLCM is symmetrical, therefore Sum Average = 2 * Joint Average, only 1 needs to be calculated\n",
      "Shape features are only available 3D input (for 2D input, use shape2D). Found 2D input\n",
      "GLCM is symmetrical, therefore Sum Average = 2 * Joint Average, only 1 needs to be calculated\n",
      "Shape features are only available 3D input (for 2D input, use shape2D). Found 2D input\n",
      "GLCM is symmetrical, therefore Sum Average = 2 * Joint Average, only 1 needs to be calculated\n"
     ]
    },
    {
     "name": "stdout",
     "output_type": "stream",
     "text": [
      "C:\\Users\\rckyh\\Desktop\\repo\\kidney_ped\\kidney\\\\images_autosegment\\raw\\370__Still_images_5387_IM-0001-0011.png\n",
      "C:\\Users\\rckyh\\Desktop\\repo\\kidney_ped\\kidney\\\\images_autosegment\\raw\\370__Still_images_5387_IM-0001-0025.png\n",
      "C:\\Users\\rckyh\\Desktop\\repo\\kidney_ped\\kidney\\\\images_autosegment\\raw\\371__Still_images_5368_IM-0002-0010.png\n"
     ]
    },
    {
     "name": "stderr",
     "output_type": "stream",
     "text": [
      "Shape features are only available 3D input (for 2D input, use shape2D). Found 2D input\n",
      "GLCM is symmetrical, therefore Sum Average = 2 * Joint Average, only 1 needs to be calculated\n",
      "Shape features are only available 3D input (for 2D input, use shape2D). Found 2D input\n",
      "GLCM is symmetrical, therefore Sum Average = 2 * Joint Average, only 1 needs to be calculated\n",
      "Shape features are only available 3D input (for 2D input, use shape2D). Found 2D input\n",
      "GLCM is symmetrical, therefore Sum Average = 2 * Joint Average, only 1 needs to be calculated\n"
     ]
    },
    {
     "name": "stdout",
     "output_type": "stream",
     "text": [
      "C:\\Users\\rckyh\\Desktop\\repo\\kidney_ped\\kidney\\\\images_autosegment\\raw\\371__Still_images_5368_IM-0002-0049.png\n",
      "C:\\Users\\rckyh\\Desktop\\repo\\kidney_ped\\kidney\\\\images_autosegment\\raw\\372__Still_images_5367_IM-0001-0012.png\n",
      "C:\\Users\\rckyh\\Desktop\\repo\\kidney_ped\\kidney\\\\images_autosegment\\raw\\372__Still_images_5367_IM-0001-0023.png\n"
     ]
    },
    {
     "name": "stderr",
     "output_type": "stream",
     "text": [
      "Shape features are only available 3D input (for 2D input, use shape2D). Found 2D input\n",
      "GLCM is symmetrical, therefore Sum Average = 2 * Joint Average, only 1 needs to be calculated\n",
      "Shape features are only available 3D input (for 2D input, use shape2D). Found 2D input\n",
      "GLCM is symmetrical, therefore Sum Average = 2 * Joint Average, only 1 needs to be calculated\n",
      "Shape features are only available 3D input (for 2D input, use shape2D). Found 2D input\n",
      "GLCM is symmetrical, therefore Sum Average = 2 * Joint Average, only 1 needs to be calculated\n"
     ]
    },
    {
     "name": "stdout",
     "output_type": "stream",
     "text": [
      "C:\\Users\\rckyh\\Desktop\\repo\\kidney_ped\\kidney\\\\images_autosegment\\raw\\373__Still_images_5400_IM-0001-0004.png\n",
      "C:\\Users\\rckyh\\Desktop\\repo\\kidney_ped\\kidney\\\\images_autosegment\\raw\\373__Still_images_5400_IM-0001-0017.png\n",
      "C:\\Users\\rckyh\\Desktop\\repo\\kidney_ped\\kidney\\\\images_autosegment\\raw\\375__Still_images_5375_IM-0001-0011.png\n"
     ]
    },
    {
     "name": "stderr",
     "output_type": "stream",
     "text": [
      "Shape features are only available 3D input (for 2D input, use shape2D). Found 2D input\n",
      "GLCM is symmetrical, therefore Sum Average = 2 * Joint Average, only 1 needs to be calculated\n",
      "Shape features are only available 3D input (for 2D input, use shape2D). Found 2D input\n",
      "GLCM is symmetrical, therefore Sum Average = 2 * Joint Average, only 1 needs to be calculated\n",
      "Shape features are only available 3D input (for 2D input, use shape2D). Found 2D input\n",
      "GLCM is symmetrical, therefore Sum Average = 2 * Joint Average, only 1 needs to be calculated\n"
     ]
    },
    {
     "name": "stdout",
     "output_type": "stream",
     "text": [
      "C:\\Users\\rckyh\\Desktop\\repo\\kidney_ped\\kidney\\\\images_autosegment\\raw\\376__Still_images_5403_IM-0001-0008.png\n",
      "C:\\Users\\rckyh\\Desktop\\repo\\kidney_ped\\kidney\\\\images_autosegment\\raw\\376__Still_images_5403_IM-0001-0035.png\n",
      "C:\\Users\\rckyh\\Desktop\\repo\\kidney_ped\\kidney\\\\images_autosegment\\raw\\377__Still_images_5385_IM-0001-0030.png\n"
     ]
    },
    {
     "name": "stderr",
     "output_type": "stream",
     "text": [
      "Shape features are only available 3D input (for 2D input, use shape2D). Found 2D input\n",
      "GLCM is symmetrical, therefore Sum Average = 2 * Joint Average, only 1 needs to be calculated\n",
      "Shape features are only available 3D input (for 2D input, use shape2D). Found 2D input\n",
      "GLCM is symmetrical, therefore Sum Average = 2 * Joint Average, only 1 needs to be calculated\n",
      "Shape features are only available 3D input (for 2D input, use shape2D). Found 2D input\n",
      "GLCM is symmetrical, therefore Sum Average = 2 * Joint Average, only 1 needs to be calculated\n"
     ]
    },
    {
     "name": "stdout",
     "output_type": "stream",
     "text": [
      "C:\\Users\\rckyh\\Desktop\\repo\\kidney_ped\\kidney\\\\images_autosegment\\raw\\378__Still_images_5364_IM-0001-0014.png\n",
      "C:\\Users\\rckyh\\Desktop\\repo\\kidney_ped\\kidney\\\\images_autosegment\\raw\\378__Still_images_5364_IM-0001-0033.png\n",
      "C:\\Users\\rckyh\\Desktop\\repo\\kidney_ped\\kidney\\\\images_autosegment\\raw\\379__Still_images_5352_IM-0001-0005.png\n"
     ]
    },
    {
     "name": "stderr",
     "output_type": "stream",
     "text": [
      "Shape features are only available 3D input (for 2D input, use shape2D). Found 2D input\n",
      "GLCM is symmetrical, therefore Sum Average = 2 * Joint Average, only 1 needs to be calculated\n",
      "Shape features are only available 3D input (for 2D input, use shape2D). Found 2D input\n",
      "GLCM is symmetrical, therefore Sum Average = 2 * Joint Average, only 1 needs to be calculated\n",
      "Shape features are only available 3D input (for 2D input, use shape2D). Found 2D input\n",
      "GLCM is symmetrical, therefore Sum Average = 2 * Joint Average, only 1 needs to be calculated\n"
     ]
    },
    {
     "name": "stdout",
     "output_type": "stream",
     "text": [
      "C:\\Users\\rckyh\\Desktop\\repo\\kidney_ped\\kidney\\\\images_autosegment\\raw\\379__Still_images_5352_IM-0001-0015.png\n",
      "C:\\Users\\rckyh\\Desktop\\repo\\kidney_ped\\kidney\\\\images_autosegment\\raw\\37__Still_images_5364_IM-0001-0025.png\n",
      "C:\\Users\\rckyh\\Desktop\\repo\\kidney_ped\\kidney\\\\images_autosegment\\raw\\37__Still_images_5364_IM-0001-0051.png\n"
     ]
    },
    {
     "name": "stderr",
     "output_type": "stream",
     "text": [
      "Shape features are only available 3D input (for 2D input, use shape2D). Found 2D input\n",
      "GLCM is symmetrical, therefore Sum Average = 2 * Joint Average, only 1 needs to be calculated\n",
      "Shape features are only available 3D input (for 2D input, use shape2D). Found 2D input\n",
      "GLCM is symmetrical, therefore Sum Average = 2 * Joint Average, only 1 needs to be calculated\n",
      "Shape features are only available 3D input (for 2D input, use shape2D). Found 2D input\n",
      "GLCM is symmetrical, therefore Sum Average = 2 * Joint Average, only 1 needs to be calculated\n"
     ]
    },
    {
     "name": "stdout",
     "output_type": "stream",
     "text": [
      "C:\\Users\\rckyh\\Desktop\\repo\\kidney_ped\\kidney\\\\images_autosegment\\raw\\380__Still_images_5316_IM-0001-0004.png\n",
      "C:\\Users\\rckyh\\Desktop\\repo\\kidney_ped\\kidney\\\\images_autosegment\\raw\\381__Still_images_5317_IM-0001-0005.png\n"
     ]
    },
    {
     "name": "stderr",
     "output_type": "stream",
     "text": [
      "Shape features are only available 3D input (for 2D input, use shape2D). Found 2D input\n",
      "GLCM is symmetrical, therefore Sum Average = 2 * Joint Average, only 1 needs to be calculated\n",
      "Shape features are only available 3D input (for 2D input, use shape2D). Found 2D input\n",
      "GLCM is symmetrical, therefore Sum Average = 2 * Joint Average, only 1 needs to be calculated\n"
     ]
    },
    {
     "name": "stdout",
     "output_type": "stream",
     "text": [
      "C:\\Users\\rckyh\\Desktop\\repo\\kidney_ped\\kidney\\\\images_autosegment\\raw\\382__Still_images_5339_IM-0001-0004.png\n",
      "C:\\Users\\rckyh\\Desktop\\repo\\kidney_ped\\kidney\\\\images_autosegment\\raw\\382__Still_images_5339_IM-0001-0014.png\n",
      "C:\\Users\\rckyh\\Desktop\\repo\\kidney_ped\\kidney\\\\images_autosegment\\raw\\383a__Still_images_5375_IM-0001-0006.png\n"
     ]
    },
    {
     "name": "stderr",
     "output_type": "stream",
     "text": [
      "Shape features are only available 3D input (for 2D input, use shape2D). Found 2D input\n",
      "GLCM is symmetrical, therefore Sum Average = 2 * Joint Average, only 1 needs to be calculated\n",
      "Shape features are only available 3D input (for 2D input, use shape2D). Found 2D input\n",
      "GLCM is symmetrical, therefore Sum Average = 2 * Joint Average, only 1 needs to be calculated\n",
      "Shape features are only available 3D input (for 2D input, use shape2D). Found 2D input\n",
      "GLCM is symmetrical, therefore Sum Average = 2 * Joint Average, only 1 needs to be calculated\n"
     ]
    },
    {
     "name": "stdout",
     "output_type": "stream",
     "text": [
      "C:\\Users\\rckyh\\Desktop\\repo\\kidney_ped\\kidney\\\\images_autosegment\\raw\\383b__Still_images_5379_IM-0001-0031.png\n",
      "C:\\Users\\rckyh\\Desktop\\repo\\kidney_ped\\kidney\\\\images_autosegment\\raw\\384__Still_images_5388_IM-0001-0012.png\n"
     ]
    },
    {
     "name": "stderr",
     "output_type": "stream",
     "text": [
      "Shape features are only available 3D input (for 2D input, use shape2D). Found 2D input\n",
      "GLCM is symmetrical, therefore Sum Average = 2 * Joint Average, only 1 needs to be calculated\n",
      "Shape features are only available 3D input (for 2D input, use shape2D). Found 2D input\n",
      "GLCM is symmetrical, therefore Sum Average = 2 * Joint Average, only 1 needs to be calculated\n"
     ]
    },
    {
     "name": "stdout",
     "output_type": "stream",
     "text": [
      "C:\\Users\\rckyh\\Desktop\\repo\\kidney_ped\\kidney\\\\images_autosegment\\raw\\385__Still_images_5366_IM-0001-0004.png\n",
      "C:\\Users\\rckyh\\Desktop\\repo\\kidney_ped\\kidney\\\\images_autosegment\\raw\\386__Still_images_5390_IM-0001-0053.png\n",
      "C:\\Users\\rckyh\\Desktop\\repo\\kidney_ped\\kidney\\\\images_autosegment\\raw\\387__Still_images_5385_IM-0001-0034.png\n"
     ]
    },
    {
     "name": "stderr",
     "output_type": "stream",
     "text": [
      "Shape features are only available 3D input (for 2D input, use shape2D). Found 2D input\n",
      "GLCM is symmetrical, therefore Sum Average = 2 * Joint Average, only 1 needs to be calculated\n",
      "Shape features are only available 3D input (for 2D input, use shape2D). Found 2D input\n",
      "GLCM is symmetrical, therefore Sum Average = 2 * Joint Average, only 1 needs to be calculated\n",
      "Shape features are only available 3D input (for 2D input, use shape2D). Found 2D input\n",
      "GLCM is symmetrical, therefore Sum Average = 2 * Joint Average, only 1 needs to be calculated\n"
     ]
    },
    {
     "name": "stdout",
     "output_type": "stream",
     "text": [
      "C:\\Users\\rckyh\\Desktop\\repo\\kidney_ped\\kidney\\\\images_autosegment\\raw\\388__Still_images_5385_IM-0002-0005.png\n",
      "C:\\Users\\rckyh\\Desktop\\repo\\kidney_ped\\kidney\\\\images_autosegment\\raw\\38__Still_images_5407_IM-0001-0006.png\n",
      "C:\\Users\\rckyh\\Desktop\\repo\\kidney_ped\\kidney\\\\images_autosegment\\raw\\38__Still_images_5407_IM-0001-0030.png\n"
     ]
    },
    {
     "name": "stderr",
     "output_type": "stream",
     "text": [
      "Shape features are only available 3D input (for 2D input, use shape2D). Found 2D input\n",
      "GLCM is symmetrical, therefore Sum Average = 2 * Joint Average, only 1 needs to be calculated\n",
      "Shape features are only available 3D input (for 2D input, use shape2D). Found 2D input\n",
      "GLCM is symmetrical, therefore Sum Average = 2 * Joint Average, only 1 needs to be calculated\n",
      "Shape features are only available 3D input (for 2D input, use shape2D). Found 2D input\n",
      "GLCM is symmetrical, therefore Sum Average = 2 * Joint Average, only 1 needs to be calculated\n"
     ]
    },
    {
     "name": "stdout",
     "output_type": "stream",
     "text": [
      "C:\\Users\\rckyh\\Desktop\\repo\\kidney_ped\\kidney\\\\images_autosegment\\raw\\390__Still_images_5323_IM-0001-0005.png\n",
      "C:\\Users\\rckyh\\Desktop\\repo\\kidney_ped\\kidney\\\\images_autosegment\\raw\\391__Still_images_5342_IM-0001-0007.png\n",
      "C:\\Users\\rckyh\\Desktop\\repo\\kidney_ped\\kidney\\\\images_autosegment\\raw\\391__Still_images_5342_IM-0001-0019.png\n"
     ]
    },
    {
     "name": "stderr",
     "output_type": "stream",
     "text": [
      "Shape features are only available 3D input (for 2D input, use shape2D). Found 2D input\n",
      "GLCM is symmetrical, therefore Sum Average = 2 * Joint Average, only 1 needs to be calculated\n",
      "Shape features are only available 3D input (for 2D input, use shape2D). Found 2D input\n",
      "GLCM is symmetrical, therefore Sum Average = 2 * Joint Average, only 1 needs to be calculated\n",
      "Shape features are only available 3D input (for 2D input, use shape2D). Found 2D input\n",
      "GLCM is symmetrical, therefore Sum Average = 2 * Joint Average, only 1 needs to be calculated\n"
     ]
    },
    {
     "name": "stdout",
     "output_type": "stream",
     "text": [
      "C:\\Users\\rckyh\\Desktop\\repo\\kidney_ped\\kidney\\\\images_autosegment\\raw\\392__Still_images_5333_IM-0001-0013.png\n",
      "C:\\Users\\rckyh\\Desktop\\repo\\kidney_ped\\kidney\\\\images_autosegment\\raw\\393__Still_images_5316_IM-0001-0040.png\n"
     ]
    },
    {
     "name": "stderr",
     "output_type": "stream",
     "text": [
      "Shape features are only available 3D input (for 2D input, use shape2D). Found 2D input\n",
      "GLCM is symmetrical, therefore Sum Average = 2 * Joint Average, only 1 needs to be calculated\n",
      "Shape features are only available 3D input (for 2D input, use shape2D). Found 2D input\n",
      "GLCM is symmetrical, therefore Sum Average = 2 * Joint Average, only 1 needs to be calculated\n"
     ]
    },
    {
     "name": "stdout",
     "output_type": "stream",
     "text": [
      "C:\\Users\\rckyh\\Desktop\\repo\\kidney_ped\\kidney\\\\images_autosegment\\raw\\394__Still_images_5333_IM-0002-0003.png\n",
      "C:\\Users\\rckyh\\Desktop\\repo\\kidney_ped\\kidney\\\\images_autosegment\\raw\\395__Still_images_5319_IM-0001-0021.png\n",
      "C:\\Users\\rckyh\\Desktop\\repo\\kidney_ped\\kidney\\\\images_autosegment\\raw\\396__Still_images_5326_IM-0001-0003.png\n"
     ]
    },
    {
     "name": "stderr",
     "output_type": "stream",
     "text": [
      "Shape features are only available 3D input (for 2D input, use shape2D). Found 2D input\n",
      "GLCM is symmetrical, therefore Sum Average = 2 * Joint Average, only 1 needs to be calculated\n",
      "Shape features are only available 3D input (for 2D input, use shape2D). Found 2D input\n",
      "GLCM is symmetrical, therefore Sum Average = 2 * Joint Average, only 1 needs to be calculated\n",
      "Shape features are only available 3D input (for 2D input, use shape2D). Found 2D input\n",
      "GLCM is symmetrical, therefore Sum Average = 2 * Joint Average, only 1 needs to be calculated\n"
     ]
    },
    {
     "name": "stdout",
     "output_type": "stream",
     "text": [
      "C:\\Users\\rckyh\\Desktop\\repo\\kidney_ped\\kidney\\\\images_autosegment\\raw\\39__Still_images_5327_IM-0004-0060.png\n",
      "C:\\Users\\rckyh\\Desktop\\repo\\kidney_ped\\kidney\\\\images_autosegment\\raw\\3__still_images_5384_IM-0001-0031.png\n"
     ]
    },
    {
     "name": "stderr",
     "output_type": "stream",
     "text": [
      "Shape features are only available 3D input (for 2D input, use shape2D). Found 2D input\n",
      "GLCM is symmetrical, therefore Sum Average = 2 * Joint Average, only 1 needs to be calculated\n",
      "Shape features are only available 3D input (for 2D input, use shape2D). Found 2D input\n",
      "GLCM is symmetrical, therefore Sum Average = 2 * Joint Average, only 1 needs to be calculated\n"
     ]
    },
    {
     "name": "stdout",
     "output_type": "stream",
     "text": [
      "C:\\Users\\rckyh\\Desktop\\repo\\kidney_ped\\kidney\\\\images_autosegment\\raw\\40__Still_images_5356_IM-0001-0013.png\n",
      "C:\\Users\\rckyh\\Desktop\\repo\\kidney_ped\\kidney\\\\images_autosegment\\raw\\40__Still_images_5356_IM-0001-0027.png\n",
      "C:\\Users\\rckyh\\Desktop\\repo\\kidney_ped\\kidney\\\\images_autosegment\\raw\\41__Still_images_5326_IM-0001-0011.png\n"
     ]
    },
    {
     "name": "stderr",
     "output_type": "stream",
     "text": [
      "Shape features are only available 3D input (for 2D input, use shape2D). Found 2D input\n",
      "GLCM is symmetrical, therefore Sum Average = 2 * Joint Average, only 1 needs to be calculated\n",
      "Shape features are only available 3D input (for 2D input, use shape2D). Found 2D input\n",
      "GLCM is symmetrical, therefore Sum Average = 2 * Joint Average, only 1 needs to be calculated\n",
      "Shape features are only available 3D input (for 2D input, use shape2D). Found 2D input\n",
      "GLCM is symmetrical, therefore Sum Average = 2 * Joint Average, only 1 needs to be calculated\n"
     ]
    },
    {
     "name": "stdout",
     "output_type": "stream",
     "text": [
      "C:\\Users\\rckyh\\Desktop\\repo\\kidney_ped\\kidney\\\\images_autosegment\\raw\\41__Still_images_5326_IM-0001-0030.png\n",
      "C:\\Users\\rckyh\\Desktop\\repo\\kidney_ped\\kidney\\\\images_autosegment\\raw\\42__Still_images_5321_IM-0001-0016.png\n"
     ]
    },
    {
     "name": "stderr",
     "output_type": "stream",
     "text": [
      "Shape features are only available 3D input (for 2D input, use shape2D). Found 2D input\n",
      "GLCM is symmetrical, therefore Sum Average = 2 * Joint Average, only 1 needs to be calculated\n",
      "Shape features are only available 3D input (for 2D input, use shape2D). Found 2D input\n",
      "GLCM is symmetrical, therefore Sum Average = 2 * Joint Average, only 1 needs to be calculated\n"
     ]
    },
    {
     "name": "stdout",
     "output_type": "stream",
     "text": [
      "C:\\Users\\rckyh\\Desktop\\repo\\kidney_ped\\kidney\\\\images_autosegment\\raw\\42__Still_images_5321_IM-0001-0030.png\n",
      "C:\\Users\\rckyh\\Desktop\\repo\\kidney_ped\\kidney\\\\images_autosegment\\raw\\43__Still_images_5347_IM-0001-0006.png\n",
      "C:\\Users\\rckyh\\Desktop\\repo\\kidney_ped\\kidney\\\\images_autosegment\\raw\\43__Still_images_5347_IM-0001-0015.png\n"
     ]
    },
    {
     "name": "stderr",
     "output_type": "stream",
     "text": [
      "Shape features are only available 3D input (for 2D input, use shape2D). Found 2D input\n",
      "GLCM is symmetrical, therefore Sum Average = 2 * Joint Average, only 1 needs to be calculated\n",
      "Shape features are only available 3D input (for 2D input, use shape2D). Found 2D input\n",
      "GLCM is symmetrical, therefore Sum Average = 2 * Joint Average, only 1 needs to be calculated\n",
      "Shape features are only available 3D input (for 2D input, use shape2D). Found 2D input\n",
      "GLCM is symmetrical, therefore Sum Average = 2 * Joint Average, only 1 needs to be calculated\n"
     ]
    },
    {
     "name": "stdout",
     "output_type": "stream",
     "text": [
      "C:\\Users\\rckyh\\Desktop\\repo\\kidney_ped\\kidney\\\\images_autosegment\\raw\\44__Still_images_5328_IM-0001-0006.png\n",
      "C:\\Users\\rckyh\\Desktop\\repo\\kidney_ped\\kidney\\\\images_autosegment\\raw\\44__Still_images_5328_IM-0001-0014.png\n",
      "C:\\Users\\rckyh\\Desktop\\repo\\kidney_ped\\kidney\\\\images_autosegment\\raw\\45__Still_images_5313_IM-0001-0036.png\n"
     ]
    },
    {
     "name": "stderr",
     "output_type": "stream",
     "text": [
      "Shape features are only available 3D input (for 2D input, use shape2D). Found 2D input\n",
      "GLCM is symmetrical, therefore Sum Average = 2 * Joint Average, only 1 needs to be calculated\n",
      "Shape features are only available 3D input (for 2D input, use shape2D). Found 2D input\n",
      "GLCM is symmetrical, therefore Sum Average = 2 * Joint Average, only 1 needs to be calculated\n",
      "Shape features are only available 3D input (for 2D input, use shape2D). Found 2D input\n",
      "GLCM is symmetrical, therefore Sum Average = 2 * Joint Average, only 1 needs to be calculated\n"
     ]
    },
    {
     "name": "stdout",
     "output_type": "stream",
     "text": [
      "C:\\Users\\rckyh\\Desktop\\repo\\kidney_ped\\kidney\\\\images_autosegment\\raw\\45__Still_images_5313_IM-0001-0048.png\n",
      "C:\\Users\\rckyh\\Desktop\\repo\\kidney_ped\\kidney\\\\images_autosegment\\raw\\46__Still_images_5352_IM-0001-0011.png\n",
      "C:\\Users\\rckyh\\Desktop\\repo\\kidney_ped\\kidney\\\\images_autosegment\\raw\\46__Still_images_5352_IM-0001-0023.png\n"
     ]
    },
    {
     "name": "stderr",
     "output_type": "stream",
     "text": [
      "Shape features are only available 3D input (for 2D input, use shape2D). Found 2D input\n",
      "GLCM is symmetrical, therefore Sum Average = 2 * Joint Average, only 1 needs to be calculated\n",
      "Shape features are only available 3D input (for 2D input, use shape2D). Found 2D input\n",
      "GLCM is symmetrical, therefore Sum Average = 2 * Joint Average, only 1 needs to be calculated\n",
      "Shape features are only available 3D input (for 2D input, use shape2D). Found 2D input\n",
      "GLCM is symmetrical, therefore Sum Average = 2 * Joint Average, only 1 needs to be calculated\n"
     ]
    },
    {
     "name": "stdout",
     "output_type": "stream",
     "text": [
      "C:\\Users\\rckyh\\Desktop\\repo\\kidney_ped\\kidney\\\\images_autosegment\\raw\\47__Still_images_5329_IM-0001-0010.png\n",
      "C:\\Users\\rckyh\\Desktop\\repo\\kidney_ped\\kidney\\\\images_autosegment\\raw\\47__Still_images_5329_IM-0001-0027.png\n"
     ]
    },
    {
     "name": "stderr",
     "output_type": "stream",
     "text": [
      "Shape features are only available 3D input (for 2D input, use shape2D). Found 2D input\n",
      "GLCM is symmetrical, therefore Sum Average = 2 * Joint Average, only 1 needs to be calculated\n",
      "Shape features are only available 3D input (for 2D input, use shape2D). Found 2D input\n",
      "GLCM is symmetrical, therefore Sum Average = 2 * Joint Average, only 1 needs to be calculated\n"
     ]
    },
    {
     "name": "stdout",
     "output_type": "stream",
     "text": [
      "C:\\Users\\rckyh\\Desktop\\repo\\kidney_ped\\kidney\\\\images_autosegment\\raw\\48__Still_images_5327_IM-0001-0024.png\n",
      "C:\\Users\\rckyh\\Desktop\\repo\\kidney_ped\\kidney\\\\images_autosegment\\raw\\49__Still_images_5337_IM-0001-0012.png\n"
     ]
    },
    {
     "name": "stderr",
     "output_type": "stream",
     "text": [
      "Shape features are only available 3D input (for 2D input, use shape2D). Found 2D input\n",
      "GLCM is symmetrical, therefore Sum Average = 2 * Joint Average, only 1 needs to be calculated\n",
      "Shape features are only available 3D input (for 2D input, use shape2D). Found 2D input\n",
      "GLCM is symmetrical, therefore Sum Average = 2 * Joint Average, only 1 needs to be calculated\n"
     ]
    },
    {
     "name": "stdout",
     "output_type": "stream",
     "text": [
      "C:\\Users\\rckyh\\Desktop\\repo\\kidney_ped\\kidney\\\\images_autosegment\\raw\\49__Still_images_5337_IM-0001-0084.png\n",
      "C:\\Users\\rckyh\\Desktop\\repo\\kidney_ped\\kidney\\\\images_autosegment\\raw\\4__still_images_5368_IM-0003-0006.png\n",
      "C:\\Users\\rckyh\\Desktop\\repo\\kidney_ped\\kidney\\\\images_autosegment\\raw\\4__still_images_5368_IM-0003-0022.png\n"
     ]
    },
    {
     "name": "stderr",
     "output_type": "stream",
     "text": [
      "Shape features are only available 3D input (for 2D input, use shape2D). Found 2D input\n",
      "GLCM is symmetrical, therefore Sum Average = 2 * Joint Average, only 1 needs to be calculated\n",
      "Shape features are only available 3D input (for 2D input, use shape2D). Found 2D input\n",
      "GLCM is symmetrical, therefore Sum Average = 2 * Joint Average, only 1 needs to be calculated\n",
      "Shape features are only available 3D input (for 2D input, use shape2D). Found 2D input\n",
      "GLCM is symmetrical, therefore Sum Average = 2 * Joint Average, only 1 needs to be calculated\n"
     ]
    },
    {
     "name": "stdout",
     "output_type": "stream",
     "text": [
      "C:\\Users\\rckyh\\Desktop\\repo\\kidney_ped\\kidney\\\\images_autosegment\\raw\\50__Still_images_5346_IM-0001-0004.png\n",
      "C:\\Users\\rckyh\\Desktop\\repo\\kidney_ped\\kidney\\\\images_autosegment\\raw\\50__Still_images_5346_IM-0001-0018.png\n",
      "C:\\Users\\rckyh\\Desktop\\repo\\kidney_ped\\kidney\\\\images_autosegment\\raw\\51__Still_images_5356_IM-0002-0008.png\n"
     ]
    },
    {
     "name": "stderr",
     "output_type": "stream",
     "text": [
      "Shape features are only available 3D input (for 2D input, use shape2D). Found 2D input\n",
      "GLCM is symmetrical, therefore Sum Average = 2 * Joint Average, only 1 needs to be calculated\n",
      "Shape features are only available 3D input (for 2D input, use shape2D). Found 2D input\n",
      "GLCM is symmetrical, therefore Sum Average = 2 * Joint Average, only 1 needs to be calculated\n",
      "Shape features are only available 3D input (for 2D input, use shape2D). Found 2D input\n",
      "GLCM is symmetrical, therefore Sum Average = 2 * Joint Average, only 1 needs to be calculated\n"
     ]
    },
    {
     "name": "stdout",
     "output_type": "stream",
     "text": [
      "C:\\Users\\rckyh\\Desktop\\repo\\kidney_ped\\kidney\\\\images_autosegment\\raw\\51__Still_images_5356_IM-0002-0017.png\n",
      "C:\\Users\\rckyh\\Desktop\\repo\\kidney_ped\\kidney\\\\images_autosegment\\raw\\52__Still_images_5360_IM-0002-0005.png\n"
     ]
    },
    {
     "name": "stderr",
     "output_type": "stream",
     "text": [
      "Shape features are only available 3D input (for 2D input, use shape2D). Found 2D input\n",
      "GLCM is symmetrical, therefore Sum Average = 2 * Joint Average, only 1 needs to be calculated\n",
      "Shape features are only available 3D input (for 2D input, use shape2D). Found 2D input\n",
      "GLCM is symmetrical, therefore Sum Average = 2 * Joint Average, only 1 needs to be calculated\n"
     ]
    },
    {
     "name": "stdout",
     "output_type": "stream",
     "text": [
      "C:\\Users\\rckyh\\Desktop\\repo\\kidney_ped\\kidney\\\\images_autosegment\\raw\\52__Still_images_5360_IM-0002-0017.png\n",
      "C:\\Users\\rckyh\\Desktop\\repo\\kidney_ped\\kidney\\\\images_autosegment\\raw\\53__Still_images_5373_IM-0001-0022.png\n",
      "C:\\Users\\rckyh\\Desktop\\repo\\kidney_ped\\kidney\\\\images_autosegment\\raw\\53__Still_images_5373_IM-0001-0050.png\n"
     ]
    },
    {
     "name": "stderr",
     "output_type": "stream",
     "text": [
      "Shape features are only available 3D input (for 2D input, use shape2D). Found 2D input\n",
      "GLCM is symmetrical, therefore Sum Average = 2 * Joint Average, only 1 needs to be calculated\n",
      "Shape features are only available 3D input (for 2D input, use shape2D). Found 2D input\n",
      "GLCM is symmetrical, therefore Sum Average = 2 * Joint Average, only 1 needs to be calculated\n",
      "Shape features are only available 3D input (for 2D input, use shape2D). Found 2D input\n",
      "GLCM is symmetrical, therefore Sum Average = 2 * Joint Average, only 1 needs to be calculated\n"
     ]
    },
    {
     "name": "stdout",
     "output_type": "stream",
     "text": [
      "C:\\Users\\rckyh\\Desktop\\repo\\kidney_ped\\kidney\\\\images_autosegment\\raw\\54__Still_images_5374_IM-0001-0019.png\n",
      "C:\\Users\\rckyh\\Desktop\\repo\\kidney_ped\\kidney\\\\images_autosegment\\raw\\54__Still_images_5374_IM-0001-0025.png\n",
      "C:\\Users\\rckyh\\Desktop\\repo\\kidney_ped\\kidney\\\\images_autosegment\\raw\\55__Still_images_5358_IM-0001-0007.png\n"
     ]
    },
    {
     "name": "stderr",
     "output_type": "stream",
     "text": [
      "Shape features are only available 3D input (for 2D input, use shape2D). Found 2D input\n",
      "GLCM is symmetrical, therefore Sum Average = 2 * Joint Average, only 1 needs to be calculated\n",
      "Shape features are only available 3D input (for 2D input, use shape2D). Found 2D input\n",
      "GLCM is symmetrical, therefore Sum Average = 2 * Joint Average, only 1 needs to be calculated\n",
      "Shape features are only available 3D input (for 2D input, use shape2D). Found 2D input\n",
      "GLCM is symmetrical, therefore Sum Average = 2 * Joint Average, only 1 needs to be calculated\n"
     ]
    },
    {
     "name": "stdout",
     "output_type": "stream",
     "text": [
      "C:\\Users\\rckyh\\Desktop\\repo\\kidney_ped\\kidney\\\\images_autosegment\\raw\\55__Still_images_5358_IM-0001-0018.png\n",
      "C:\\Users\\rckyh\\Desktop\\repo\\kidney_ped\\kidney\\\\images_autosegment\\raw\\56__Still_images_5369_IM-0001-0041.png\n"
     ]
    },
    {
     "name": "stderr",
     "output_type": "stream",
     "text": [
      "Shape features are only available 3D input (for 2D input, use shape2D). Found 2D input\n",
      "GLCM is symmetrical, therefore Sum Average = 2 * Joint Average, only 1 needs to be calculated\n",
      "Shape features are only available 3D input (for 2D input, use shape2D). Found 2D input\n",
      "GLCM is symmetrical, therefore Sum Average = 2 * Joint Average, only 1 needs to be calculated\n"
     ]
    },
    {
     "name": "stdout",
     "output_type": "stream",
     "text": [
      "C:\\Users\\rckyh\\Desktop\\repo\\kidney_ped\\kidney\\\\images_autosegment\\raw\\56__Still_images_5369_IM-0001-0052.png\n",
      "C:\\Users\\rckyh\\Desktop\\repo\\kidney_ped\\kidney\\\\images_autosegment\\raw\\57__Still_images_5346_IM-0001-0010.png\n"
     ]
    },
    {
     "name": "stderr",
     "output_type": "stream",
     "text": [
      "Shape features are only available 3D input (for 2D input, use shape2D). Found 2D input\n",
      "GLCM is symmetrical, therefore Sum Average = 2 * Joint Average, only 1 needs to be calculated\n",
      "Shape features are only available 3D input (for 2D input, use shape2D). Found 2D input\n",
      "GLCM is symmetrical, therefore Sum Average = 2 * Joint Average, only 1 needs to be calculated\n"
     ]
    },
    {
     "name": "stdout",
     "output_type": "stream",
     "text": [
      "C:\\Users\\rckyh\\Desktop\\repo\\kidney_ped\\kidney\\\\images_autosegment\\raw\\57__Still_images_5346_IM-0001-0036.png\n",
      "C:\\Users\\rckyh\\Desktop\\repo\\kidney_ped\\kidney\\\\images_autosegment\\raw\\58__Still_images_5376_IM-0001-0010.png\n",
      "C:\\Users\\rckyh\\Desktop\\repo\\kidney_ped\\kidney\\\\images_autosegment\\raw\\58__Still_images_5376_IM-0001-0048.png\n"
     ]
    },
    {
     "name": "stderr",
     "output_type": "stream",
     "text": [
      "Shape features are only available 3D input (for 2D input, use shape2D). Found 2D input\n",
      "GLCM is symmetrical, therefore Sum Average = 2 * Joint Average, only 1 needs to be calculated\n",
      "Shape features are only available 3D input (for 2D input, use shape2D). Found 2D input\n",
      "GLCM is symmetrical, therefore Sum Average = 2 * Joint Average, only 1 needs to be calculated\n",
      "Shape features are only available 3D input (for 2D input, use shape2D). Found 2D input\n",
      "GLCM is symmetrical, therefore Sum Average = 2 * Joint Average, only 1 needs to be calculated\n"
     ]
    },
    {
     "name": "stdout",
     "output_type": "stream",
     "text": [
      "C:\\Users\\rckyh\\Desktop\\repo\\kidney_ped\\kidney\\\\images_autosegment\\raw\\59__Still_images_5375_IM-0001-0040.png\n",
      "C:\\Users\\rckyh\\Desktop\\repo\\kidney_ped\\kidney\\\\images_autosegment\\raw\\59__Still_images_5375_IM-0001-0055.png\n"
     ]
    },
    {
     "name": "stderr",
     "output_type": "stream",
     "text": [
      "Shape features are only available 3D input (for 2D input, use shape2D). Found 2D input\n",
      "GLCM is symmetrical, therefore Sum Average = 2 * Joint Average, only 1 needs to be calculated\n",
      "Shape features are only available 3D input (for 2D input, use shape2D). Found 2D input\n",
      "GLCM is symmetrical, therefore Sum Average = 2 * Joint Average, only 1 needs to be calculated\n"
     ]
    },
    {
     "name": "stdout",
     "output_type": "stream",
     "text": [
      "C:\\Users\\rckyh\\Desktop\\repo\\kidney_ped\\kidney\\\\images_autosegment\\raw\\5__still_images_5359_IM-0001-0008.png\n",
      "C:\\Users\\rckyh\\Desktop\\repo\\kidney_ped\\kidney\\\\images_autosegment\\raw\\5__still_images_5359_IM-0001-0023.png\n",
      "C:\\Users\\rckyh\\Desktop\\repo\\kidney_ped\\kidney\\\\images_autosegment\\raw\\60__Still_images_5376_IM-0001-0032.png\n"
     ]
    },
    {
     "name": "stderr",
     "output_type": "stream",
     "text": [
      "Shape features are only available 3D input (for 2D input, use shape2D). Found 2D input\n",
      "GLCM is symmetrical, therefore Sum Average = 2 * Joint Average, only 1 needs to be calculated\n",
      "Shape features are only available 3D input (for 2D input, use shape2D). Found 2D input\n",
      "GLCM is symmetrical, therefore Sum Average = 2 * Joint Average, only 1 needs to be calculated\n",
      "Shape features are only available 3D input (for 2D input, use shape2D). Found 2D input\n",
      "GLCM is symmetrical, therefore Sum Average = 2 * Joint Average, only 1 needs to be calculated\n"
     ]
    },
    {
     "name": "stdout",
     "output_type": "stream",
     "text": [
      "C:\\Users\\rckyh\\Desktop\\repo\\kidney_ped\\kidney\\\\images_autosegment\\raw\\60__Still_images_5376_IM-0001-0043.png\n",
      "C:\\Users\\rckyh\\Desktop\\repo\\kidney_ped\\kidney\\\\images_autosegment\\raw\\61__Still_images_5380_IM-0003-0046.png\n"
     ]
    },
    {
     "name": "stderr",
     "output_type": "stream",
     "text": [
      "Shape features are only available 3D input (for 2D input, use shape2D). Found 2D input\n",
      "GLCM is symmetrical, therefore Sum Average = 2 * Joint Average, only 1 needs to be calculated\n",
      "Shape features are only available 3D input (for 2D input, use shape2D). Found 2D input\n",
      "GLCM is symmetrical, therefore Sum Average = 2 * Joint Average, only 1 needs to be calculated\n"
     ]
    },
    {
     "name": "stdout",
     "output_type": "stream",
     "text": [
      "C:\\Users\\rckyh\\Desktop\\repo\\kidney_ped\\kidney\\\\images_autosegment\\raw\\61__Still_images_5380_IM-0003-0051.png\n",
      "C:\\Users\\rckyh\\Desktop\\repo\\kidney_ped\\kidney\\\\images_autosegment\\raw\\62__Still_images_5405_IM-0002-0005.png\n",
      "C:\\Users\\rckyh\\Desktop\\repo\\kidney_ped\\kidney\\\\images_autosegment\\raw\\63__Still_images_5371_IM-0001-0009.png\n"
     ]
    },
    {
     "name": "stderr",
     "output_type": "stream",
     "text": [
      "Shape features are only available 3D input (for 2D input, use shape2D). Found 2D input\n",
      "GLCM is symmetrical, therefore Sum Average = 2 * Joint Average, only 1 needs to be calculated\n",
      "Shape features are only available 3D input (for 2D input, use shape2D). Found 2D input\n",
      "GLCM is symmetrical, therefore Sum Average = 2 * Joint Average, only 1 needs to be calculated\n",
      "Shape features are only available 3D input (for 2D input, use shape2D). Found 2D input\n",
      "GLCM is symmetrical, therefore Sum Average = 2 * Joint Average, only 1 needs to be calculated\n"
     ]
    },
    {
     "name": "stdout",
     "output_type": "stream",
     "text": [
      "C:\\Users\\rckyh\\Desktop\\repo\\kidney_ped\\kidney\\\\images_autosegment\\raw\\63__Still_images_5371_IM-0001-0016.png\n",
      "C:\\Users\\rckyh\\Desktop\\repo\\kidney_ped\\kidney\\\\images_autosegment\\raw\\64__Still_images_5403_IM-0001-0008.png\n",
      "C:\\Users\\rckyh\\Desktop\\repo\\kidney_ped\\kidney\\\\images_autosegment\\raw\\64__Still_images_5403_IM-0001-0011.png\n"
     ]
    },
    {
     "name": "stderr",
     "output_type": "stream",
     "text": [
      "Shape features are only available 3D input (for 2D input, use shape2D). Found 2D input\n",
      "GLCM is symmetrical, therefore Sum Average = 2 * Joint Average, only 1 needs to be calculated\n",
      "Shape features are only available 3D input (for 2D input, use shape2D). Found 2D input\n",
      "GLCM is symmetrical, therefore Sum Average = 2 * Joint Average, only 1 needs to be calculated\n",
      "Shape features are only available 3D input (for 2D input, use shape2D). Found 2D input\n"
     ]
    },
    {
     "name": "stdout",
     "output_type": "stream",
     "text": [
      "C:\\Users\\rckyh\\Desktop\\repo\\kidney_ped\\kidney\\\\images_autosegment\\raw\\65__Still_images_5397_IM-0001-0013.png\n",
      "C:\\Users\\rckyh\\Desktop\\repo\\kidney_ped\\kidney\\\\images_autosegment\\raw\\65__Still_images_5397_IM-0001-0032.png\n"
     ]
    },
    {
     "name": "stderr",
     "output_type": "stream",
     "text": [
      "GLCM is symmetrical, therefore Sum Average = 2 * Joint Average, only 1 needs to be calculated\n",
      "Shape features are only available 3D input (for 2D input, use shape2D). Found 2D input\n",
      "GLCM is symmetrical, therefore Sum Average = 2 * Joint Average, only 1 needs to be calculated\n",
      "Shape features are only available 3D input (for 2D input, use shape2D). Found 2D input\n",
      "GLCM is symmetrical, therefore Sum Average = 2 * Joint Average, only 1 needs to be calculated\n"
     ]
    },
    {
     "name": "stdout",
     "output_type": "stream",
     "text": [
      "C:\\Users\\rckyh\\Desktop\\repo\\kidney_ped\\kidney\\\\images_autosegment\\raw\\66__Still_images_5364_IM-0001-0010.png\n",
      "C:\\Users\\rckyh\\Desktop\\repo\\kidney_ped\\kidney\\\\images_autosegment\\raw\\67__Still_images_5360_IM-0001-0010.png\n",
      "C:\\Users\\rckyh\\Desktop\\repo\\kidney_ped\\kidney\\\\images_autosegment\\raw\\67__Still_images_5360_IM-0001-0044.png\n"
     ]
    },
    {
     "name": "stderr",
     "output_type": "stream",
     "text": [
      "Shape features are only available 3D input (for 2D input, use shape2D). Found 2D input\n",
      "GLCM is symmetrical, therefore Sum Average = 2 * Joint Average, only 1 needs to be calculated\n",
      "Shape features are only available 3D input (for 2D input, use shape2D). Found 2D input\n",
      "GLCM is symmetrical, therefore Sum Average = 2 * Joint Average, only 1 needs to be calculated\n",
      "Shape features are only available 3D input (for 2D input, use shape2D). Found 2D input\n",
      "GLCM is symmetrical, therefore Sum Average = 2 * Joint Average, only 1 needs to be calculated\n"
     ]
    },
    {
     "name": "stdout",
     "output_type": "stream",
     "text": [
      "C:\\Users\\rckyh\\Desktop\\repo\\kidney_ped\\kidney\\\\images_autosegment\\raw\\68__Still_images_5331_IM-0001-0006.png\n",
      "C:\\Users\\rckyh\\Desktop\\repo\\kidney_ped\\kidney\\\\images_autosegment\\raw\\68__Still_images_5331_IM-0001-0029.png\n",
      "C:\\Users\\rckyh\\Desktop\\repo\\kidney_ped\\kidney\\\\images_autosegment\\raw\\69__Still_images_5310_IM-0001-0017.png\n"
     ]
    },
    {
     "name": "stderr",
     "output_type": "stream",
     "text": [
      "Shape features are only available 3D input (for 2D input, use shape2D). Found 2D input\n",
      "GLCM is symmetrical, therefore Sum Average = 2 * Joint Average, only 1 needs to be calculated\n",
      "Shape features are only available 3D input (for 2D input, use shape2D). Found 2D input\n",
      "GLCM is symmetrical, therefore Sum Average = 2 * Joint Average, only 1 needs to be calculated\n",
      "Shape features are only available 3D input (for 2D input, use shape2D). Found 2D input\n",
      "GLCM is symmetrical, therefore Sum Average = 2 * Joint Average, only 1 needs to be calculated\n"
     ]
    },
    {
     "name": "stdout",
     "output_type": "stream",
     "text": [
      "C:\\Users\\rckyh\\Desktop\\repo\\kidney_ped\\kidney\\\\images_autosegment\\raw\\69__Still_images_5310_IM-0001-0051.png\n",
      "C:\\Users\\rckyh\\Desktop\\repo\\kidney_ped\\kidney\\\\images_autosegment\\raw\\6__still_images_5388_IM-0001-0017.png\n",
      "C:\\Users\\rckyh\\Desktop\\repo\\kidney_ped\\kidney\\\\images_autosegment\\raw\\6__still_images_5388_IM-0001-0044.png\n"
     ]
    },
    {
     "name": "stderr",
     "output_type": "stream",
     "text": [
      "Shape features are only available 3D input (for 2D input, use shape2D). Found 2D input\n",
      "GLCM is symmetrical, therefore Sum Average = 2 * Joint Average, only 1 needs to be calculated\n",
      "Shape features are only available 3D input (for 2D input, use shape2D). Found 2D input\n",
      "GLCM is symmetrical, therefore Sum Average = 2 * Joint Average, only 1 needs to be calculated\n",
      "Shape features are only available 3D input (for 2D input, use shape2D). Found 2D input\n",
      "GLCM is symmetrical, therefore Sum Average = 2 * Joint Average, only 1 needs to be calculated\n"
     ]
    },
    {
     "name": "stdout",
     "output_type": "stream",
     "text": [
      "C:\\Users\\rckyh\\Desktop\\repo\\kidney_ped\\kidney\\\\images_autosegment\\raw\\70__Still_images_5333_IM-0001-0065.png\n",
      "C:\\Users\\rckyh\\Desktop\\repo\\kidney_ped\\kidney\\\\images_autosegment\\raw\\70__Still_images_5333_IM-0001-0084.png\n"
     ]
    },
    {
     "name": "stderr",
     "output_type": "stream",
     "text": [
      "Shape features are only available 3D input (for 2D input, use shape2D). Found 2D input\n",
      "GLCM is symmetrical, therefore Sum Average = 2 * Joint Average, only 1 needs to be calculated\n",
      "Shape features are only available 3D input (for 2D input, use shape2D). Found 2D input\n",
      "GLCM is symmetrical, therefore Sum Average = 2 * Joint Average, only 1 needs to be calculated\n"
     ]
    },
    {
     "name": "stdout",
     "output_type": "stream",
     "text": [
      "C:\\Users\\rckyh\\Desktop\\repo\\kidney_ped\\kidney\\\\images_autosegment\\raw\\71__Still_images_5337_IM-0001-0008.png\n",
      "C:\\Users\\rckyh\\Desktop\\repo\\kidney_ped\\kidney\\\\images_autosegment\\raw\\71__Still_images_5337_IM-0001-0017.png\n",
      "C:\\Users\\rckyh\\Desktop\\repo\\kidney_ped\\kidney\\\\images_autosegment\\raw\\72__Still_images_5341_IM-0001-0008.png\n"
     ]
    },
    {
     "name": "stderr",
     "output_type": "stream",
     "text": [
      "Shape features are only available 3D input (for 2D input, use shape2D). Found 2D input\n",
      "GLCM is symmetrical, therefore Sum Average = 2 * Joint Average, only 1 needs to be calculated\n",
      "Shape features are only available 3D input (for 2D input, use shape2D). Found 2D input\n",
      "GLCM is symmetrical, therefore Sum Average = 2 * Joint Average, only 1 needs to be calculated\n",
      "Shape features are only available 3D input (for 2D input, use shape2D). Found 2D input\n"
     ]
    },
    {
     "name": "stdout",
     "output_type": "stream",
     "text": [
      "C:\\Users\\rckyh\\Desktop\\repo\\kidney_ped\\kidney\\\\images_autosegment\\raw\\73__Still_images_5338_IM-0001-0010.png\n",
      "C:\\Users\\rckyh\\Desktop\\repo\\kidney_ped\\kidney\\\\images_autosegment\\raw\\73__Still_images_5338_IM-0001-0055.png\n"
     ]
    },
    {
     "name": "stderr",
     "output_type": "stream",
     "text": [
      "GLCM is symmetrical, therefore Sum Average = 2 * Joint Average, only 1 needs to be calculated\n",
      "Shape features are only available 3D input (for 2D input, use shape2D). Found 2D input\n",
      "GLCM is symmetrical, therefore Sum Average = 2 * Joint Average, only 1 needs to be calculated\n",
      "Shape features are only available 3D input (for 2D input, use shape2D). Found 2D input\n",
      "GLCM is symmetrical, therefore Sum Average = 2 * Joint Average, only 1 needs to be calculated\n"
     ]
    },
    {
     "name": "stdout",
     "output_type": "stream",
     "text": [
      "C:\\Users\\rckyh\\Desktop\\repo\\kidney_ped\\kidney\\\\images_autosegment\\raw\\74__Still_images_5367_IM-0001-0017.png\n",
      "C:\\Users\\rckyh\\Desktop\\repo\\kidney_ped\\kidney\\\\images_autosegment\\raw\\74__Still_images_5367_IM-0001-0065.png\n",
      "C:\\Users\\rckyh\\Desktop\\repo\\kidney_ped\\kidney\\\\images_autosegment\\raw\\75__Still_images_5336_IM-0001-0009.png\n"
     ]
    },
    {
     "name": "stderr",
     "output_type": "stream",
     "text": [
      "Shape features are only available 3D input (for 2D input, use shape2D). Found 2D input\n",
      "GLCM is symmetrical, therefore Sum Average = 2 * Joint Average, only 1 needs to be calculated\n",
      "Shape features are only available 3D input (for 2D input, use shape2D). Found 2D input\n",
      "GLCM is symmetrical, therefore Sum Average = 2 * Joint Average, only 1 needs to be calculated\n",
      "Shape features are only available 3D input (for 2D input, use shape2D). Found 2D input\n",
      "GLCM is symmetrical, therefore Sum Average = 2 * Joint Average, only 1 needs to be calculated\n"
     ]
    },
    {
     "name": "stdout",
     "output_type": "stream",
     "text": [
      "C:\\Users\\rckyh\\Desktop\\repo\\kidney_ped\\kidney\\\\images_autosegment\\raw\\76__Still_images_5362_IM-0001-0005.png\n",
      "C:\\Users\\rckyh\\Desktop\\repo\\kidney_ped\\kidney\\\\images_autosegment\\raw\\76__Still_images_5362_IM-0001-0016.png\n",
      "C:\\Users\\rckyh\\Desktop\\repo\\kidney_ped\\kidney\\\\images_autosegment\\raw\\77__Still_images_5378_IM-0004-0051.png\n"
     ]
    },
    {
     "name": "stderr",
     "output_type": "stream",
     "text": [
      "Shape features are only available 3D input (for 2D input, use shape2D). Found 2D input\n",
      "GLCM is symmetrical, therefore Sum Average = 2 * Joint Average, only 1 needs to be calculated\n",
      "Shape features are only available 3D input (for 2D input, use shape2D). Found 2D input\n",
      "GLCM is symmetrical, therefore Sum Average = 2 * Joint Average, only 1 needs to be calculated\n",
      "Shape features are only available 3D input (for 2D input, use shape2D). Found 2D input\n",
      "GLCM is symmetrical, therefore Sum Average = 2 * Joint Average, only 1 needs to be calculated\n"
     ]
    },
    {
     "name": "stdout",
     "output_type": "stream",
     "text": [
      "C:\\Users\\rckyh\\Desktop\\repo\\kidney_ped\\kidney\\\\images_autosegment\\raw\\77__Still_images_5378_IM-0004-0058.png\n",
      "C:\\Users\\rckyh\\Desktop\\repo\\kidney_ped\\kidney\\\\images_autosegment\\raw\\78__Still_images_5354_IM-0001-0047.png\n",
      "C:\\Users\\rckyh\\Desktop\\repo\\kidney_ped\\kidney\\\\images_autosegment\\raw\\78__Still_images_5354_IM-0001-0061.png\n"
     ]
    },
    {
     "name": "stderr",
     "output_type": "stream",
     "text": [
      "Shape features are only available 3D input (for 2D input, use shape2D). Found 2D input\n",
      "GLCM is symmetrical, therefore Sum Average = 2 * Joint Average, only 1 needs to be calculated\n",
      "Shape features are only available 3D input (for 2D input, use shape2D). Found 2D input\n",
      "GLCM is symmetrical, therefore Sum Average = 2 * Joint Average, only 1 needs to be calculated\n",
      "Shape features are only available 3D input (for 2D input, use shape2D). Found 2D input\n",
      "GLCM is symmetrical, therefore Sum Average = 2 * Joint Average, only 1 needs to be calculated\n"
     ]
    },
    {
     "name": "stdout",
     "output_type": "stream",
     "text": [
      "C:\\Users\\rckyh\\Desktop\\repo\\kidney_ped\\kidney\\\\images_autosegment\\raw\\79__Still_images_5376_IM-0001-0028.png\n",
      "C:\\Users\\rckyh\\Desktop\\repo\\kidney_ped\\kidney\\\\images_autosegment\\raw\\7__still_images_5363_IM-0001-0037.png\n",
      "C:\\Users\\rckyh\\Desktop\\repo\\kidney_ped\\kidney\\\\images_autosegment\\raw\\7__still_images_5363_IM-0001-0050.png\n"
     ]
    },
    {
     "name": "stderr",
     "output_type": "stream",
     "text": [
      "Shape features are only available 3D input (for 2D input, use shape2D). Found 2D input\n",
      "GLCM is symmetrical, therefore Sum Average = 2 * Joint Average, only 1 needs to be calculated\n",
      "Shape features are only available 3D input (for 2D input, use shape2D). Found 2D input\n",
      "GLCM is symmetrical, therefore Sum Average = 2 * Joint Average, only 1 needs to be calculated\n",
      "Shape features are only available 3D input (for 2D input, use shape2D). Found 2D input\n",
      "GLCM is symmetrical, therefore Sum Average = 2 * Joint Average, only 1 needs to be calculated\n"
     ]
    },
    {
     "name": "stdout",
     "output_type": "stream",
     "text": [
      "C:\\Users\\rckyh\\Desktop\\repo\\kidney_ped\\kidney\\\\images_autosegment\\raw\\80__Still_images_5346_IM-0001-0008.png\n",
      "C:\\Users\\rckyh\\Desktop\\repo\\kidney_ped\\kidney\\\\images_autosegment\\raw\\81__Still_images_5367_IM-0002-0005.png\n"
     ]
    },
    {
     "name": "stderr",
     "output_type": "stream",
     "text": [
      "Shape features are only available 3D input (for 2D input, use shape2D). Found 2D input\n",
      "GLCM is symmetrical, therefore Sum Average = 2 * Joint Average, only 1 needs to be calculated\n",
      "Shape features are only available 3D input (for 2D input, use shape2D). Found 2D input\n",
      "GLCM is symmetrical, therefore Sum Average = 2 * Joint Average, only 1 needs to be calculated\n"
     ]
    },
    {
     "name": "stdout",
     "output_type": "stream",
     "text": [
      "C:\\Users\\rckyh\\Desktop\\repo\\kidney_ped\\kidney\\\\images_autosegment\\raw\\81__Still_images_5367_IM-0002-0017.png\n",
      "C:\\Users\\rckyh\\Desktop\\repo\\kidney_ped\\kidney\\\\images_autosegment\\raw\\82__Still_images_5372_IM-0001-0015.png\n",
      "C:\\Users\\rckyh\\Desktop\\repo\\kidney_ped\\kidney\\\\images_autosegment\\raw\\83__Still_images_5391_IM-0001-0007.png\n"
     ]
    },
    {
     "name": "stderr",
     "output_type": "stream",
     "text": [
      "Shape features are only available 3D input (for 2D input, use shape2D). Found 2D input\n",
      "GLCM is symmetrical, therefore Sum Average = 2 * Joint Average, only 1 needs to be calculated\n",
      "Shape features are only available 3D input (for 2D input, use shape2D). Found 2D input\n",
      "GLCM is symmetrical, therefore Sum Average = 2 * Joint Average, only 1 needs to be calculated\n",
      "Shape features are only available 3D input (for 2D input, use shape2D). Found 2D input\n",
      "GLCM is symmetrical, therefore Sum Average = 2 * Joint Average, only 1 needs to be calculated\n"
     ]
    },
    {
     "name": "stdout",
     "output_type": "stream",
     "text": [
      "C:\\Users\\rckyh\\Desktop\\repo\\kidney_ped\\kidney\\\\images_autosegment\\raw\\83__Still_images_5391_IM-0001-0031.png\n",
      "C:\\Users\\rckyh\\Desktop\\repo\\kidney_ped\\kidney\\\\images_autosegment\\raw\\84__Still_images_5362_IM-0001-0008.png\n"
     ]
    },
    {
     "name": "stderr",
     "output_type": "stream",
     "text": [
      "Shape features are only available 3D input (for 2D input, use shape2D). Found 2D input\n",
      "GLCM is symmetrical, therefore Sum Average = 2 * Joint Average, only 1 needs to be calculated\n",
      "Shape features are only available 3D input (for 2D input, use shape2D). Found 2D input\n",
      "GLCM is symmetrical, therefore Sum Average = 2 * Joint Average, only 1 needs to be calculated\n"
     ]
    },
    {
     "name": "stdout",
     "output_type": "stream",
     "text": [
      "C:\\Users\\rckyh\\Desktop\\repo\\kidney_ped\\kidney\\\\images_autosegment\\raw\\84__Still_images_5362_IM-0001-0015.png\n",
      "C:\\Users\\rckyh\\Desktop\\repo\\kidney_ped\\kidney\\\\images_autosegment\\raw\\85__Still_images_5356_IM-0001-0006.png\n"
     ]
    },
    {
     "name": "stderr",
     "output_type": "stream",
     "text": [
      "Shape features are only available 3D input (for 2D input, use shape2D). Found 2D input\n",
      "GLCM is symmetrical, therefore Sum Average = 2 * Joint Average, only 1 needs to be calculated\n",
      "Shape features are only available 3D input (for 2D input, use shape2D). Found 2D input\n",
      "GLCM is symmetrical, therefore Sum Average = 2 * Joint Average, only 1 needs to be calculated\n"
     ]
    },
    {
     "name": "stdout",
     "output_type": "stream",
     "text": [
      "C:\\Users\\rckyh\\Desktop\\repo\\kidney_ped\\kidney\\\\images_autosegment\\raw\\85__Still_images_5356_IM-0001-0019.png\n",
      "C:\\Users\\rckyh\\Desktop\\repo\\kidney_ped\\kidney\\\\images_autosegment\\raw\\86__Still_images_5359_IM-0001-0031.png\n"
     ]
    },
    {
     "name": "stderr",
     "output_type": "stream",
     "text": [
      "Shape features are only available 3D input (for 2D input, use shape2D). Found 2D input\n",
      "GLCM is symmetrical, therefore Sum Average = 2 * Joint Average, only 1 needs to be calculated\n",
      "Shape features are only available 3D input (for 2D input, use shape2D). Found 2D input\n",
      "GLCM is symmetrical, therefore Sum Average = 2 * Joint Average, only 1 needs to be calculated\n"
     ]
    },
    {
     "name": "stdout",
     "output_type": "stream",
     "text": [
      "C:\\Users\\rckyh\\Desktop\\repo\\kidney_ped\\kidney\\\\images_autosegment\\raw\\86__Still_images_5359_IM-0001-0078.png\n",
      "C:\\Users\\rckyh\\Desktop\\repo\\kidney_ped\\kidney\\\\images_autosegment\\raw\\87__Still_images_5392_IM-0001-0011.png\n",
      "C:\\Users\\rckyh\\Desktop\\repo\\kidney_ped\\kidney\\\\images_autosegment\\raw\\87__Still_images_5392_IM-0001-0056.png\n"
     ]
    },
    {
     "name": "stderr",
     "output_type": "stream",
     "text": [
      "Shape features are only available 3D input (for 2D input, use shape2D). Found 2D input\n",
      "GLCM is symmetrical, therefore Sum Average = 2 * Joint Average, only 1 needs to be calculated\n",
      "Shape features are only available 3D input (for 2D input, use shape2D). Found 2D input\n",
      "GLCM is symmetrical, therefore Sum Average = 2 * Joint Average, only 1 needs to be calculated\n",
      "Shape features are only available 3D input (for 2D input, use shape2D). Found 2D input\n",
      "GLCM is symmetrical, therefore Sum Average = 2 * Joint Average, only 1 needs to be calculated\n"
     ]
    },
    {
     "name": "stdout",
     "output_type": "stream",
     "text": [
      "C:\\Users\\rckyh\\Desktop\\repo\\kidney_ped\\kidney\\\\images_autosegment\\raw\\88__Still_images_5386_IM-0001-0019.png\n",
      "C:\\Users\\rckyh\\Desktop\\repo\\kidney_ped\\kidney\\\\images_autosegment\\raw\\8__still_images_5366_IM-0001-0046.png\n",
      "C:\\Users\\rckyh\\Desktop\\repo\\kidney_ped\\kidney\\\\images_autosegment\\raw\\90__Still_images_5413_IM-0001-0033.png\n"
     ]
    },
    {
     "name": "stderr",
     "output_type": "stream",
     "text": [
      "Shape features are only available 3D input (for 2D input, use shape2D). Found 2D input\n",
      "GLCM is symmetrical, therefore Sum Average = 2 * Joint Average, only 1 needs to be calculated\n",
      "Shape features are only available 3D input (for 2D input, use shape2D). Found 2D input\n",
      "GLCM is symmetrical, therefore Sum Average = 2 * Joint Average, only 1 needs to be calculated\n",
      "Shape features are only available 3D input (for 2D input, use shape2D). Found 2D input\n",
      "GLCM is symmetrical, therefore Sum Average = 2 * Joint Average, only 1 needs to be calculated\n"
     ]
    },
    {
     "name": "stdout",
     "output_type": "stream",
     "text": [
      "C:\\Users\\rckyh\\Desktop\\repo\\kidney_ped\\kidney\\\\images_autosegment\\raw\\90__Still_images_5413_IM-0001-0039.png\n",
      "C:\\Users\\rckyh\\Desktop\\repo\\kidney_ped\\kidney\\\\images_autosegment\\raw\\91__Still_images_5312_IM-0001-0021.png\n",
      "C:\\Users\\rckyh\\Desktop\\repo\\kidney_ped\\kidney\\\\images_autosegment\\raw\\91__Still_images_5312_IM-0001-0047.png\n"
     ]
    },
    {
     "name": "stderr",
     "output_type": "stream",
     "text": [
      "Shape features are only available 3D input (for 2D input, use shape2D). Found 2D input\n",
      "GLCM is symmetrical, therefore Sum Average = 2 * Joint Average, only 1 needs to be calculated\n",
      "Shape features are only available 3D input (for 2D input, use shape2D). Found 2D input\n",
      "GLCM is symmetrical, therefore Sum Average = 2 * Joint Average, only 1 needs to be calculated\n",
      "Shape features are only available 3D input (for 2D input, use shape2D). Found 2D input\n",
      "GLCM is symmetrical, therefore Sum Average = 2 * Joint Average, only 1 needs to be calculated\n"
     ]
    },
    {
     "name": "stdout",
     "output_type": "stream",
     "text": [
      "C:\\Users\\rckyh\\Desktop\\repo\\kidney_ped\\kidney\\\\images_autosegment\\raw\\92__Still images_5341_IM-0001-0006.png\n",
      "C:\\Users\\rckyh\\Desktop\\repo\\kidney_ped\\kidney\\\\images_autosegment\\raw\\92__Still images_5341_IM-0001-0031.png\n",
      "C:\\Users\\rckyh\\Desktop\\repo\\kidney_ped\\kidney\\\\images_autosegment\\raw\\93__Still images_5358_IM-0001-0007.png\n"
     ]
    },
    {
     "name": "stderr",
     "output_type": "stream",
     "text": [
      "Shape features are only available 3D input (for 2D input, use shape2D). Found 2D input\n",
      "GLCM is symmetrical, therefore Sum Average = 2 * Joint Average, only 1 needs to be calculated\n",
      "Shape features are only available 3D input (for 2D input, use shape2D). Found 2D input\n",
      "GLCM is symmetrical, therefore Sum Average = 2 * Joint Average, only 1 needs to be calculated\n",
      "Shape features are only available 3D input (for 2D input, use shape2D). Found 2D input\n",
      "GLCM is symmetrical, therefore Sum Average = 2 * Joint Average, only 1 needs to be calculated\n"
     ]
    },
    {
     "name": "stdout",
     "output_type": "stream",
     "text": [
      "C:\\Users\\rckyh\\Desktop\\repo\\kidney_ped\\kidney\\\\images_autosegment\\raw\\93__Still images_5358_IM-0001-0018.png\n",
      "C:\\Users\\rckyh\\Desktop\\repo\\kidney_ped\\kidney\\\\images_autosegment\\raw\\94__Still images_5317_IM-0001-0017.png\n",
      "C:\\Users\\rckyh\\Desktop\\repo\\kidney_ped\\kidney\\\\images_autosegment\\raw\\94__Still images_5317_IM-0001-0041.png\n"
     ]
    },
    {
     "name": "stderr",
     "output_type": "stream",
     "text": [
      "Shape features are only available 3D input (for 2D input, use shape2D). Found 2D input\n",
      "GLCM is symmetrical, therefore Sum Average = 2 * Joint Average, only 1 needs to be calculated\n",
      "Shape features are only available 3D input (for 2D input, use shape2D). Found 2D input\n",
      "GLCM is symmetrical, therefore Sum Average = 2 * Joint Average, only 1 needs to be calculated\n",
      "Shape features are only available 3D input (for 2D input, use shape2D). Found 2D input\n",
      "GLCM is symmetrical, therefore Sum Average = 2 * Joint Average, only 1 needs to be calculated\n"
     ]
    },
    {
     "name": "stdout",
     "output_type": "stream",
     "text": [
      "C:\\Users\\rckyh\\Desktop\\repo\\kidney_ped\\kidney\\\\images_autosegment\\raw\\95__Still images_5370_IM-0001-0002.png\n",
      "C:\\Users\\rckyh\\Desktop\\repo\\kidney_ped\\kidney\\\\images_autosegment\\raw\\95__Still images_5370_IM-0001-0010.png\n",
      "C:\\Users\\rckyh\\Desktop\\repo\\kidney_ped\\kidney\\\\images_autosegment\\raw\\96__Still_images_5348_IM-0001-0040.png\n"
     ]
    },
    {
     "name": "stderr",
     "output_type": "stream",
     "text": [
      "Shape features are only available 3D input (for 2D input, use shape2D). Found 2D input\n",
      "GLCM is symmetrical, therefore Sum Average = 2 * Joint Average, only 1 needs to be calculated\n",
      "Shape features are only available 3D input (for 2D input, use shape2D). Found 2D input\n",
      "GLCM is symmetrical, therefore Sum Average = 2 * Joint Average, only 1 needs to be calculated\n",
      "Shape features are only available 3D input (for 2D input, use shape2D). Found 2D input\n",
      "GLCM is symmetrical, therefore Sum Average = 2 * Joint Average, only 1 needs to be calculated\n"
     ]
    },
    {
     "name": "stdout",
     "output_type": "stream",
     "text": [
      "C:\\Users\\rckyh\\Desktop\\repo\\kidney_ped\\kidney\\\\images_autosegment\\raw\\96__Still_images_5348_IM-0001-0057.png\n",
      "C:\\Users\\rckyh\\Desktop\\repo\\kidney_ped\\kidney\\\\images_autosegment\\raw\\97__Still_images_5332_IM-0001-0006.png\n"
     ]
    },
    {
     "name": "stderr",
     "output_type": "stream",
     "text": [
      "Shape features are only available 3D input (for 2D input, use shape2D). Found 2D input\n",
      "GLCM is symmetrical, therefore Sum Average = 2 * Joint Average, only 1 needs to be calculated\n",
      "Shape features are only available 3D input (for 2D input, use shape2D). Found 2D input\n",
      "GLCM is symmetrical, therefore Sum Average = 2 * Joint Average, only 1 needs to be calculated\n"
     ]
    },
    {
     "name": "stdout",
     "output_type": "stream",
     "text": [
      "C:\\Users\\rckyh\\Desktop\\repo\\kidney_ped\\kidney\\\\images_autosegment\\raw\\97__Still_images_5332_IM-0001-0023.png\n",
      "C:\\Users\\rckyh\\Desktop\\repo\\kidney_ped\\kidney\\\\images_autosegment\\raw\\98__Still_images_5338_IM-0001-0018.png\n",
      "C:\\Users\\rckyh\\Desktop\\repo\\kidney_ped\\kidney\\\\images_autosegment\\raw\\98__Still_images_5338_IM-0001-0042.png\n"
     ]
    },
    {
     "name": "stderr",
     "output_type": "stream",
     "text": [
      "Shape features are only available 3D input (for 2D input, use shape2D). Found 2D input\n",
      "GLCM is symmetrical, therefore Sum Average = 2 * Joint Average, only 1 needs to be calculated\n",
      "Shape features are only available 3D input (for 2D input, use shape2D). Found 2D input\n",
      "GLCM is symmetrical, therefore Sum Average = 2 * Joint Average, only 1 needs to be calculated\n",
      "Shape features are only available 3D input (for 2D input, use shape2D). Found 2D input\n",
      "GLCM is symmetrical, therefore Sum Average = 2 * Joint Average, only 1 needs to be calculated\n"
     ]
    },
    {
     "name": "stdout",
     "output_type": "stream",
     "text": [
      "C:\\Users\\rckyh\\Desktop\\repo\\kidney_ped\\kidney\\\\images_autosegment\\raw\\99__Still_images_5322_IM-0001-0007.png\n",
      "C:\\Users\\rckyh\\Desktop\\repo\\kidney_ped\\kidney\\\\images_autosegment\\raw\\99__Still_images_5322_IM-0001-0014.png\n"
     ]
    },
    {
     "name": "stderr",
     "output_type": "stream",
     "text": [
      "Shape features are only available 3D input (for 2D input, use shape2D). Found 2D input\n",
      "GLCM is symmetrical, therefore Sum Average = 2 * Joint Average, only 1 needs to be calculated\n"
     ]
    },
    {
     "name": "stdout",
     "output_type": "stream",
     "text": [
      "C:\\Users\\rckyh\\Desktop\\repo\\kidney_ped\\kidney\\\\images_autosegment\\raw\\9__still_images_IM-0001-0020.png\n",
      "Saving:  C:\\Users\\rckyh\\Desktop\\repo\\kidney_ped\\kidney\\\\radiomics.csv\n"
     ]
    }
   ],
   "source": [
    "dataDir =  r\"C:\\Users\\rckyh\\Desktop\\repo\\kidney_ped\\kidney\\\\\"\n",
    "imDir =  dataDir + \"images_autosegment\\\\raw\\\\\"\n",
    "maskDir =  dataDir + \"images_autosegment\\masks\\\\\"\n",
    "output = dataDir + 'radiomics.csv'\n",
    "\n",
    "# images have a base name, then the raw images have _mask.png and the segmentations\n",
    "# have _cortex_segmentation.png so have to manipulate the directories a bit first\n",
    "i = 0\n",
    "featureListAllImages = []\n",
    "for pngFile in glob(os.path.join(imDir, \"*.png\")):\n",
    "\n",
    "    print(pngFile)\n",
    "\n",
    "    rawImageName = os.path.basename(pngFile)\n",
    "    \n",
    "    #this section is the string manipulation depending how images are named\n",
    "    #imageNameComponents =  rawImageName.split('_')[:-1]\n",
    "    #imageBaseName = '_'.join(imageNameComponents)\n",
    "\n",
    "    imPath = imDir + rawImageName\n",
    "    maskPath = maskDir + rawImageName\n",
    "    maskGray = cv2.imread(maskPath, cv2.IMREAD_GRAYSCALE)\n",
    "    \n",
    "    if(np.sum(maskGray)!= 0):\n",
    "        featureListAllMasks, featureNames = computeRadiomicFeatures(imPath, \n",
    "                                                                    maskPath,\n",
    "                                                                   display_images = 0)\n",
    "\n",
    "        featureListAllImages.append(featureListAllMasks)\n",
    "    i = i +1\n",
    "    \n",
    "print('Saving: ', output)\n",
    "statsDF = pd.DataFrame(featureListAllImages, columns = featureNames)\n",
    "statsDF.to_csv(output, index=False)"
   ]
  },
  {
   "cell_type": "markdown",
   "metadata": {},
   "source": [
    "# Scratchpad"
   ]
  },
  {
   "cell_type": "code",
   "execution_count": 13,
   "metadata": {
    "scrolled": true
   },
   "outputs": [
    {
     "data": {
      "image/png": "[encoded data removed]",
      "text/plain": [
       "<Figure size 1500x500 with 3 Axes>"
      ]
     },
     "metadata": {},
     "output_type": "display_data"
    },
    {
     "name": "stderr",
     "output_type": "stream",
     "text": [
      "Shape features are only available 3D input (for 2D input, use shape2D). Found 2D input\n",
      "GLCM is symmetrical, therefore Sum Average = 2 * Joint Average, only 1 needs to be calculated\n"
     ]
    },
    {
     "data": {
      "text/plain": [
       "OrderedDict([('diagnostics_Versions_PyRadiomics', 'v3.1.0'),\n",
       "             ('diagnostics_Versions_Numpy', '1.24.4'),\n",
       "             ('diagnostics_Versions_SimpleITK', '2.4.1'),\n",
       "             ('diagnostics_Versions_PyWavelet', '1.4.1'),\n",
       "             ('diagnostics_Versions_Python', '3.8.20'),\n",
       "             ('diagnostics_Configuration_Settings',\n",
       "              {'minimumROIDimensions': 2,\n",
       "               'minimumROISize': None,\n",
       "               'normalize': False,\n",
       "               'normalizeScale': 1,\n",
       "               'removeOutliers': None,\n",
       "               'resampledPixelSpacing': None,\n",
       "               'interpolator': 'sitkBSpline',\n",
       "               'preCrop': False,\n",
       "               'padDistance': 5,\n",
       "               'distances': [1],\n",
       "               'force2D': False,\n",
       "               'force2Ddimension': 0,\n",
       "               'resegmentRange': None,\n",
       "               'label': 1,\n",
       "               'additionalInfo': True}),\n",
       "             ('diagnostics_Configuration_EnabledImageTypes', {'Original': {}}),\n",
       "             ('diagnostics_Image-original_Hash',\n",
       "              'b85c6ee26de7a0b8135ecedf72e1461aba95c044'),\n",
       "             ('diagnostics_Image-original_Dimensionality', '2D'),\n",
       "             ('diagnostics_Image-original_Spacing', (1.0, 1.0)),\n",
       "             ('diagnostics_Image-original_Size', (512, 512)),\n",
       "             ('diagnostics_Image-original_Mean', 0.5484848022460938),\n",
       "             ('diagnostics_Image-original_Minimum', 0.0),\n",
       "             ('diagnostics_Image-original_Maximum', 120.0),\n",
       "             ('diagnostics_Mask-original_Hash',\n",
       "              'b0eeb18a4ac21b0945eff9ea99f7145a09841bd8'),\n",
       "             ('diagnostics_Mask-original_Spacing', (1.0, 1.0)),\n",
       "             ('diagnostics_Mask-original_Size', (512, 512)),\n",
       "             ('diagnostics_Mask-original_BoundingBox', (148, 126, 190, 136)),\n",
       "             ('diagnostics_Mask-original_VoxelNum', 6362),\n",
       "             ('diagnostics_Mask-original_VolumeNum', 3),\n",
       "             ('diagnostics_Mask-original_CenterOfMassIndex',\n",
       "              (236.83841559258096, 180.3239547312166)),\n",
       "             ('diagnostics_Mask-original_CenterOfMass',\n",
       "              (236.83841559258096, 180.3239547312166)),\n",
       "             ('original_firstorder_10Percentile', array(0.)),\n",
       "             ('original_firstorder_90Percentile', array(48.)),\n",
       "             ('original_firstorder_Energy', array(5231568.)),\n",
       "             ('original_firstorder_Entropy', array(1.30185984)),\n",
       "             ('original_firstorder_InterquartileRange', array(25.)),\n",
       "             ('original_firstorder_Kurtosis', array(3.22440232)),\n",
       "             ('original_firstorder_Maximum', array(120.)),\n",
       "             ('original_firstorder_MeanAbsoluteDeviation', array(14.16002424)),\n",
       "             ('original_firstorder_Mean', array(22.60012575)),\n",
       "             ('original_firstorder_Median', array(21.)),\n",
       "             ('original_firstorder_Minimum', array(0.)),\n",
       "             ('original_firstorder_Range', array(120.)),\n",
       "             ('original_firstorder_RobustMeanAbsoluteDeviation',\n",
       "              array(11.65309097)),\n",
       "             ('original_firstorder_RootMeanSquared', array(28.67603521)),\n",
       "             ('original_firstorder_Skewness', array(0.69658208)),\n",
       "             ('original_firstorder_TotalEnergy', array(5231568.)),\n",
       "             ('original_firstorder_Uniformity', array(0.4639233)),\n",
       "             ('original_firstorder_Variance', array(311.54931152)),\n",
       "             ('original_glcm_Autocorrelation', array(2.46099995)),\n",
       "             ('original_glcm_ClusterProminence', array(7.36124708)),\n",
       "             ('original_glcm_ClusterShade', array(1.92720029)),\n",
       "             ('original_glcm_ClusterTendency', array(1.4537556)),\n",
       "             ('original_glcm_Contrast', array(0.14022283)),\n",
       "             ('original_glcm_Correlation', array(0.82341612)),\n",
       "             ('original_glcm_DifferenceAverage', array(0.13869465)),\n",
       "             ('original_glcm_DifferenceEntropy', array(0.58032363)),\n",
       "             ('original_glcm_DifferenceVariance', array(0.12037945)),\n",
       "             ('original_glcm_Id', array(0.93087388)),\n",
       "             ('original_glcm_Idm', array(0.93080549)),\n",
       "             ('original_glcm_Idmn', array(0.99462349)),\n",
       "             ('original_glcm_Idn', array(0.97691822)),\n",
       "             ('original_glcm_Imc1', array(-0.51259504)),\n",
       "             ('original_glcm_Imc2', array(0.84655843)),\n",
       "             ('original_glcm_InverseVariance', array(0.13767384)),\n",
       "             ('original_glcm_JointAverage', array(1.46031616)),\n",
       "             ('original_glcm_JointEnergy', array(0.39066477)),\n",
       "             ('original_glcm_JointEntropy', array(1.84929468)),\n",
       "             ('original_glcm_MCC', array(0.82700627)),\n",
       "             ('original_glcm_MaximumProbability', array(0.56495613)),\n",
       "             ('original_glcm_SumAverage', array(2.92063231)),\n",
       "             ('original_glcm_SumEntropy', array(1.70722107)),\n",
       "             ('original_glcm_SumSquares', array(0.39849461)),\n",
       "             ('original_gldm_DependenceEntropy', array(3.72543076)),\n",
       "             ('original_gldm_DependenceNonUniformity', array(1503.11317196)),\n",
       "             ('original_gldm_DependenceNonUniformityNormalized',\n",
       "              array(0.23626425)),\n",
       "             ('original_gldm_DependenceVariance', array(4.97116337)),\n",
       "             ('original_gldm_GrayLevelNonUniformity', array(2951.48003772)),\n",
       "             ('original_gldm_GrayLevelVariance', array(0.43984357)),\n",
       "             ('original_gldm_HighGrayLevelEmphasis', array(2.67243005)),\n",
       "             ('original_gldm_LargeDependenceEmphasis', array(54.56711726)),\n",
       "             ('original_gldm_LargeDependenceHighGrayLevelEmphasis',\n",
       "              array(118.39075762)),\n",
       "             ('original_gldm_LargeDependenceLowGrayLevelEmphasis',\n",
       "              array(41.21416304)),\n",
       "             ('original_gldm_LowGrayLevelEmphasis', array(0.68360399)),\n",
       "             ('original_gldm_SmallDependenceEmphasis', array(0.04174449)),\n",
       "             ('original_gldm_SmallDependenceHighGrayLevelEmphasis',\n",
       "              array(0.17527408)),\n",
       "             ('original_gldm_SmallDependenceLowGrayLevelEmphasis',\n",
       "              array(0.02190157)),\n",
       "             ('original_glrlm_GrayLevelNonUniformity', array(570.3857193)),\n",
       "             ('original_glrlm_GrayLevelNonUniformityNormalized',\n",
       "              array(0.36660286)),\n",
       "             ('original_glrlm_GrayLevelVariance', array(0.6035295)),\n",
       "             ('original_glrlm_HighGrayLevelRunEmphasis', array(3.80767)),\n",
       "             ('original_glrlm_LongRunEmphasis', array(56.90596767)),\n",
       "             ('original_glrlm_LongRunHighGrayLevelEmphasis',\n",
       "              array(93.79030207)),\n",
       "             ('original_glrlm_LongRunLowGrayLevelEmphasis',\n",
       "              array(48.99369312)),\n",
       "             ('original_glrlm_LowGrayLevelRunEmphasis', array(0.52896984)),\n",
       "             ('original_glrlm_RunEntropy', array(4.4509171)),\n",
       "             ('original_glrlm_RunLengthNonUniformity', array(371.68998513)),\n",
       "             ('original_glrlm_RunLengthNonUniformityNormalized',\n",
       "              array(0.23456046)),\n",
       "             ('original_glrlm_RunPercentage', array(0.24469506)),\n",
       "             ('original_glrlm_RunVariance', array(39.1118572)),\n",
       "             ('original_glrlm_ShortRunEmphasis', array(0.49163122)),\n",
       "             ('original_glrlm_ShortRunHighGrayLevelEmphasis',\n",
       "              array(2.11006121)),\n",
       "             ('original_glrlm_ShortRunLowGrayLevelEmphasis',\n",
       "              array(0.24166144)),\n",
       "             ('original_glszm_GrayLevelNonUniformity', array(49.25157233)),\n",
       "             ('original_glszm_GrayLevelNonUniformityNormalized',\n",
       "              array(0.30975832)),\n",
       "             ('original_glszm_GrayLevelVariance', array(0.79419327)),\n",
       "             ('original_glszm_HighGrayLevelZoneEmphasis', array(6.1509434)),\n",
       "             ('original_glszm_LargeAreaEmphasis', array(95891.16981132)),\n",
       "             ('original_glszm_LargeAreaHighGrayLevelEmphasis',\n",
       "              array(129347.19496855)),\n",
       "             ('original_glszm_LargeAreaLowGrayLevelEmphasis',\n",
       "              array(87756.71063767)),\n",
       "             ('original_glszm_LowGrayLevelZoneEmphasis', array(0.32703354)),\n",
       "             ('original_glszm_SizeZoneNonUniformity', array(20.96226415)),\n",
       "             ('original_glszm_SizeZoneNonUniformityNormalized',\n",
       "              array(0.13183814)),\n",
       "             ('original_glszm_SmallAreaEmphasis', array(0.33134836)),\n",
       "             ('original_glszm_SmallAreaHighGrayLevelEmphasis',\n",
       "              array(2.16363873)),\n",
       "             ('original_glszm_SmallAreaLowGrayLevelEmphasis',\n",
       "              array(0.11962273)),\n",
       "             ('original_glszm_ZoneEntropy', array(5.16082386)),\n",
       "             ('original_glszm_ZonePercentage', array(0.02499214)),\n",
       "             ('original_glszm_ZoneVariance', array(94290.16336379)),\n",
       "             ('original_ngtdm_Busyness', array(42.81570375)),\n",
       "             ('original_ngtdm_Coarseness', array(0.00312532)),\n",
       "             ('original_ngtdm_Complexity', array(1.83309956)),\n",
       "             ('original_ngtdm_Contrast', array(0.00614834)),\n",
       "             ('original_ngtdm_Strength', array(0.05293228))])"
      ]
     },
     "execution_count": 13,
     "metadata": {},
     "output_type": "execute_result"
    }
   ],
   "source": [
    "data_dir =  r\"C:\\Users\\rckyh\\Desktop\\repo\\kidney_ped\\kidney\\\\\"\n",
    "imPath = data_dir + \"images_autosegment\\\\raw\\\\\" + \"100__Still_images_5376_IM-0001-0023.png\"\n",
    "maskPath = data_dir + \"images_autosegment\\masks\\\\\" + \"100__Still_images_5376_IM-0001-0023.png\"\n",
    "\n",
    "imName = os.path.splitext(os.path.basename(imPath))[0]\n",
    "imDir = os.path.dirname(imPath)\n",
    "maskName = os.path.splitext(os.path.basename(maskPath))[0]\n",
    "maskDir = os.path.dirname(maskPath)\n",
    "maskGray = cv2.imread(maskPath, cv2.IMREAD_GRAYSCALE)\n",
    "imGray = cv2.imread(imPath, cv2.IMREAD_GRAYSCALE)\n",
    "\n",
    "# Ensure the mask is binary (0 or 255)\n",
    "maskBinary = np.where(maskGray > 0, 1, 0).astype(np.uint8)\n",
    "\n",
    "# Create the masked image\n",
    "maskedImage = imGray * maskBinary\n",
    "\n",
    "# Display the image, mask, and masked image in subplots\n",
    "plt.figure(figsize=(15, 5))\n",
    "\n",
    "# Display the original image\n",
    "plt.subplot(1, 3, 1)\n",
    "plt.imshow(imGray, cmap='gray')\n",
    "plt.title('Original Image')\n",
    "plt.axis('off')\n",
    "\n",
    "# Display the mask\n",
    "plt.subplot(1, 3, 2)\n",
    "plt.imshow(maskBinary, cmap='gray')\n",
    "plt.title('Mask')\n",
    "plt.axis('off')\n",
    "\n",
    "# Display the masked image\n",
    "plt.subplot(1, 3, 3)\n",
    "plt.imshow(maskedImage, cmap='gray')\n",
    "plt.title('Masked Image')\n",
    "plt.axis('off')\n",
    "\n",
    "plt.show()\n",
    "\n",
    "image_sitk = sitk.GetImageFromArray(maskedImage)\n",
    "mask_sitk = sitk.GetImageFromArray(maskBinary)\n",
    "\n",
    "# Ensure the image and mask have the correct dimensions (2D)\n",
    "image_sitk.SetSpacing((1.0, 1.0))  # Set a dummy spacing if needed\n",
    "mask_sitk.SetSpacing((1.0, 1.0))   # Set a dummy spacing if needed\n",
    "\n",
    "# Create a feature extractor\n",
    "extractor = featureextractor.RadiomicsFeatureExtractor()\n",
    "\n",
    "features = extractor.execute(image_sitk, mask_sitk)\n",
    "features"
   ]
  },
  {
   "cell_type": "code",
   "execution_count": 9,
   "metadata": {},
   "outputs": [
    {
     "data": {
      "image/png": "[encoded data removed]",
      "text/plain": [
       "<Figure size 1000x400 with 3 Axes>"
      ]
     },
     "metadata": {},
     "output_type": "display_data"
    },
    {
     "name": "stdout",
     "output_type": "stream",
     "text": [
      "Mean pixel value in masked region: 25.37\n",
      "Mean pixel value in original imagae: 15.56\n"
     ]
    }
   ],
   "source": [
    "import numpy as np\n",
    "import matplotlib.pyplot as plt\n",
    "from PIL import Image\n",
    "\n",
    "im_path_png = r'C:\\Users\\rckyh\\Desktop\\repo\\kidney_ped\\kidney\\images_autosegment\\raw\\1__Still images_IM-0001-0020.png'\n",
    "mask_path_png = r'C:\\Users\\rckyh\\Desktop\\repo\\kidney_ped\\kidney\\images_autosegment\\masks\\1__Still images_IM-0001-0020.png'\n",
    "\n",
    "# Step 1: Load image and mask\n",
    "im = np.array(Image.open(im_path_png).convert('L'))   # Convert to grayscale\n",
    "mask = np.array(Image.open(mask_path_png).convert('L'))\n",
    "\n",
    "# Step 2: Normalize mask to 0 and 1\n",
    "mask_binary = (mask > 0).astype(np.uint8)  # Converts non-zero values to 1 and zero to 0\n",
    "\n",
    "# Step 3: Apply mask to extract only the masked region\n",
    "masked_image = im * mask_binary\n",
    "\n",
    "# Step 4: Display\n",
    "plt.figure(figsize=(10,4))\n",
    "\n",
    "plt.subplot(1,3,1)\n",
    "plt.imshow(im, cmap='gray')\n",
    "plt.title('Original Image')\n",
    "plt.axis('off')\n",
    "\n",
    "plt.subplot(1,3,2)\n",
    "plt.imshow(mask_binary, cmap='gray')\n",
    "plt.title('Normalized Mask (0-1)')\n",
    "plt.axis('off')\n",
    "\n",
    "plt.subplot(1,3,3)\n",
    "plt.imshow(masked_image, cmap='gray')\n",
    "plt.title('Masked Image')\n",
    "plt.axis('off')\n",
    "\n",
    "plt.tight_layout()\n",
    "plt.show()\n",
    "\n",
    "# Step 5: Compute mean of masked region (non-zero mask)\n",
    "masked_values = im[mask_binary == 1]\n",
    "mean_val = masked_values.mean()\n",
    "mean_val_original = im.mean()\n",
    "print(f\"Mean pixel value in masked region: {mean_val:.2f}\")\n",
    "print(f\"Mean pixel value in original imagae: {mean_val_original:.2f}\")"
   ]
  },
  {
   "cell_type": "code",
   "execution_count": null,
   "metadata": {},
   "outputs": [],
   "source": [
    "im_path_NRRD = r'C:\\Users\\rckyh\\Desktop\\repo\\kidney_ped\\kidney\\images\\masks\\nrrdFiles\\1__Still images_IM-0001-0020_cortex_segmentation_mask_1.nrrd'\n",
    "mask_path_NRRD = r'C:\\Users\\rckyh\\Desktop\\repo\\kidney_ped\\kidney\\images\\raw\\nrrdFiles\\1__Still images_IM-0001-0020_masked.nrrd'\n",
    "\n",
    "image = sitk.ReadImage(im_path_NRRD)\n",
    "mask = sitk.ReadImage(mask_path_NRRD)\n",
    "\n",
    "# Convert mask to binary (0 and 1)\n",
    "mask = sitk.BinaryThreshold(mask, lowerThreshold=1, upperThreshold=255, insideValue=1, outsideValue=0)\n",
    "\n",
    "# Convert images to numpy arrays\n",
    "image_array = sitk.GetArrayFromImage(image)\n",
    "mask_array = sitk.GetArrayFromImage(mask)\n",
    "\n",
    "# If the image is 3D, use the first slice for visualization\n",
    "image_array_2d = image_array[0] if image_array.ndim > 2 else image_array\n",
    "mask_array_2d = mask_array[0] if mask_array.ndim > 2 else mask_array\n",
    "\n",
    "# Mask the image\n",
    "masked_image_array = image_array_2d * mask_array_2d\n",
    "\n",
    "# Plot the original image, mask, and masked overlay\n",
    "fig, axes = plt.subplots(1, 3, figsize=(15, 5))\n",
    "\n",
    "# Display original image\n",
    "axes[0].imshow(image_array_2d, cmap='gray')\n",
    "axes[0].set_title('Original Image')\n",
    "axes[0].axis('off')\n",
    "\n",
    "# Display mask\n",
    "axes[1].imshow(mask_array_2d, cmap='gray')\n",
    "axes[1].set_title('Mask')\n",
    "axes[1].axis('off')\n",
    "\n",
    "# Display masked overlay\n",
    "axes[2].imshow(masked_image_array, cmap='gray')\n",
    "axes[2].set_title('Masked Overlay')\n",
    "axes[2].axis('off')\n",
    "\n",
    "plt.tight_layout()\n",
    "plt.show()\n",
    "\n",
    "# Compute mean of masked region\n",
    "masked_values = masked_image_array[mask_array_2d == 1]\n",
    "mean_masked_value = np.mean(masked_values)\n",
    "\n",
    "print(f\"Mean of the masked region: {mean_masked_value}\")\n"
   ]
  },
  {
   "cell_type": "code",
   "execution_count": null,
   "metadata": {},
   "outputs": [],
   "source": []
  }
 ],
 "metadata": {
  "kernelspec": {
   "display_name": "Python 3 (ipykernel)",
   "language": "python",
   "name": "python3"
  },
  "language_info": {
   "codemirror_mode": {
    "name": "ipython",
    "version": 3
   },
   "file_extension": ".py",
   "mimetype": "text/x-python",
   "name": "python",
   "nbconvert_exporter": "python",
   "pygments_lexer": "ipython3",
   "version": "3.8.20"
  }
 },
 "nbformat": 4,
 "nbformat_minor": 4
}
