{
 "cells": [
  {
   "cell_type": "code",
   "execution_count": 11,
   "metadata": {},
   "outputs": [],
   "source": [
    "\"\"\"\n",
    "Created on Apr 28 2025\n",
    "@author: Ricky\n",
    "\"\"\"\n",
    "\n",
    "import six\n",
    "import os  # needed navigate the system to get the input data\n",
    "import radiomics\n",
    "from radiomics import featureextractor\n",
    "import SimpleITK as sitk\n",
    "import numpy as np\n",
    "import nrrd\n",
    "from PIL import Image\n",
    "from matplotlib import pyplot as plt\n",
    "import cv2\n",
    "from glob import glob\n",
    "import pandas as pd"
   ]
  },
  {
   "cell_type": "code",
   "execution_count": 12,
   "metadata": {},
   "outputs": [],
   "source": [
    "#returns list of radiomic features for each mask\n",
    "def computeRadiomicFeatures(imPath, maskPath, display_images = 0):\n",
    "    \n",
    "    #getting paths of directories and images\n",
    "    imName = os.path.splitext(os.path.basename(imPath))[0]\n",
    "    imDir = os.path.dirname(imPath)\n",
    "    maskName = os.path.splitext(os.path.basename(maskPath))[0]\n",
    "    maskDir = os.path.dirname(maskPath)\n",
    "    maskGray = cv2.imread(maskPath, cv2.IMREAD_GRAYSCALE)\n",
    "    imGray = cv2.imread(imPath, cv2.IMREAD_GRAYSCALE)\n",
    "    \n",
    "    #defining radiomics settings\n",
    "    settings = {}\n",
    "    settings['force2D'] = True\n",
    "    #instantiating extractor, 2D shape disabled by default so we have to enable\n",
    "    extractor = featureextractor.RadiomicsFeatureExtractor(**settings)\n",
    "    extractor.enableFeatureClassByName('shape2D')\n",
    "    #print('Extraction parameters:\\n\\t', extractor.settings)\n",
    "    #print('Enabled filters:\\n\\t', extractor.enabledImagetypes)\n",
    "    #print('Enabled features:\\n\\t', extractor.enabledFeatures)\n",
    "\n",
    "    # Ensure the mask is binary (0 or 255)\n",
    "    maskBinary = np.where(maskGray > 0, 1, 0).astype(np.uint8)\n",
    "\n",
    "    # Create the masked image\n",
    "    maskedImage = imGray * maskBinary\n",
    "\n",
    "    image_sitk = sitk.GetImageFromArray(maskedImage)\n",
    "    mask_sitk = sitk.GetImageFromArray(maskBinary)\n",
    "    \n",
    "    if(display_images == 1):\n",
    "        # Display the image, mask, and masked image in subplots\n",
    "        plt.figure(figsize=(15, 5))\n",
    "\n",
    "        # Display the original image\n",
    "        plt.subplot(1, 3, 1)\n",
    "        plt.imshow(imGray, cmap='gray')\n",
    "        plt.title('Original Image')\n",
    "        plt.axis('off')\n",
    "\n",
    "        # Display the mask\n",
    "        plt.subplot(1, 3, 2)\n",
    "        plt.imshow(maskBinary, cmap='gray')\n",
    "        plt.title('Mask')\n",
    "        plt.axis('off')\n",
    "\n",
    "        # Display the masked image\n",
    "        plt.subplot(1, 3, 3)\n",
    "        plt.imshow(maskedImage, cmap='gray')\n",
    "        plt.title('Masked Image')\n",
    "        plt.axis('off')\n",
    "\n",
    "        plt.show()\n",
    "\n",
    "\n",
    "    # Ensure the image and mask have the correct dimensions (2D)\n",
    "    image_sitk.SetSpacing((1.0, 1.0))  # Set a dummy spacing if needed\n",
    "    mask_sitk.SetSpacing((1.0, 1.0))   # Set a dummy spacing if needed\n",
    "\n",
    "    features = extractor.execute(image_sitk, mask_sitk)\n",
    "\n",
    "    featureList = []\n",
    "    featureNames= []\n",
    "    featureList.append(imName)\n",
    "    featureNames.append('imName')\n",
    "    for key, value in six.iteritems(features):\n",
    "        #ignore metadata\n",
    "        if('diagnostics') not in key:\n",
    "            if (type(value) == np.ndarray ):\n",
    "                featureList.append(value.item())\n",
    "            else:\n",
    "                featureList.append(value)\n",
    "                \n",
    "    allKeys = features.keys()\n",
    "    featureNamesTemp = [item for item in allKeys if ('diagnostics' not in item)]\n",
    "    featureNames.extend(featureNamesTemp)\n",
    "            \n",
    "    return featureList, featureNames"
   ]
  },
  {
   "cell_type": "code",
   "execution_count": 13,
   "metadata": {
    "scrolled": true
   },
   "outputs": [
    {
     "name": "stdout",
     "output_type": "stream",
     "text": [
      "C:\\Users\\rckyh\\Desktop\\repo\\kidney_ped\\kidney\\\\images\\raw\\100__Still_images_5376_IM-0001-0023_masked.png\n"
     ]
    },
    {
     "name": "stderr",
     "output_type": "stream",
     "text": [
      "Shape features are only available 3D input (for 2D input, use shape2D). Found 2D input\n",
      "GLCM is symmetrical, therefore Sum Average = 2 * Joint Average, only 1 needs to be calculated\n"
     ]
    },
    {
     "name": "stdout",
     "output_type": "stream",
     "text": [
      "C:\\Users\\rckyh\\Desktop\\repo\\kidney_ped\\kidney\\\\images\\raw\\100__Still_images_5376_IM-0001-0034_masked.png\n"
     ]
    },
    {
     "name": "stderr",
     "output_type": "stream",
     "text": [
      "Shape features are only available 3D input (for 2D input, use shape2D). Found 2D input\n",
      "GLCM is symmetrical, therefore Sum Average = 2 * Joint Average, only 1 needs to be calculated\n"
     ]
    },
    {
     "name": "stdout",
     "output_type": "stream",
     "text": [
      "C:\\Users\\rckyh\\Desktop\\repo\\kidney_ped\\kidney\\\\images\\raw\\101__Still_images_5377_IM-0002-0009_masked.png\n"
     ]
    },
    {
     "name": "stderr",
     "output_type": "stream",
     "text": [
      "Shape features are only available 3D input (for 2D input, use shape2D). Found 2D input\n",
      "GLCM is symmetrical, therefore Sum Average = 2 * Joint Average, only 1 needs to be calculated\n"
     ]
    },
    {
     "name": "stdout",
     "output_type": "stream",
     "text": [
      "Saving:  C:\\Users\\rckyh\\Desktop\\repo\\kidney_ped\\kidney\\\\radiomics.csv\n"
     ]
    }
   ],
   "source": [
    "dataDir =  r\"C:\\Users\\rckyh\\Desktop\\repo\\kidney_ped\\kidney\\\\\"\n",
    "imDir =  dataDir + \"images\\\\raw\\\\\"\n",
    "maskDir =  dataDir + \"images\\masks\\\\\"\n",
    "output = dataDir + 'radiomics.csv'\n",
    "\n",
    "# images have a base name, then the raw images have _mask.png and the segmentations\n",
    "# have _cortex_segmentation.png so have to manipulate the directories a bit first\n",
    "i = 0\n",
    "featureListAllImages = []\n",
    "for pngFile in glob(os.path.join(imDir, \"*.png\")):\n",
    "    \n",
    "    if i < 3:\n",
    "        print(pngFile)\n",
    "\n",
    "        rawImageName = os.path.basename(pngFile)\n",
    "        imageNameComponents =  rawImageName.split('_')[:-1]\n",
    "        imageBaseName = '_'.join(imageNameComponents)\n",
    "\n",
    "        imPath = imDir + rawImageName\n",
    "        maskPath = maskDir + (imageBaseName + \"_cortex_segmentation.png\")\n",
    "        maskGray = cv2.imread(maskPath, cv2.IMREAD_GRAYSCALE)\n",
    "        if(np.sum(maskGray)!= 0):\n",
    "            featureListAllMasks, featureNames = computeRadiomicFeatures(imPath, \n",
    "                                                                        maskPath,\n",
    "                                                                       display_images = 0)\n",
    "\n",
    "            featureListAllImages.append(featureListAllMasks)\n",
    "        i = i +1\n",
    "    \n",
    "print('Saving: ', output)\n",
    "statsDF = pd.DataFrame(featureListAllImages, columns = featureNames)\n",
    "statsDF.to_csv(output, index=False)"
   ]
  },
  {
   "cell_type": "markdown",
   "metadata": {},
   "source": [
    "# Scratchpad"
   ]
  },
  {
   "cell_type": "code",
   "execution_count": null,
   "metadata": {},
   "outputs": [],
   "source": [
    "data_dir =  r\"C:\\Users\\rckyh\\Desktop\\repo\\kidney_ped\\kidney\\\\\"\n",
    "imPath = data_dir + \"images\\\\raw\\\\\" + \"100__Still_images_5376_IM-0001-0023_masked.png\"\n",
    "maskPath = data_dir + \"images\\masks\\\\\" + \"100__Still_images_5376_IM-0001-0023_cortex_segmentation.png\"\n",
    "\n",
    "imName = os.path.splitext(os.path.basename(imPath))[0]\n",
    "imDir = os.path.dirname(imPath)\n",
    "maskName = os.path.splitext(os.path.basename(maskPath))[0]\n",
    "maskDir = os.path.dirname(maskPath)\n",
    "maskGray = cv2.imread(maskPath, cv2.IMREAD_GRAYSCALE)\n",
    "imGray = cv2.imread(imPath, cv2.IMREAD_GRAYSCALE)\n",
    "\n",
    "# Ensure the mask is binary (0 or 255)\n",
    "maskBinary = np.where(maskGray > 0, 1, 0).astype(np.uint8)\n",
    "\n",
    "# Create the masked image\n",
    "maskedImage = imGray * maskBinary\n",
    "\n",
    "# Display the image, mask, and masked image in subplots\n",
    "plt.figure(figsize=(15, 5))\n",
    "\n",
    "# Display the original image\n",
    "plt.subplot(1, 3, 1)\n",
    "plt.imshow(imGray, cmap='gray')\n",
    "plt.title('Original Image')\n",
    "plt.axis('off')\n",
    "\n",
    "# Display the mask\n",
    "plt.subplot(1, 3, 2)\n",
    "plt.imshow(maskBinary, cmap='gray')\n",
    "plt.title('Mask')\n",
    "plt.axis('off')\n",
    "\n",
    "# Display the masked image\n",
    "plt.subplot(1, 3, 3)\n",
    "plt.imshow(maskedImage, cmap='gray')\n",
    "plt.title('Masked Image')\n",
    "plt.axis('off')\n",
    "\n",
    "plt.show()\n",
    "\n",
    "image_sitk = sitk.GetImageFromArray(maskedImage)\n",
    "mask_sitk = sitk.GetImageFromArray(maskBinary)\n",
    "\n",
    "# Ensure the image and mask have the correct dimensions (2D)\n",
    "image_sitk.SetSpacing((1.0, 1.0))  # Set a dummy spacing if needed\n",
    "mask_sitk.SetSpacing((1.0, 1.0))   # Set a dummy spacing if needed\n",
    "\n",
    "# Create a feature extractor\n",
    "extractor = featureextractor.RadiomicsFeatureExtractor()\n",
    "\n",
    "features = extractor.execute(image_sitk, mask_sitk)\n",
    "features"
   ]
  },
  {
   "cell_type": "code",
   "execution_count": 9,
   "metadata": {},
   "outputs": [
    {
     "data": {
      "image/png": "[encoded data removed]",
      "text/plain": [
       "<Figure size 720x288 with 3 Axes>"
      ]
     },
     "metadata": {
      "needs_background": "light"
     },
     "output_type": "display_data"
    },
    {
     "name": "stdout",
     "output_type": "stream",
     "text": [
      "Mean pixel value in masked region: 20.99\n",
      "Mean pixel value in original imagae: 19.79\n"
     ]
    }
   ],
   "source": [
    "import numpy as np\n",
    "import matplotlib.pyplot as plt\n",
    "from PIL import Image\n",
    "\n",
    "im_path_png = r'C:\\Users\\rckyh\\Desktop\\repo\\kidney_ped\\kidney\\images\\raw\\100__Still_images_5376_IM-0001-0023_masked.png'\n",
    "mask_path_png = r'C:\\Users\\rckyh\\Desktop\\repo\\kidney_ped\\kidney\\images\\masks\\100__Still_images_5376_IM-0001-0023_cortex_segmentation.png'\n",
    "\n",
    "# Step 1: Load image and mask\n",
    "im = np.array(Image.open(im_path_png).convert('L'))   # Convert to grayscale\n",
    "mask = np.array(Image.open(mask_path_png).convert('L'))\n",
    "\n",
    "# Step 2: Normalize mask to 0 and 1\n",
    "mask_binary = (mask > 0).astype(np.uint8)  # Converts non-zero values to 1 and zero to 0\n",
    "\n",
    "# Step 3: Apply mask to extract only the masked region\n",
    "masked_image = im * mask_binary\n",
    "\n",
    "# Step 4: Display\n",
    "plt.figure(figsize=(10,4))\n",
    "\n",
    "plt.subplot(1,3,1)\n",
    "plt.imshow(im, cmap='gray')\n",
    "plt.title('Original Image')\n",
    "plt.axis('off')\n",
    "\n",
    "plt.subplot(1,3,2)\n",
    "plt.imshow(mask_binary, cmap='gray')\n",
    "plt.title('Normalized Mask (0-1)')\n",
    "plt.axis('off')\n",
    "\n",
    "plt.subplot(1,3,3)\n",
    "plt.imshow(masked_image, cmap='gray')\n",
    "plt.title('Masked Image')\n",
    "plt.axis('off')\n",
    "\n",
    "plt.tight_layout()\n",
    "plt.show()\n",
    "\n",
    "# Step 5: Compute mean of masked region (non-zero mask)\n",
    "masked_values = im[mask_binary == 1]\n",
    "mean_val = masked_values.mean()\n",
    "mean_val_original = im.mean()\n",
    "print(f\"Mean pixel value in masked region: {mean_val:.2f}\")\n",
    "print(f\"Mean pixel value in original imagae: {mean_val_original:.2f}\")"
   ]
  },
  {
   "cell_type": "code",
   "execution_count": null,
   "metadata": {},
   "outputs": [],
   "source": [
    "im_path_NRRD = r'C:\\Users\\rckyh\\Desktop\\repo\\kidney_ped\\kidney\\images\\masks\\nrrdFiles\\1__Still images_IM-0001-0020_cortex_segmentation_mask_1.nrrd'\n",
    "mask_path_NRRD = r'C:\\Users\\rckyh\\Desktop\\repo\\kidney_ped\\kidney\\images\\raw\\nrrdFiles\\1__Still images_IM-0001-0020_masked.nrrd'\n",
    "\n",
    "image = sitk.ReadImage(im_path_NRRD)\n",
    "mask = sitk.ReadImage(mask_path_NRRD)\n",
    "\n",
    "# Convert mask to binary (0 and 1)\n",
    "mask = sitk.BinaryThreshold(mask, lowerThreshold=1, upperThreshold=255, insideValue=1, outsideValue=0)\n",
    "\n",
    "# Convert images to numpy arrays\n",
    "image_array = sitk.GetArrayFromImage(image)\n",
    "mask_array = sitk.GetArrayFromImage(mask)\n",
    "\n",
    "# If the image is 3D, use the first slice for visualization\n",
    "image_array_2d = image_array[0] if image_array.ndim > 2 else image_array\n",
    "mask_array_2d = mask_array[0] if mask_array.ndim > 2 else mask_array\n",
    "\n",
    "# Mask the image\n",
    "masked_image_array = image_array_2d * mask_array_2d\n",
    "\n",
    "# Plot the original image, mask, and masked overlay\n",
    "fig, axes = plt.subplots(1, 3, figsize=(15, 5))\n",
    "\n",
    "# Display original image\n",
    "axes[0].imshow(image_array_2d, cmap='gray')\n",
    "axes[0].set_title('Original Image')\n",
    "axes[0].axis('off')\n",
    "\n",
    "# Display mask\n",
    "axes[1].imshow(mask_array_2d, cmap='gray')\n",
    "axes[1].set_title('Mask')\n",
    "axes[1].axis('off')\n",
    "\n",
    "# Display masked overlay\n",
    "axes[2].imshow(masked_image_array, cmap='gray')\n",
    "axes[2].set_title('Masked Overlay')\n",
    "axes[2].axis('off')\n",
    "\n",
    "plt.tight_layout()\n",
    "plt.show()\n",
    "\n",
    "# Compute mean of masked region\n",
    "masked_values = masked_image_array[mask_array_2d == 1]\n",
    "mean_masked_value = np.mean(masked_values)\n",
    "\n",
    "print(f\"Mean of the masked region: {mean_masked_value}\")\n"
   ]
  },
  {
   "cell_type": "code",
   "execution_count": null,
   "metadata": {},
   "outputs": [],
   "source": []
  }
 ],
 "metadata": {
  "kernelspec": {
   "display_name": "Python 3",
   "language": "python",
   "name": "python3"
  },
  "language_info": {
   "codemirror_mode": {
    "name": "ipython",
    "version": 3
   },
   "file_extension": ".py",
   "mimetype": "text/x-python",
   "name": "python",
   "nbconvert_exporter": "python",
   "pygments_lexer": "ipython3",
   "version": "3.7.9"
  }
 },
 "nbformat": 4,
 "nbformat_minor": 4
}
